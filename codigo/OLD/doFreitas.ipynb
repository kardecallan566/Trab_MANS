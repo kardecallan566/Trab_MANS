{
 "cells": [
  {
   "cell_type": "markdown",
   "id": "d9fe5c75-8b76-4f33-b8d3-793a97de116c",
   "metadata": {},
   "source": [
    "# Trabalho Final"
   ]
  },
  {
   "cell_type": "markdown",
   "id": "e850f84f-4624-4e83-ba23-90b504b3f0d7",
   "metadata": {},
   "source": [
    "## Imports"
   ]
  },
  {
   "cell_type": "code",
   "execution_count": 1,
   "id": "54a33a00-c7a7-4b65-a781-7171c344ba80",
   "metadata": {},
   "outputs": [],
   "source": [
    "import itertools\n",
    "import pandas as pd\n",
    "import numpy as np\n",
    "import IPython\n",
    "import random\n",
    "\n",
    "pd.set_option('display.max_colwidth', None)"
   ]
  },
  {
   "cell_type": "markdown",
   "id": "b1bcc401-d965-403c-8332-cf7f973f431f",
   "metadata": {},
   "source": [
    "## Functions"
   ]
  },
  {
   "cell_type": "code",
   "execution_count": 2,
   "id": "a8b88821-69de-4016-ad27-129381f6e130",
   "metadata": {},
   "outputs": [],
   "source": [
    "# Respetivo tempo de cada Tarefa\n",
    "Inicio = {'T1':38, 'T2':33, 'T3':36, 'T4':20, 'T5':32, 'T6':29, 'T7':46, 'T8':38, 'T9':34, 'T10':40}\n",
    "\n",
    "# Coluna (Respetiva máquina e qual ordem da tarefa)\n",
    "colunas = [\"M1_T1\", \"M1_T2\", \"M1_T3\", \"M1_T4\", \"M2_T1\", \"M2_T2\", \"M2_T3\", \"M3_T1\", \"M3_T2\", \"M3_T3\"]"
   ]
  },
  {
   "cell_type": "code",
   "execution_count": 3,
   "id": "eecbf74b-6615-46fc-b7de-ef118222d5fb",
   "metadata": {},
   "outputs": [],
   "source": [
    "def DemoraMaquina(df_permutations):\n",
    "    df_permutations[\"Maq1\"] = df_permutations[[\"M1_T1\", \"M1_T2\", \"M1_T3\", \"M1_T4\"]].apply(lambda row: sum(Inicio.get(valor) for valor in row), axis=1)\n",
    "    df_permutations[\"Maq2\"] = df_permutations[[\"M2_T1\", \"M2_T2\", \"M2_T3\"]].apply(lambda row: sum(Inicio.get(valor) for valor in row), axis=1)\n",
    "    df_permutations[\"Maq3\"] = df_permutations[[\"M3_T1\", \"M3_T2\", \"M3_T3\"]].apply(lambda row: sum(Inicio.get(valor) for valor in row), axis=1)\n",
    "    df_permutations[\"MaquinaDemora\"] = df_permutations[[\"Maq1\", \"Maq2\", \"Maq3\"]].max(axis=1)\n",
    "    df_permutations.drop([\"Maq1\", \"Maq2\", \"Maq3\"], axis=1, inplace=True)"
   ]
  },
  {
   "cell_type": "code",
   "execution_count": 4,
   "id": "c357385f-ce73-402e-8668-5b4e3e66ea37",
   "metadata": {},
   "outputs": [],
   "source": [
    "def RespeitaRestricao(df_permutations):    \n",
    "    df_permutations[\"Soma_M1\"] = 0\n",
    "    df_permutations[\"Soma_M2\"] = 0\n",
    "    df_permutations[\"Soma_M3\"] = 0\n",
    "\n",
    "    for index, row in df_permutations.iterrows():\n",
    "        soma_m1 = 0\n",
    "        m1_critico = 0\n",
    "        m1_iterado = 0\n",
    "        soma_m2 = 0\n",
    "        m2_critico = 0\n",
    "        m2_iterado = 0\n",
    "        soma_m3 = 0\n",
    "        m3_critico = 0\n",
    "        m3_iterado = 0\n",
    "\n",
    "        for i in range(1, 5):\n",
    "            tarefa_m1 = row[f\"M1_T{i}\"]\n",
    "            if tarefa_m1 in [\"T3\", \"T4\", \"T5\"]:\n",
    "                m1_critico += 1\n",
    "                soma_m1 += m1_iterado\n",
    "                soma_m1 += Inicio.get(tarefa_m1)\n",
    "                m1_iterado = 0\n",
    "            else:\n",
    "                m1_iterado += Inicio.get(tarefa_m1, 0)\n",
    "        if m1_critico == 0:\n",
    "            soma_m1 = 0\n",
    "\n",
    "        for i in range(1, 4):\n",
    "            tarefa_m2 = row[f\"M2_T{i}\"]\n",
    "            if tarefa_m2 in [\"T3\", \"T4\", \"T5\"]:\n",
    "                m2_critico += 1\n",
    "                soma_m2 *= m2_iterado\n",
    "                soma_m2 += Inicio.get(tarefa_m2)\n",
    "                m2_iterado = 0\n",
    "            else:\n",
    "                m2_iterado += Inicio.get(tarefa_m1, 0)\n",
    "        if m2_critico == 0:\n",
    "            soma_m2 = 0\n",
    "\n",
    "        for i in range(1, 4):\n",
    "            tarefa_m3 = row[f\"M3_T{i}\"]\n",
    "            if tarefa_m3 in [\"T3\", \"T4\", \"T5\"]:\n",
    "                m3_critico += 1\n",
    "                soma_m3 += m3_iterado\n",
    "                soma_m3 += Inicio.get(tarefa_m3)\n",
    "                m3_iterado = 0\n",
    "            else:\n",
    "                m3_iterado += Inicio.get(tarefa_m1, 0)\n",
    "        if m3_critico == 0:\n",
    "            soma_m3 = 0\n",
    "\n",
    "        df_permutations.at[index, \"Soma_M1\"] = soma_m1\n",
    "        df_permutations.at[index, \"Soma_M2\"] = soma_m2\n",
    "        df_permutations.at[index, \"Soma_M3\"] = soma_m3\n",
    "    df_permutations[\"Maior_Soma\"] = df_permutations[[\"Soma_M1\", \"Soma_M2\", \"Soma_M3\"]].max(axis=1)\n",
    "    df_permutations[\"Restrição Respeitada?\"] = df_permutations[\"Maior_Soma\"] <= 96\n",
    "\n",
    "    df_permutations.drop([\"Soma_M1\", \"Soma_M2\", \"Soma_M3\", \"Maior_Soma\"], axis=1, inplace=True)"
   ]
  },
  {
   "cell_type": "code",
   "execution_count": 5,
   "id": "7a9b7898-d105-48dc-ab03-7336424a69f2",
   "metadata": {},
   "outputs": [],
   "source": [
    "def verificar_cromossomo(cromossomo):\n",
    "    tarefas_unicas = set(cromossomo)  # Remove duplicatas das tarefas\n",
    "    if len(tarefas_unicas) == len(cromossomo):  # Verifica se todas as tarefas são únicas\n",
    "        return True\n",
    "    else:\n",
    "        return False"
   ]
  },
  {
   "cell_type": "code",
   "execution_count": 6,
   "id": "87ac2152-55f3-4a52-80af-ba2b35a5b67b",
   "metadata": {},
   "outputs": [],
   "source": [
    "def verificar_cromossomo2(df):\n",
    "    df['Cromossoma Admissivel?'] = df.apply(lambda row: len(set(row[:10])) == 10, axis=1)\n",
    "    return df"
   ]
  },
  {
   "cell_type": "markdown",
   "id": "cc0e49f9-acae-4df3-ad33-a2a1c18df086",
   "metadata": {},
   "source": [
    "## Pergunta a)"
   ]
  },
  {
   "cell_type": "markdown",
   "id": "63bc5c48-6b0e-489c-8637-196e5653fa98",
   "metadata": {},
   "source": [
    "**Neste pergunta será referida uma heurística possível para se aplicar neste problema**"
   ]
  },
  {
   "cell_type": "markdown",
   "id": "ec70ca5a-852c-4eba-a960-7a0fb9876cb4",
   "metadata": {},
   "source": [
    "1. Iremos atribuir as 3 tarefas críticas (T3, T4, T5), a cada uma das máquinas, a fim de se conseguir realizar o prazo o mais rápido possivel\n",
    "2. De seguida, será colocado a tarefa mais rápida na máquina com mais tarefas\n",
    "3. Por fim, serão atribuidos aleatoriamente as restantes tarefas"
   ]
  },
  {
   "cell_type": "code",
   "execution_count": 7,
   "id": "a54380f8-a0d2-4109-b6d5-685709b30032",
   "metadata": {},
   "outputs": [
    {
     "data": {
      "image/png": "[encoded data removed]",
      "text/plain": [
       "<Figure size 640x480 with 1 Axes>"
      ]
     },
     "metadata": {},
     "output_type": "display_data"
    }
   ],
   "source": [
    "import matplotlib.pyplot as plt\n",
    "import numpy as np\n",
    "\n",
    "Inicio = {'T1': 38, 'T2': 33, 'T3': 36, 'T4': 20, 'T5': 32, 'T6': 29, 'T7': 46, 'T8': 38, 'T9': 34, 'T10': 40}\n",
    "Heuristica = [\"T3\", \"T6\", \"T2\", \"T9\", \"T4\", \"T7\", \"T1\", \"T5\", \"T8\", \"T10\"]\n",
    "\n",
    "# Definir uma paleta de cores personalizada\n",
    "cores = [\"#1f77b4\", \"#ff7f0e\", \"#2ca02c\", \"#d62728\", \"#9467bd\", \"#8c564b\", \"#e377c2\", \"#7f7f7f\", \"#bcbd22\", \"#17becf\"]\n",
    "\n",
    "# Calcular a soma dos valores de Inicio para cada máquina\n",
    "somas_m1 = []\n",
    "somas_m2 = []\n",
    "somas_m3 = []\n",
    "separadores = []\n",
    "\n",
    "for tarefa in Heuristica:\n",
    "    valor = Inicio.get(tarefa, 0)\n",
    "    if tarefa in [\"T3\", \"T4\", \"T5\"]:\n",
    "        somas_m1.append(valor)\n",
    "        somas_m2.append(0)\n",
    "        somas_m3.append(0)\n",
    "    elif tarefa in [\"T1\", \"T2\", \"T6\"]:\n",
    "        somas_m1.append(0)\n",
    "        somas_m2.append(valor)\n",
    "        somas_m3.append(0)\n",
    "    else:\n",
    "        somas_m1.append(0)\n",
    "        somas_m2.append(0)\n",
    "        somas_m3.append(valor)\n",
    "    separadores.append(0)  # Adicionar o valor 0 para separar as tarefas\n",
    "\n",
    "# Configurar as cores para cada tarefa\n",
    "cores_tarefas = [cores[i % len(cores)] for i in range(len(Heuristica))]\n",
    "\n",
    "# Criar a figura e os eixos do gráfico\n",
    "fig, ax = plt.subplots()\n",
    "\n",
    "# Plotar as barras do gráfico\n",
    "ax.bar(np.arange(len(Heuristica)), somas_m1, color=cores_tarefas)\n",
    "ax.bar(np.arange(len(Heuristica)), somas_m2, bottom=somas_m1, color=cores_tarefas)\n",
    "ax.bar(np.arange(len(Heuristica)), somas_m3, bottom=np.add(somas_m1, somas_m2), color=cores_tarefas)\n",
    "\n",
    "# Adicionar a linha separadora entre as tarefas\n",
    "ax.plot(np.arange(len(Heuristica)), separadores, color='black', linewidth=0.5)\n",
    "\n",
    "# Configurar o xlabel e ylabel\n",
    "ax.set_xlabel(\"Tarefas\")\n",
    "ax.set_ylabel(\"Tempo das Tarefas\")\n",
    "\n",
    "# Configurar o título do gráfico\n",
    "ax.set_title(\"Gráfico de Barras das Tarefa\")\n",
    "\n",
    "# Mostrar o gráfico\n",
    "plt.show()"
   ]
  },
  {
   "cell_type": "markdown",
   "id": "428f7513-6890-4a74-80d7-91b2434a1cf9",
   "metadata": {},
   "source": [
    "## Pergunta b)"
   ]
  },
  {
   "cell_type": "code",
   "execution_count": 8,
   "id": "892b073f-58f4-4888-a946-5d27c525d81e",
   "metadata": {},
   "outputs": [],
   "source": [
    "Heuristica = [\"T3\", \"T6\", \"T2\", \"T9\", \"T4\", \"T7\", \"T1\", \"T5\", \"T8\", \"T10\"]"
   ]
  },
  {
   "cell_type": "code",
   "execution_count": 9,
   "id": "86849ed7-97fb-46be-99f2-a45a3f888d6c",
   "metadata": {},
   "outputs": [
    {
     "data": {
      "text/html": [
       "<div>\n",
       "<style scoped>\n",
       "    .dataframe tbody tr th:only-of-type {\n",
       "        vertical-align: middle;\n",
       "    }\n",
       "\n",
       "    .dataframe tbody tr th {\n",
       "        vertical-align: top;\n",
       "    }\n",
       "\n",
       "    .dataframe thead th {\n",
       "        text-align: right;\n",
       "    }\n",
       "</style>\n",
       "<table border=\"1\" class=\"dataframe\">\n",
       "  <thead>\n",
       "    <tr style=\"text-align: right;\">\n",
       "      <th></th>\n",
       "      <th>M1_T1</th>\n",
       "      <th>M1_T2</th>\n",
       "      <th>M1_T3</th>\n",
       "      <th>M1_T4</th>\n",
       "      <th>M2_T1</th>\n",
       "      <th>M2_T2</th>\n",
       "      <th>M2_T3</th>\n",
       "      <th>M3_T1</th>\n",
       "      <th>M3_T2</th>\n",
       "      <th>M3_T3</th>\n",
       "    </tr>\n",
       "  </thead>\n",
       "  <tbody>\n",
       "    <tr>\n",
       "      <th>0</th>\n",
       "      <td>T3</td>\n",
       "      <td>T6</td>\n",
       "      <td>T2</td>\n",
       "      <td>T9</td>\n",
       "      <td>T4</td>\n",
       "      <td>T7</td>\n",
       "      <td>T1</td>\n",
       "      <td>T5</td>\n",
       "      <td>T8</td>\n",
       "      <td>T10</td>\n",
       "    </tr>\n",
       "  </tbody>\n",
       "</table>\n",
       "</div>"
      ],
      "text/plain": [
       "  M1_T1 M1_T2 M1_T3 M1_T4 M2_T1 M2_T2 M2_T3 M3_T1 M3_T2 M3_T3\n",
       "0    T3    T6    T2    T9    T4    T7    T1    T5    T8   T10"
      ]
     },
     "execution_count": 9,
     "metadata": {},
     "output_type": "execute_result"
    }
   ],
   "source": [
    "df_heuristica = pd.DataFrame([Heuristica], columns=colunas)\n",
    "df_heuristica"
   ]
  },
  {
   "cell_type": "code",
   "execution_count": 10,
   "id": "51d92aa0-f3ee-481b-8a11-499e229359de",
   "metadata": {},
   "outputs": [
    {
     "data": {
      "text/html": [
       "<div>\n",
       "<style scoped>\n",
       "    .dataframe tbody tr th:only-of-type {\n",
       "        vertical-align: middle;\n",
       "    }\n",
       "\n",
       "    .dataframe tbody tr th {\n",
       "        vertical-align: top;\n",
       "    }\n",
       "\n",
       "    .dataframe thead th {\n",
       "        text-align: right;\n",
       "    }\n",
       "</style>\n",
       "<table border=\"1\" class=\"dataframe\">\n",
       "  <thead>\n",
       "    <tr style=\"text-align: right;\">\n",
       "      <th></th>\n",
       "      <th>M1_T1</th>\n",
       "      <th>M1_T2</th>\n",
       "      <th>M1_T3</th>\n",
       "      <th>M1_T4</th>\n",
       "      <th>M2_T1</th>\n",
       "      <th>M2_T2</th>\n",
       "      <th>M2_T3</th>\n",
       "      <th>M3_T1</th>\n",
       "      <th>M3_T2</th>\n",
       "      <th>M3_T3</th>\n",
       "      <th>MaquinaDemora</th>\n",
       "      <th>Restrição Respeitada?</th>\n",
       "    </tr>\n",
       "  </thead>\n",
       "  <tbody>\n",
       "    <tr>\n",
       "      <th>0</th>\n",
       "      <td>T3</td>\n",
       "      <td>T6</td>\n",
       "      <td>T2</td>\n",
       "      <td>T9</td>\n",
       "      <td>T4</td>\n",
       "      <td>T7</td>\n",
       "      <td>T1</td>\n",
       "      <td>T5</td>\n",
       "      <td>T8</td>\n",
       "      <td>T10</td>\n",
       "      <td>132</td>\n",
       "      <td>True</td>\n",
       "    </tr>\n",
       "  </tbody>\n",
       "</table>\n",
       "</div>"
      ],
      "text/plain": [
       "  M1_T1 M1_T2 M1_T3 M1_T4 M2_T1 M2_T2 M2_T3 M3_T1 M3_T2 M3_T3  MaquinaDemora  \\\n",
       "0    T3    T6    T2    T9    T4    T7    T1    T5    T8   T10            132   \n",
       "\n",
       "   Restrição Respeitada?  \n",
       "0                   True  "
      ]
     },
     "execution_count": 10,
     "metadata": {},
     "output_type": "execute_result"
    }
   ],
   "source": [
    "df_permutations = df_heuristica.copy()\n",
    "DemoraMaquina(df_permutations)\n",
    "RespeitaRestricao(df_permutations)\n",
    "df_permutations"
   ]
  },
  {
   "cell_type": "code",
   "execution_count": 11,
   "id": "f4724e30-df87-49eb-9a6f-e70b2945d9e8",
   "metadata": {},
   "outputs": [
    {
     "name": "stdout",
     "output_type": "stream",
     "text": [
      "=================================================================\n",
      " ⚫ A \u001b[1mmáquina 1\u001b[0m possui a \u001b[1mtarefaT3\u001b[0m, que possui uma \u001b[1mduração de 36\u001b[0m\n",
      " ⚫ A \u001b[1mmáquina 1\u001b[0m possui a \u001b[1mtarefaT6\u001b[0m, que possui uma \u001b[1mduração de 29\u001b[0m\n",
      " ⚫ A \u001b[1mmáquina 1\u001b[0m possui a \u001b[1mtarefaT2\u001b[0m, que possui uma \u001b[1mduração de 33\u001b[0m\n",
      " ⚫ A \u001b[1mmáquina 1\u001b[0m possui a \u001b[1mtarefaT9\u001b[0m, que possui uma \u001b[1mduração de 34\u001b[0m\n",
      " ⚫ A \u001b[1mmáquina 2\u001b[0m possui a \u001b[1mtarefaT4\u001b[0m, que possui uma \u001b[1mduração de 20\u001b[0m\n",
      " ⚫ A \u001b[1mmáquina 2\u001b[0m possui a \u001b[1mtarefaT7\u001b[0m, que possui uma \u001b[1mduração de 46\u001b[0m\n",
      " ⚫ A \u001b[1mmáquina 2\u001b[0m possui a \u001b[1mtarefaT1\u001b[0m, que possui uma \u001b[1mduração de 38\u001b[0m\n",
      " ⚫ A \u001b[1mmáquina 3\u001b[0m possui a \u001b[1mtarefaT5\u001b[0m, que possui uma \u001b[1mduração de 32\u001b[0m\n",
      " ⚫ A \u001b[1mmáquina 3\u001b[0m possui a \u001b[1mtarefaT8\u001b[0m, que possui uma \u001b[1mduração de 38\u001b[0m\n",
      " ⚫ A \u001b[1mmáquina 3\u001b[0m possui a \u001b[1mtarefaT10\u001b[0m, que possui uma \u001b[1mduração de 40\u001b[0m\n",
      " ⚫ A \u001b[1mmáquina 3\u001b[0m possui a \u001b[1mtarefa132\u001b[0m, que possui uma \u001b[1mduração de None\u001b[0m\n",
      " ⚫ A \u001b[1mmáquina 3\u001b[0m possui a \u001b[1mtarefaTrue\u001b[0m, que possui uma \u001b[1mduração de None\u001b[0m\n",
      "=================================================================\n"
     ]
    }
   ],
   "source": [
    "print(\"=================================================================\")\n",
    "for coluna in df_permutations.columns[:4]:\n",
    "    primeira_linha = df_permutations[coluna].iloc[0]\n",
    "    print(f\" ⚫ A \\033[1mmáquina 1\\033[0m possui a \\033[1mtarefa{primeira_linha}\\033[0m, que possui uma \\033[1mduração de {Inicio.get(primeira_linha)}\\033[0m\")\n",
    "for coluna in df_permutations.columns[4:7]:\n",
    "    primeira_linha = df_permutations[coluna].iloc[0]\n",
    "    print(f\" ⚫ A \\033[1mmáquina 2\\033[0m possui a \\033[1mtarefa{primeira_linha}\\033[0m, que possui uma \\033[1mduração de {Inicio.get(primeira_linha)}\\033[0m\")\n",
    "for coluna in df_permutations.columns[7:]:\n",
    "    primeira_linha = df_permutations[coluna].iloc[0]\n",
    "    print(f\" ⚫ A \\033[1mmáquina 3\\033[0m possui a \\033[1mtarefa{primeira_linha}\\033[0m, que possui uma \\033[1mduração de {Inicio.get(primeira_linha)}\\033[0m\")\n",
    "print(\"=================================================================\")"
   ]
  },
  {
   "cell_type": "markdown",
   "id": "cf458f34-c25e-4156-aa19-b81de06f2907",
   "metadata": {},
   "source": [
    "É possível visualizar que a restrição foi respeitada"
   ]
  },
  {
   "cell_type": "markdown",
   "id": "8573025b-e0e4-4ede-8828-8bb7a4fc9f80",
   "metadata": {},
   "source": [
    "## Pergunta c)"
   ]
  },
  {
   "cell_type": "code",
   "execution_count": 12,
   "id": "2fa8593b-5922-4465-a708-14f14d7140e0",
   "metadata": {},
   "outputs": [
    {
     "name": "stdout",
     "output_type": "stream",
     "text": [
      "['T3', 'T6', 'T2', 'T9', 'T4', 'T7', 'T1', 'T5', 'T8', 'T10']\n"
     ]
    }
   ],
   "source": [
    "Cromossoma = '[' + ', '.join([f\"'{valor}'\" for valor in Heuristica]) + ']'\n",
    "print(Cromossoma)"
   ]
  },
  {
   "cell_type": "markdown",
   "id": "53f4d373-47be-49c5-af99-aac385b3f3e6",
   "metadata": {},
   "source": [
    "Nota:\n",
    "- As 4 primeiras tarefas correspondem à máquina 1\n",
    "- Da 5 à 7 tarefas correspondem à máquina 2\n",
    "- As restantes tarefas correspondem à máquina 3"
   ]
  },
  {
   "cell_type": "markdown",
   "id": "fc0be1fd-8b46-45cd-b252-c7338e1382a3",
   "metadata": {},
   "source": [
    "## Pergunta d)"
   ]
  },
  {
   "cell_type": "markdown",
   "id": "f8b4cd90-687d-441b-a3fe-33661f1e7b98",
   "metadata": {},
   "source": [
    "**Operador de cromossoma**"
   ]
  },
  {
   "cell_type": "markdown",
   "id": "fab28937-0b56-4e96-a93b-6bf8ef9fdfd9",
   "metadata": {},
   "source": [
    "### Crossover Uniforme"
   ]
  },
  {
   "cell_type": "code",
   "execution_count": 33,
   "id": "0c9dd1d8-6775-4dcd-9f78-188fe73913e6",
   "metadata": {},
   "outputs": [],
   "source": [
    "import random\n",
    "import copy\n",
    "\n",
    "heuristica = [\"T3\", \"T6\", \"T2\", \"T9\", \"T4\", \"T7\", \"T1\", \"T5\", \"T8\", \"T10\"]\n",
    "\n",
    "def CrossUniforme(heuristica):\n",
    "    pai1 = copy.deepcopy(heuristica)\n",
    "    pai2 = copy.deepcopy(heuristica)\n",
    "    random.shuffle(pai2)\n",
    "\n",
    "    filho1 = []\n",
    "    filho2 = []\n",
    "\n",
    "    for i in range(len(heuristica)):\n",
    "        if random.random() < 0.5:  # Seleciona aleatoriamente entre os pais\n",
    "            filho1.append(pai1[i])\n",
    "            filho2.append(pai2[i])\n",
    "        else:\n",
    "            filho1.append(pai2[i])\n",
    "            filho2.append(pai1[i])\n",
    "    return filho1, filho2\n",
    "\n",
    "filho1, filho2 = CrossUniforme(heuristica)"
   ]
  },
  {
   "cell_type": "code",
   "execution_count": 34,
   "id": "d258c13a-9308-4bbc-a8f7-1706426b0932",
   "metadata": {},
   "outputs": [
    {
     "data": {
      "text/html": [
       "<div>\n",
       "<style scoped>\n",
       "    .dataframe tbody tr th:only-of-type {\n",
       "        vertical-align: middle;\n",
       "    }\n",
       "\n",
       "    .dataframe tbody tr th {\n",
       "        vertical-align: top;\n",
       "    }\n",
       "\n",
       "    .dataframe thead th {\n",
       "        text-align: right;\n",
       "    }\n",
       "</style>\n",
       "<table border=\"1\" class=\"dataframe\">\n",
       "  <thead>\n",
       "    <tr style=\"text-align: right;\">\n",
       "      <th></th>\n",
       "      <th>M1_T1</th>\n",
       "      <th>M1_T2</th>\n",
       "      <th>M1_T3</th>\n",
       "      <th>M1_T4</th>\n",
       "      <th>M2_T1</th>\n",
       "      <th>M2_T2</th>\n",
       "      <th>M2_T3</th>\n",
       "      <th>M3_T1</th>\n",
       "      <th>M3_T2</th>\n",
       "      <th>M3_T3</th>\n",
       "      <th>MaquinaDemora</th>\n",
       "      <th>Restrição Respeitada?</th>\n",
       "      <th>Cromossoma Admissivel?</th>\n",
       "    </tr>\n",
       "  </thead>\n",
       "  <tbody>\n",
       "    <tr>\n",
       "      <th>0</th>\n",
       "      <td>T3</td>\n",
       "      <td>T8</td>\n",
       "      <td>T7</td>\n",
       "      <td>T9</td>\n",
       "      <td>T4</td>\n",
       "      <td>T4</td>\n",
       "      <td>T1</td>\n",
       "      <td>T2</td>\n",
       "      <td>T8</td>\n",
       "      <td>T10</td>\n",
       "      <td>154</td>\n",
       "      <td>True</td>\n",
       "      <td>False</td>\n",
       "    </tr>\n",
       "    <tr>\n",
       "      <th>1</th>\n",
       "      <td>T5</td>\n",
       "      <td>T6</td>\n",
       "      <td>T2</td>\n",
       "      <td>T6</td>\n",
       "      <td>T1</td>\n",
       "      <td>T7</td>\n",
       "      <td>T10</td>\n",
       "      <td>T5</td>\n",
       "      <td>T9</td>\n",
       "      <td>T3</td>\n",
       "      <td>124</td>\n",
       "      <td>False</td>\n",
       "      <td>False</td>\n",
       "    </tr>\n",
       "  </tbody>\n",
       "</table>\n",
       "</div>"
      ],
      "text/plain": [
       "  M1_T1 M1_T2 M1_T3 M1_T4 M2_T1 M2_T2 M2_T3 M3_T1 M3_T2 M3_T3  MaquinaDemora  \\\n",
       "0    T3    T8    T7    T9    T4    T4    T1    T2    T8   T10            154   \n",
       "1    T5    T6    T2    T6    T1    T7   T10    T5    T9    T3            124   \n",
       "\n",
       "   Restrição Respeitada?  Cromossoma Admissivel?  \n",
       "0                   True                   False  \n",
       "1                  False                   False  "
      ]
     },
     "execution_count": 34,
     "metadata": {},
     "output_type": "execute_result"
    }
   ],
   "source": [
    "df_filhos = pd.DataFrame()\n",
    "\n",
    "for i, coluna in enumerate(df_heuristica.columns):\n",
    "    df_filhos[coluna] = [filho1[i], filho2[i]]\n",
    "DemoraMaquina(df_filhos)\n",
    "RespeitaRestricao(df_filhos)\n",
    "verificar_cromossomo2(df_filhos)\n",
    "df_filhos"
   ]
  },
  {
   "cell_type": "code",
   "execution_count": 15,
   "id": "bc05d9d1-fce4-4253-899b-8e2109e9cff5",
   "metadata": {},
   "outputs": [
    {
     "data": {
      "text/html": [
       "<div>\n",
       "<style scoped>\n",
       "    .dataframe tbody tr th:only-of-type {\n",
       "        vertical-align: middle;\n",
       "    }\n",
       "\n",
       "    .dataframe tbody tr th {\n",
       "        vertical-align: top;\n",
       "    }\n",
       "\n",
       "    .dataframe thead th {\n",
       "        text-align: right;\n",
       "    }\n",
       "</style>\n",
       "<table border=\"1\" class=\"dataframe\">\n",
       "  <thead>\n",
       "    <tr style=\"text-align: right;\">\n",
       "      <th></th>\n",
       "      <th>M1_T1</th>\n",
       "      <th>M1_T2</th>\n",
       "      <th>M1_T3</th>\n",
       "      <th>M1_T4</th>\n",
       "      <th>M2_T1</th>\n",
       "      <th>M2_T2</th>\n",
       "      <th>M2_T3</th>\n",
       "      <th>M3_T1</th>\n",
       "      <th>M3_T2</th>\n",
       "      <th>M3_T3</th>\n",
       "      <th>MaquinaDemora</th>\n",
       "      <th>Restrição Respeitada?</th>\n",
       "      <th>Cromossoma Admissivel?</th>\n",
       "    </tr>\n",
       "  </thead>\n",
       "  <tbody>\n",
       "    <tr>\n",
       "      <th>0</th>\n",
       "      <td>T3</td>\n",
       "      <td>T5</td>\n",
       "      <td>T9</td>\n",
       "      <td>T9</td>\n",
       "      <td>T10</td>\n",
       "      <td>T7</td>\n",
       "      <td>T1</td>\n",
       "      <td>T6</td>\n",
       "      <td>T1</td>\n",
       "      <td>T10</td>\n",
       "      <td>136</td>\n",
       "      <td>True</td>\n",
       "      <td>False</td>\n",
       "    </tr>\n",
       "    <tr>\n",
       "      <th>1</th>\n",
       "      <td>T2</td>\n",
       "      <td>T6</td>\n",
       "      <td>T2</td>\n",
       "      <td>T8</td>\n",
       "      <td>T4</td>\n",
       "      <td>T7</td>\n",
       "      <td>T4</td>\n",
       "      <td>T5</td>\n",
       "      <td>T8</td>\n",
       "      <td>T3</td>\n",
       "      <td>133</td>\n",
       "      <td>False</td>\n",
       "      <td>False</td>\n",
       "    </tr>\n",
       "  </tbody>\n",
       "</table>\n",
       "</div>"
      ],
      "text/plain": [
       "  M1_T1 M1_T2 M1_T3 M1_T4 M2_T1 M2_T2 M2_T3 M3_T1 M3_T2 M3_T3  MaquinaDemora  \\\n",
       "0    T3    T5    T9    T9   T10    T7    T1    T6    T1   T10            136   \n",
       "1    T2    T6    T2    T8    T4    T7    T4    T5    T8    T3            133   \n",
       "\n",
       "   Restrição Respeitada?  Cromossoma Admissivel?  \n",
       "0                   True                   False  \n",
       "1                  False                   False  "
      ]
     },
     "execution_count": 15,
     "metadata": {},
     "output_type": "execute_result"
    }
   ],
   "source": [
    "df_filhos['Cromossoma Admissivel?'] = df_filhos.apply(lambda row: len(set(row[:10])) == 10, axis=1)\n",
    "df_filhos"
   ]
  },
  {
   "cell_type": "code",
   "execution_count": 16,
   "id": "4e21b6c4-69a8-4349-acc4-29083af15b3b",
   "metadata": {},
   "outputs": [
    {
     "data": {
      "text/plain": [
       "Index(['M1_T1', 'M1_T2', 'M1_T3', 'M1_T4', 'M2_T1', 'M2_T2', 'M2_T3', 'M3_T1',\n",
       "       'M3_T2', 'M3_T3'],\n",
       "      dtype='object')"
      ]
     },
     "execution_count": 16,
     "metadata": {},
     "output_type": "execute_result"
    }
   ],
   "source": [
    "df_heuristica.columns"
   ]
  },
  {
   "cell_type": "markdown",
   "id": "49dbd2b5-3968-4522-aae2-c4c7e080f2f7",
   "metadata": {},
   "source": [
    "### Crossover a 1 Ponto"
   ]
  },
  {
   "cell_type": "code",
   "execution_count": 17,
   "id": "2da70750-5863-47d2-984f-ca511e2f4f97",
   "metadata": {},
   "outputs": [],
   "source": [
    "Heuristica = [\"T3\", \"T6\", \"T2\", \"T9\", \"T4\", \"T7\", \"T1\", \"T5\", \"T8\", \"T10\"]"
   ]
  },
  {
   "cell_type": "code",
   "execution_count": 18,
   "id": "9d7de314-dcd6-4f15-952e-75fbecf902dd",
   "metadata": {},
   "outputs": [
    {
     "name": "stdout",
     "output_type": "stream",
     "text": [
      "K=4\n",
      "Filho 1: ['T3', 'T6', 'T2', 'T9', 'T1', 'T6', 'T5', 'T8', 'T7', 'T4']\n",
      "Filho 2: ['T9', 'T3', 'T2', 'T10', 'T4', 'T7', 'T1', 'T5', 'T8', 'T10']\n"
     ]
    }
   ],
   "source": [
    "def crossover_um_ponto(pai1, pai2):\n",
    "    ponto_corte = random.randint(1, len(pai1) - 1)\n",
    "    filho1 = pai1[:ponto_corte] + pai2[ponto_corte:]\n",
    "    filho2 = pai2[:ponto_corte] + pai1[ponto_corte:]\n",
    "    print(f\"K={ponto_corte}\")\n",
    "    return filho1, filho2\n",
    "\n",
    "pai1 = copy.deepcopy(heuristica)\n",
    "pai2 = copy.deepcopy(heuristica)\n",
    "random.shuffle(pai2)\n",
    "\n",
    "filho1, filho2 = crossover_um_ponto(pai1, pai2)\n",
    "print(\"Filho 1:\", filho1)\n",
    "print(\"Filho 2:\", filho2)"
   ]
  },
  {
   "cell_type": "code",
   "execution_count": 19,
   "id": "09519ceb-cc82-4156-aff6-5056c4dcd102",
   "metadata": {},
   "outputs": [
    {
     "data": {
      "text/html": [
       "<div>\n",
       "<style scoped>\n",
       "    .dataframe tbody tr th:only-of-type {\n",
       "        vertical-align: middle;\n",
       "    }\n",
       "\n",
       "    .dataframe tbody tr th {\n",
       "        vertical-align: top;\n",
       "    }\n",
       "\n",
       "    .dataframe thead th {\n",
       "        text-align: right;\n",
       "    }\n",
       "</style>\n",
       "<table border=\"1\" class=\"dataframe\">\n",
       "  <thead>\n",
       "    <tr style=\"text-align: right;\">\n",
       "      <th></th>\n",
       "      <th>M1_T1</th>\n",
       "      <th>M1_T2</th>\n",
       "      <th>M1_T3</th>\n",
       "      <th>M1_T4</th>\n",
       "      <th>M2_T1</th>\n",
       "      <th>M2_T2</th>\n",
       "      <th>M2_T3</th>\n",
       "      <th>M3_T1</th>\n",
       "      <th>M3_T2</th>\n",
       "      <th>M3_T3</th>\n",
       "      <th>MaquinaDemora</th>\n",
       "      <th>Restrição Respeitada?</th>\n",
       "      <th>Cromossoma Admissivel?</th>\n",
       "    </tr>\n",
       "  </thead>\n",
       "  <tbody>\n",
       "    <tr>\n",
       "      <th>0</th>\n",
       "      <td>T3</td>\n",
       "      <td>T6</td>\n",
       "      <td>T2</td>\n",
       "      <td>T9</td>\n",
       "      <td>T1</td>\n",
       "      <td>T6</td>\n",
       "      <td>T5</td>\n",
       "      <td>T8</td>\n",
       "      <td>T7</td>\n",
       "      <td>T4</td>\n",
       "      <td>132</td>\n",
       "      <td>True</td>\n",
       "      <td>False</td>\n",
       "    </tr>\n",
       "    <tr>\n",
       "      <th>1</th>\n",
       "      <td>T9</td>\n",
       "      <td>T3</td>\n",
       "      <td>T2</td>\n",
       "      <td>T10</td>\n",
       "      <td>T4</td>\n",
       "      <td>T7</td>\n",
       "      <td>T1</td>\n",
       "      <td>T5</td>\n",
       "      <td>T8</td>\n",
       "      <td>T10</td>\n",
       "      <td>143</td>\n",
       "      <td>True</td>\n",
       "      <td>False</td>\n",
       "    </tr>\n",
       "  </tbody>\n",
       "</table>\n",
       "</div>"
      ],
      "text/plain": [
       "  M1_T1 M1_T2 M1_T3 M1_T4 M2_T1 M2_T2 M2_T3 M3_T1 M3_T2 M3_T3  MaquinaDemora  \\\n",
       "0    T3    T6    T2    T9    T1    T6    T5    T8    T7    T4            132   \n",
       "1    T9    T3    T2   T10    T4    T7    T1    T5    T8   T10            143   \n",
       "\n",
       "   Restrição Respeitada?  Cromossoma Admissivel?  \n",
       "0                   True                   False  \n",
       "1                   True                   False  "
      ]
     },
     "execution_count": 19,
     "metadata": {},
     "output_type": "execute_result"
    }
   ],
   "source": [
    "df_filhos = pd.DataFrame()\n",
    "\n",
    "for i, coluna in enumerate(df_heuristica.columns):\n",
    "    df_filhos[coluna] = [filho1[i], filho2[i]]\n",
    "DemoraMaquina(df_filhos)\n",
    "RespeitaRestricao(df_filhos)\n",
    "verificar_cromossomo2(df_filhos)\n",
    "df_filhos"
   ]
  },
  {
   "cell_type": "markdown",
   "id": "b8ad1732-2399-465b-953f-751613f14f1d",
   "metadata": {},
   "source": [
    "## Pergunta e)"
   ]
  },
  {
   "cell_type": "markdown",
   "id": "9ce5c147-5f49-47e0-89f4-bfa141efc34d",
   "metadata": {},
   "source": [
    "**Operador de Mutação**"
   ]
  },
  {
   "cell_type": "markdown",
   "id": "4674be76-200c-4e01-8168-b534bc02d748",
   "metadata": {},
   "source": [
    "### Mutação por troca"
   ]
  },
  {
   "cell_type": "code",
   "execution_count": 52,
   "id": "70e1fda4-98a9-4d2b-aaad-2a096e9f7af0",
   "metadata": {},
   "outputs": [],
   "source": [
    "def mutacao_troca(cromossomo, probabilidade=.1):\n",
    "    cromossomo_mutado = copy.deepcopy(cromossomo)\n",
    "    \n",
    "    # Verificar se a mutação será aplicada com base na probabilidade\n",
    "    if random.random() < probabilidade:\n",
    "        # Selecionar aleatoriamente duas posições diferentes no cromossomo\n",
    "        posicao1 = random.randint(0, len(cromossomo)-1)\n",
    "        posicao2 = random.randint(0, len(cromossomo)-1)\n",
    "        \n",
    "        # Realizar a troca entre as duas posições\n",
    "        cromossomo_mutado[posicao1], cromossomo_mutado[posicao2] = cromossomo_mutado[posicao2], cromossomo_mutado[posicao1]\n",
    "    \n",
    "    return cromossomo_mutado"
   ]
  },
  {
   "cell_type": "code",
   "execution_count": 53,
   "id": "2f78d7c3-ff0f-4912-91d4-9b2bbb094176",
   "metadata": {},
   "outputs": [],
   "source": [
    "filho1, filho2 = CrossUniforme(heuristica)"
   ]
  },
  {
   "cell_type": "code",
   "execution_count": 54,
   "id": "4c56abfc-15a2-437f-840d-d5338a51eef0",
   "metadata": {},
   "outputs": [
    {
     "name": "stdout",
     "output_type": "stream",
     "text": [
      "['T3', 'T3', 'T4', 'T2', 'T4', 'T10', 'T1', 'T8', 'T8', 'T5'] \n",
      " ['T7', 'T6', 'T2', 'T9', 'T1', 'T7', 'T9', 'T5', 'T6', 'T10']\n"
     ]
    }
   ],
   "source": [
    "print(filho1, \"\\n\",filho2)"
   ]
  },
  {
   "cell_type": "code",
   "execution_count": 55,
   "id": "019d582b-c08e-4ab3-b145-7a8b2ecac6fe",
   "metadata": {},
   "outputs": [],
   "source": [
    "filho1 = mutacao_troca(filho1)\n",
    "filho2 = mutacao_troca(filho2)"
   ]
  },
  {
   "cell_type": "code",
   "execution_count": 57,
   "id": "babe1239-e31d-40e3-ab84-361bc754b88c",
   "metadata": {},
   "outputs": [
    {
     "name": "stdout",
     "output_type": "stream",
     "text": [
      "['T3', 'T3', 'T4', 'T2', 'T4', 'T10', 'T1', 'T8', 'T8', 'T5'] \n",
      " ['T7', 'T6', 'T2', 'T9', 'T1', 'T7', 'T9', 'T5', 'T6', 'T10']\n"
     ]
    }
   ],
   "source": [
    "print(filho1, \"\\n\", filho2)"
   ]
  },
  {
   "cell_type": "markdown",
   "id": "93493e7c-c428-48f9-8b4e-c61c7ed968b2",
   "metadata": {},
   "source": [
    "## Pergunta f)"
   ]
  },
  {
   "cell_type": "markdown",
   "id": "57361259-db9c-4ebf-a962-85de8fe22dc1",
   "metadata": {},
   "source": [
    "**Tipos de inadmissibilidades que não permitem obter soluções admissiveis**"
   ]
  },
  {
   "cell_type": "markdown",
   "id": "ceb4fd09-9984-491c-8d35-532d591906dc",
   "metadata": {},
   "source": [
    "### Cromossomas inadmissiveis"
   ]
  },
  {
   "cell_type": "markdown",
   "id": "ca2c1c1a-4f0a-420e-b420-e44a78eb34e1",
   "metadata": {},
   "source": [
    "    No contexto deste problema, um cromossoma inadmissivel é um cromossoma que não possui todas as tarefas.\n",
    "    Em baixo iremos aplicar o crossover de um ponto que, maior parte das vezes, devolve uma solução inadmissivel, podendo então usar como exemplo"
   ]
  },
  {
   "cell_type": "code",
   "execution_count": 80,
   "id": "24d05da7-8641-447f-b335-4024c1d12aba",
   "metadata": {},
   "outputs": [
    {
     "name": "stdout",
     "output_type": "stream",
     "text": [
      "K=5\n"
     ]
    },
    {
     "data": {
      "text/plain": [
       "(['T3', 'T6', 'T2', 'T9', 'T4', 'T6', 'T5', 'T8', 'T7', 'T4'],\n",
       " ['T9', 'T3', 'T2', 'T10', 'T1', 'T7', 'T1', 'T5', 'T8', 'T10'])"
      ]
     },
     "execution_count": 80,
     "metadata": {},
     "output_type": "execute_result"
    }
   ],
   "source": [
    "filho1, filho2 = crossover_um_ponto(pai1, pai2)\n",
    "filho1, filho2"
   ]
  },
  {
   "cell_type": "markdown",
   "id": "fc68589b-b994-4f24-a21d-1e9fb4a6645d",
   "metadata": {},
   "source": [
    "Analisando com atenção, podemos verificar que estes cromossomas filho não admissíveis, sendo necessário tratá-los. \\\n",
    "Em baixo, podemos visualizar um exemplo de como corrigir estes cromossomas"
   ]
  },
  {
   "cell_type": "markdown",
   "id": "829e70ae-1360-447e-b364-3bf19037307b",
   "metadata": {},
   "source": [
    "    i. Identificar a tarefa que não está a ser realizada;\n",
    "    ii. Identificar a tarefa que está a ser realizada por dois trabalhadores;\n",
    "    iii. No primeiro gene com o valor da tarefa que é realizada por dois trabalhadores, altera-se o valor para a tarefa que não estava a ser realizada."
   ]
  },
  {
   "cell_type": "code",
   "execution_count": 81,
   "id": "d8ee05bf-bf84-43fe-9df6-cde2b37ec414",
   "metadata": {},
   "outputs": [],
   "source": [
    "def corrigirCromossoma(lista_tarefas):\n",
    "    All = ['T1', 'T2', 'T3', 'T4', 'T5', 'T6', 'T7', 'T8', 'T9', 'T10']\n",
    "    repetido = []\n",
    "    falta = []\n",
    "    new_list = []\n",
    "    for i in All:\n",
    "        if i not in lista_tarefas:\n",
    "            falta.append(i)\n",
    "    if len(falta) == 0:\n",
    "        return lista_tarefas\n",
    "    for i in lista_tarefas:\n",
    "        if i not in repetido:\n",
    "            new_list.append(i)\n",
    "            repetido.append(i)\n",
    "        else:\n",
    "            new_list.append(falta[0])\n",
    "            falta.pop(0)\n",
    "    return new_list"
   ]
  },
  {
   "cell_type": "code",
   "execution_count": 82,
   "id": "25ad40e5-6f50-4eca-aa85-55b1a70dca36",
   "metadata": {},
   "outputs": [
    {
     "data": {
      "text/plain": [
       "['T3', 'T6', 'T2', 'T9', 'T4', 'T1', 'T5', 'T8', 'T7', 'T10']"
      ]
     },
     "execution_count": 82,
     "metadata": {},
     "output_type": "execute_result"
    }
   ],
   "source": [
    "corrigirCromossoma(filho1)"
   ]
  },
  {
   "cell_type": "markdown",
   "id": "a00d8a55-0450-45c1-8126-626fb1b9b2c6",
   "metadata": {},
   "source": [
    "**Nota: \\\n",
    "Também podemos referir várias Mutações/Restrições que não respeitam as restrições das 96 horas, sendo possível visualizar vários exemplos disso ao longo do código. \\\n",
    "Uma forma de resolver seria rejeitar estes filhos.**"
   ]
  },
  {
   "cell_type": "markdown",
   "id": "ff3bfaad-fb06-44c9-aa4c-312c57715db2",
   "metadata": {},
   "source": [
    "## Pergunta g)"
   ]
  },
  {
   "cell_type": "markdown",
   "id": "e1b78aab-f9ab-4637-8401-a8716f73579e",
   "metadata": {},
   "source": [
    "- - -"
   ]
  }
 ],
 "metadata": {
  "kernelspec": {
   "display_name": "Python 3 (ipykernel)",
   "language": "python",
   "name": "python3"
  },
  "language_info": {
   "codemirror_mode": {
    "name": "ipython",
    "version": 3
   },
   "file_extension": ".py",
   "mimetype": "text/x-python",
   "name": "python",
   "nbconvert_exporter": "python",
   "pygments_lexer": "ipython3",
   "version": "3.9.13"
  }
 },
 "nbformat": 4,
 "nbformat_minor": 5
}

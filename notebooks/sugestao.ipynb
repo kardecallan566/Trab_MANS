{
 "cells": [
  {
   "attachments": {},
   "cell_type": "markdown",
   "id": "d9fe5c75-8b76-4f33-b8d3-793a97de116c",
   "metadata": {},
   "source": [
    "# Trabalho Final"
   ]
  },
  {
   "attachments": {},
   "cell_type": "markdown",
   "id": "e850f84f-4624-4e83-ba23-90b504b3f0d7",
   "metadata": {},
   "source": [
    "## Imports"
   ]
  },
  {
   "cell_type": "code",
   "execution_count": 29,
   "id": "54a33a00-c7a7-4b65-a781-7171c344ba80",
   "metadata": {
    "ExecuteTime": {
     "end_time": "2023-06-06T21:59:07.227087400Z",
     "start_time": "2023-06-06T21:59:06.581329800Z"
    }
   },
   "outputs": [
    {
     "ename": "SyntaxError",
     "evalue": "invalid syntax (844377037.py, line 8)",
     "output_type": "error",
     "traceback": [
      "\u001b[1;36m  Cell \u001b[1;32mIn[29], line 8\u001b[1;36m\u001b[0m\n\u001b[1;33m    from plotnine import *~\u001b[0m\n\u001b[1;37m                          ^\u001b[0m\n\u001b[1;31mSyntaxError\u001b[0m\u001b[1;31m:\u001b[0m invalid syntax\n"
     ]
    }
   ],
   "source": [
    "import itertools\n",
    "import pandas as pd\n",
    "import numpy as np\n",
    "import random\n",
    "from dataclasses import dataclass as dc\n",
    "from typing import Iterable\n",
    "from collections import namedtuple\n",
    "from plotnine import *\n",
    "from copy import deepcopy\n",
    "pd.set_option('display.max_colwidth', None)"
   ]
  },
  {
   "attachments": {},
   "cell_type": "markdown",
   "id": "b1bcc401-d965-403c-8332-cf7f973f431f",
   "metadata": {},
   "source": [
    "## Functions"
   ]
  },
  {
   "cell_type": "code",
   "execution_count": null,
   "id": "a8b88821-69de-4016-ad27-129381f6e130",
   "metadata": {
    "ExecuteTime": {
     "end_time": "2023-06-06T21:59:07.249997300Z",
     "start_time": "2023-06-06T21:59:07.226087400Z"
    }
   },
   "outputs": [
    {
     "data": {
      "text/plain": [
       "(M1([], 0), M2([], 0), M3([], 0))"
      ]
     },
     "execution_count": 21,
     "metadata": {},
     "output_type": "execute_result"
    }
   ],
   "source": [
    "Numero = int # Indice da tarefa\n",
    "intervalo = namedtuple(\"intervalo\", [\"inicio\", \"fim\"])\n",
    "def first(iterable, func, default=None):\n",
    "  return next(filter(func, iterable), default)\n",
    "\n",
    "@dc\n",
    "class Tarefa:\n",
    "  numero: int\n",
    "  tempo: int\n",
    "  def __repr__(self):\n",
    "    return f\"T{self.numero}({self.tempo})\"\n",
    "  def __hash__(self):\n",
    "    return repr(self).__hash__()\n",
    "class Tarefas:\n",
    "  def __init__(self, tempos: list[int]):\n",
    "    self.tarefas = [Tarefa(i+1, tempos[i]) for i in range(len(tempos))]\n",
    "  \n",
    "  def __getitem__(self, i: Numero | Iterable[Numero]):\n",
    "    if isinstance(i, Iterable):\n",
    "      return [self.tarefas[i-1] for i in i]\n",
    "    return self.tarefas[i-1]\n",
    "  def __iter__(self):\n",
    "    return iter(self.tarefas)\n",
    "  def smallest_to_highest(self):\n",
    "    return sorted(self.tarefas, key=lambda t: t.tempo)\n",
    "\n",
    "@dc \n",
    "class Maquina:\n",
    "  numero: int\n",
    "  n_tarefas: int\n",
    "  tarefas: list[Tarefa] = None\n",
    "\n",
    "  def __post_init__(self):\n",
    "    assert self.tarefas is None or len(self.tarefas) <= self.n_tarefas\n",
    "    if self.tarefas is None: self.tarefas = []\n",
    "  def assignTarefas(self, tarefas: list[Tarefa]):\n",
    "    assert len(tarefas) <= self.n_tarefas\n",
    "    self.tarefas = tarefas\n",
    "  def queueTarefa(self, tarefa: Tarefa):\n",
    "    assert len(self.tarefas) < self.n_tarefas # se for igual ent n pode adicionar\n",
    "    self.tarefas.append(tarefa)\n",
    "  def reset(self):\n",
    "    self.tarefas = []\n",
    "  \n",
    "  def quantoTempo(self):\n",
    "    return sum(t.tempo for t in self.tarefas)\n",
    "  def __repr__(self):\n",
    "    return f\"M{self.numero}({repr(self.tarefas)}, {self.quantoTempo()})\"\n",
    "  def __str__(self):\n",
    "    return f\"M{self.numero}\"\n",
    "  def isTarefaIn(self, tarefa: Tarefa | Numero):\n",
    "    if isinstance(tarefa, Tarefa):\n",
    "      return tarefa in self.tarefas\n",
    "    return tarefa in [t.numero for t in self.tarefas]\n",
    "  def quandoComeca(self, tarefa: Tarefa | Numero):\n",
    "    if isinstance(tarefa, Numero):\n",
    "      tarefa = first(self.tarefas, lambda t: t.numero == tarefa)\n",
    "    # index of tarefa in self.tarefas\n",
    "    ind = self.tarefas.index(tarefa)\n",
    "    return sum(t.tempo for t in self.tarefas[:ind])\n",
    "  def quandoAcaba(self, tarefa: Tarefa | Numero):\n",
    "    if isinstance(tarefa, Numero):\n",
    "      tarefa = first(self.tarefas, lambda t: t.numero == tarefa)\n",
    "    return self.quandoComeca(tarefa) + tarefa.tempo\n",
    "\n",
    "class Horario:\n",
    "  # representa as maquians e as horas que as tarefas começam\n",
    "  # horario comeca completo, vindo da Permutation.getHorario()\n",
    "  # Horario.timeOf(\"M1\") -> quando acaba a maquina 1\n",
    "  # Horario[\"T1\"] -> quando começa e acaba a tarefa 1\n",
    "  # Horario.whereIs(\"T1\") -> Em que máquina está a tarefa 1\n",
    "  # nota: isto pode estar dentro do permutation, mas acho melhor assim para dividir funções\n",
    "  def __init__(self, maquinas: list[Maquina]):\n",
    "    self.maquinas = maquinas\n",
    "  def __getitem__(self, tarefa: str | Tarefa) -> intervalo:\n",
    "    maq = self.whereIs(tarefa)\n",
    "    if maq is None: raise KeyError(f\"Tarefa {tarefa} não está no horário\")\n",
    "    return intervalo(maq.quandoComeca(tarefa), maq.quandoAcaba(tarefa))\n",
    "  def timeOf(self, maquina: str | Maquina):\n",
    "    if isinstance(maquina, str):\n",
    "      maquina = self.getMaquina(maquina)\n",
    "    return maquina.quantoTempo()\n",
    "  def getMaquina(self, maquina: str | Numero):\n",
    "    if isinstance(maquina, str): \n",
    "      return first(self.maquinas, lambda m: str(m) == maquina)\n",
    "    return first(self.maquinas, lambda m: m.numero == maquina)\n",
    "  def whereIs(self, tarefa: str | Tarefa):\n",
    "    if isinstance(tarefa, str):\n",
    "      tarefa = int(tarefa[1:])\n",
    "    return first(self.maquinas, lambda m: m.isTarefaIn(tarefa))\n",
    "  def getTempoTotal(self):\n",
    "    return max(m.quantoTempo() for m in self.maquinas)\n",
    "  @property\n",
    "  def tempoTotal(self):\n",
    "    return self.getTempoTotal()\n",
    "  def plot(self):\n",
    "    df = pd.DataFrame({\n",
    "      \"maquina\": [m.numero for m in self.maquinas for t in m.tarefas ],\n",
    "      \"tarefa\": [t.numero for m in self.maquinas  for t in m.tarefas ],\n",
    "      \"tarefaL\": [f\"T{t.numero}\" for m in self.maquinas  for t in m.tarefas ],\n",
    "      \"comeca\": [m.quandoComeca(t)  for m in self.maquinas for t in m.tarefas],\n",
    "      \"acaba\": [m.quandoAcaba(t) for m in self.maquinas for t in m.tarefas]\n",
    "    })\n",
    "    return ggplot(df, aes(y = \"maquina\")) + \\\n",
    "      geom_point(aes(x = \"comeca\", color='factor(tarefa)'), size = 5) + \\\n",
    "      geom_path(aes(x = \"acaba\", group = \"maquina\", color=\"factor(tarefa+1)\")) + \\\n",
    "      geom_path(aes(x = \"comeca\", group = \"maquina\", color=\"factor(tarefa)\")) + \\\n",
    "      geom_vline(xintercept=self.tempoTotal, linetype=\"dashed\") + \\\n",
    "      geom_text(aes(x = \"comeca\", label=\"tarefaL\"), size=10, nudge_x=0.1, nudge_y=0.1) + \\\n",
    "      \\\n",
    "      scale_x_continuous(breaks=[0, 24, 48, 72, 96, 120, self.tempoTotal]) + \\\n",
    "      scale_y_continuous(breaks=[1, 2, 3]) + \\\n",
    "      scale_color_discrete(guide=False) + \\\n",
    "      coord_fixed(xlim = (-0.5, 144)) + \\\n",
    "      labs(x=\"horas\", y=\"maquina\") + \\\n",
    "      theme_classic() + \\\n",
    "      theme(aspect_ratio=0.7)\n",
    "class Permutation:\n",
    "  # Representação por permutação\n",
    "  def __init__(self, maquinas: list[Maquina]):\n",
    "    self.maquinas = maquinas\n",
    "    self.n_maquinas = len(maquinas)\n",
    "  def reset(self):\n",
    "    for m in self.maquinas:\n",
    "      m.reset()\n",
    "    return self\n",
    "  def machineYielder(self):\n",
    "    for m in self.maquinas:\n",
    "      for i in range(len(m.tarefas)):\n",
    "        yield m\n",
    "  def assignTarefas(self, tarefas: list[Tarefa]):\n",
    "    self.reset()\n",
    "    for m in self.machineYielder():\n",
    "      m.queueTarefa(tarefas.pop(0))\n",
    "    return self.as_list()\n",
    "  def as_list(self) -> list[Tarefa]:\n",
    "    return [t for m in self.maquinas for t in m.tarefas]\n",
    "  def as_cromo(self) -> list[int]:\n",
    "    return [t.numero for t in self.as_list()]\n",
    "  def as_lists(self) -> list[list[Tarefa]]:\n",
    "    return [m.tarefas for m in self.maquinas]\n",
    "  def __repr__(self):\n",
    "    return repr(self.as_lists())\n",
    "  def getHorario(self) -> Horario:\n",
    "    return Horario(self.maquinas)\n",
    "  @property\n",
    "  def horario(self) -> Horario:\n",
    "    return self.getHorario()\n",
    "  def __repr__(self):\n",
    "    return repr(self.as_list())\n",
    "M1 = Maquina(\n",
    "  numero = 1,\n",
    "  n_tarefas = 4,\n",
    ")\n",
    "M2 = Maquina(\n",
    "  numero = 2,\n",
    "  n_tarefas = 3,\n",
    ")\n",
    "M3 = Maquina(\n",
    "  numero = 3,\n",
    "  n_tarefas = 3,\n",
    ")\n",
    "M1, M2, M3"
   ]
  },
  {
   "cell_type": "code",
   "execution_count": null,
   "id": "c0a57dbf",
   "metadata": {
    "ExecuteTime": {
     "end_time": "2023-06-06T21:59:07.250996600Z",
     "start_time": "2023-06-06T21:59:07.249997300Z"
    }
   },
   "outputs": [
    {
     "data": {
      "text/plain": [
       "[T1(38), T2(33), T4(20)]"
      ]
     },
     "execution_count": 22,
     "metadata": {},
     "output_type": "execute_result"
    }
   ],
   "source": [
    "tarefas = Tarefas([38, 33, 36, 20, 32, 29, 46, 38, 34, 40])\n",
    "tarefas[1,2,4]"
   ]
  },
  {
   "cell_type": "code",
   "execution_count": null,
   "id": "2a8ab7dc",
   "metadata": {
    "ExecuteTime": {
     "end_time": "2023-06-06T21:59:09.408141800Z",
     "start_time": "2023-06-06T21:59:07.251995800Z"
    }
   },
   "outputs": [
    {
     "name": "stdout",
     "output_type": "stream",
     "text": [
      "[T1(38), T2(33), T3(36), T4(20), T5(32), T6(29), T7(46), T8(38), T9(34), T10(40)]\n"
     ]
    },
    {
     "data": {
      "image/png": "[encoded data removed]",
      "text/plain": [
       "<Figure size 640x480 with 1 Axes>"
      ]
     },
     "metadata": {
      "image/png": {
       "height": 480,
       "width": 640
      }
     },
     "output_type": "display_data"
    },
    {
     "data": {
      "text/plain": [
       "<Figure Size: (640 x 480)>"
      ]
     },
     "execution_count": 23,
     "metadata": {},
     "output_type": "execute_result"
    }
   ],
   "source": [
    "# exemplo\n",
    "M1.assignTarefas(tarefas[1,2,3,4])\n",
    "M2.assignTarefas(tarefas[5,6,7])\n",
    "M3.assignTarefas(tarefas[8,9,10])\n",
    "primeiro = Permutation([M1, M2, M3])\n",
    "print(primeiro)\n",
    "primeiro.horario.plot()"
   ]
  },
  {
   "cell_type": "code",
   "execution_count": null,
   "id": "c357385f-ce73-402e-8668-5b4e3e66ea37",
   "metadata": {
    "ExecuteTime": {
     "end_time": "2023-06-06T21:59:09.411141900Z",
     "start_time": "2023-06-06T21:59:09.408141800Z"
    }
   },
   "outputs": [
    {
     "data": {
      "text/plain": [
       "False"
      ]
     },
     "execution_count": 24,
     "metadata": {},
     "output_type": "execute_result"
    }
   ],
   "source": [
    "def respeitaRestricao(horario, maximos: dict[Tarefa, int]):\n",
    "  for tarefa, maximo in maximos.items():\n",
    "    if horario[tarefa].fim > maximo:\n",
    "      return False\n",
    "  return True\n",
    "acabarAntes = 24*(5-1) # 1 junho (8h) até 5 junho (8h),\n",
    "restricao = {\n",
    "  tarefas[3]: acabarAntes,\n",
    "  tarefas[4]: acabarAntes,\n",
    "  tarefas[5]: acabarAntes\n",
    "}\n",
    "respeitaRestricao(primeiro.horario, restricao)"
   ]
  },
  {
   "cell_type": "code",
   "execution_count": null,
   "id": "57771e35",
   "metadata": {
    "ExecuteTime": {
     "end_time": "2023-06-06T21:59:09.424467700Z",
     "start_time": "2023-06-06T21:59:09.411141900Z"
    }
   },
   "outputs": [
    {
     "data": {
      "text/html": [
       "<div>\n",
       "<style scoped>\n",
       "    .dataframe tbody tr th:only-of-type {\n",
       "        vertical-align: middle;\n",
       "    }\n",
       "\n",
       "    .dataframe tbody tr th {\n",
       "        vertical-align: top;\n",
       "    }\n",
       "\n",
       "    .dataframe thead th {\n",
       "        text-align: right;\n",
       "    }\n",
       "</style>\n",
       "<table border=\"1\" class=\"dataframe\">\n",
       "  <thead>\n",
       "    <tr style=\"text-align: right;\">\n",
       "      <th></th>\n",
       "      <th>M1</th>\n",
       "      <th>M2</th>\n",
       "      <th>M3</th>\n",
       "      <th>tempo_total</th>\n",
       "      <th>respeita_restricao</th>\n",
       "      <th>respeita_unique</th>\n",
       "    </tr>\n",
       "  </thead>\n",
       "  <tbody>\n",
       "    <tr>\n",
       "      <th>0</th>\n",
       "      <td>[T1(38), T2(33), T3(36), T4(20)]</td>\n",
       "      <td>[T5(32), T6(29), T7(46)]</td>\n",
       "      <td>[T8(38), T9(34), T10(40)]</td>\n",
       "      <td>127</td>\n",
       "      <td>False</td>\n",
       "      <td>True</td>\n",
       "    </tr>\n",
       "  </tbody>\n",
       "</table>\n",
       "</div>"
      ],
      "text/plain": [
       "                                 M1                        M2  \\\n",
       "0  [T1(38), T2(33), T3(36), T4(20)]  [T5(32), T6(29), T7(46)]   \n",
       "\n",
       "                          M3  tempo_total  respeita_restricao  respeita_unique  \n",
       "0  [T8(38), T9(34), T10(40)]          127               False             True  "
      ]
     },
     "execution_count": 25,
     "metadata": {},
     "output_type": "execute_result"
    }
   ],
   "source": [
    "def create_df(permutations: list[Permutation] | Permutation, *args):\n",
    "  if isinstance(permutations, Permutation): return create_df([permutations, *args])\n",
    "  return pd.DataFrame({\n",
    "    \"M1\": [p.maquinas[0].tarefas for p in permutations],\n",
    "    \"M2\": [p.maquinas[1].tarefas for p in permutations],\n",
    "    \"M3\": [p.maquinas[2].tarefas for p in permutations],\n",
    "    \"tempo_total\": [p.horario.tempoTotal for p in permutations],\n",
    "    \"respeita_restricao\": [respeitaRestricao(p.horario, restricao) for p in permutations],\n",
    "    \"respeita_unique\": [len(set(p.as_cromo())) == len(p.as_cromo()) for p in permutations]\n",
    "  })\n",
    "# use example\n",
    "create_df(primeiro)"
   ]
  },
  {
   "attachments": {},
   "cell_type": "markdown",
   "id": "cc0e49f9-acae-4df3-ad33-a2a1c18df086",
   "metadata": {},
   "source": [
    "## Pergunta a)"
   ]
  },
  {
   "attachments": {},
   "cell_type": "markdown",
   "id": "06ea6e9c",
   "metadata": {},
   "source": [
    "TODO palavras"
   ]
  },
  {
   "cell_type": "code",
   "execution_count": null,
   "id": "41fe3832",
   "metadata": {
    "ExecuteTime": {
     "end_time": "2023-06-06T21:59:09.711374100Z",
     "start_time": "2023-06-06T21:59:09.425467600Z"
    }
   },
   "outputs": [
    {
     "data": {
      "image/png": "[encoded data removed]",
      "text/plain": [
       "<Figure size 640x480 with 1 Axes>"
      ]
     },
     "metadata": {
      "image/png": {
       "height": 480,
       "width": 640
      }
     },
     "output_type": "display_data"
    },
    {
     "data": {
      "text/plain": [
       "<Figure Size: (640 x 480)>"
      ]
     },
     "execution_count": 26,
     "metadata": {},
     "output_type": "execute_result"
    }
   ],
   "source": [
    "# bar plot with tarefas e o tempo delas (color the priority ones) \n",
    "ggplot(pd.DataFrame({\n",
    "  \"tarefa\": [t.numero for t in tarefas],\n",
    "  \"tempo\": [t.tempo for t in tarefas],\n",
    "  \"prioridade\": [t in restricao for t in tarefas]\n",
    "}), aes(x = \"factor(tarefa)\", y = \"tempo\")) + \\\n",
    "  geom_bar(aes(fill = \"factor(prioridade)\"), stat = \"identity\", position = \"dodge\") + \\\n",
    "  scale_fill_discrete(name = \"Com restrição?\") + \\\n",
    "  geom_text(aes(label=\"tempo\"), nudge_y=1) + \\\n",
    "  labs(x=\"tarefa\", y=\"tempo\") + \\\n",
    "  theme_classic() "
   ]
  },
  {
   "attachments": {},
   "cell_type": "markdown",
   "id": "428f7513-6890-4a74-80d7-91b2434a1cf9",
   "metadata": {},
   "source": [
    "## Pergunta b)"
   ]
  },
  {
   "attachments": {},
   "cell_type": "markdown",
   "id": "ec70ca5a-852c-4eba-a960-7a0fb9876cb4",
   "metadata": {},
   "source": [
    "1.Iremos atribuir as 3 tarefas críticas (T3, T4, T5), a cada uma das máquinas, a fim de se conseguir realizar o prazo o mais rápido possivel\n",
    "\n",
    "  1.1 Vamos dar a mais rápida destas à máquina com mais tarefas (M1), pois esta precisa de fazer 4 tarefas\n",
    "\n",
    "2.De seguida, será colocado a tarefa mais rápida na máquina com mais tarefas (M1), pois esta precisa de fazer 4 tarefas\n",
    "\n",
    "3.Por fim, as tarefas restantes serão distribuidas de forma a dar um equilibrio entre elas\n",
    "\n",
    "  3.1 Para isso, iremos dar as duas mais pequenas seguintes à M1\n",
    "\n",
    "  3.2 E por a mais pequena e maior das restantes na M2\n",
    "\n",
    "  3.3 Por fim, as 2 tarefas restantes irão para a M3"
   ]
  },
  {
   "cell_type": "code",
   "execution_count": null,
   "id": "892b073f-58f4-4888-a946-5d27c525d81e",
   "metadata": {
    "ExecuteTime": {
     "end_time": "2023-06-06T21:59:09.926709900Z",
     "start_time": "2023-06-06T21:59:09.710375500Z"
    }
   },
   "outputs": [
    {
     "ename": "NameError",
     "evalue": "name 'deepcopy' is not defined",
     "output_type": "error",
     "traceback": [
      "\u001b[1;31m---------------------------------------------------------------------------\u001b[0m",
      "\u001b[1;31mNameError\u001b[0m                                 Traceback (most recent call last)",
      "Cell \u001b[1;32mIn[28], line 1\u001b[0m\n\u001b[1;32m----> 1\u001b[0m heuristica \u001b[39m=\u001b[39m deepcopy(primeiro)\u001b[39m.\u001b[39mreset()\n\u001b[0;32m      2\u001b[0m pool \u001b[39m=\u001b[39m tarefas\u001b[39m.\u001b[39msmallest_to_highest()\n\u001b[0;32m      3\u001b[0m criticas \u001b[39m=\u001b[39m tarefas[\u001b[39m3\u001b[39m,\u001b[39m4\u001b[39m,\u001b[39m5\u001b[39m]\n",
      "\u001b[1;31mNameError\u001b[0m: name 'deepcopy' is not defined"
     ]
    }
   ],
   "source": [
    "heuristica = deepcopy(primeiro).reset()\n",
    "pool = tarefas.smallest_to_highest()\n",
    "criticas = tarefas[3,4,5]\n",
    "# 1.1\n",
    "M1.queueTarefa(smallest_critical := min(criticas, key=lambda t: t.tempo))\n",
    "pool.remove(smallest_critical)\n",
    "criticas.remove(smallest_critical)\n",
    "# 1.2\n",
    "M2.queueTarefa(criticas[0])\n",
    "M3.queueTarefa(criticas[1])\n",
    "[pool.remove(t) for t in criticas]\n",
    "# 2\n",
    "M1.queueTarefa(pool.pop(0)) # pool esta ordenada\n",
    "# 3.1\n",
    "M1.queueTarefa(pool.pop(0))\n",
    "M1.queueTarefa(pool.pop(0))\n",
    "# 3.2\n",
    "M2.queueTarefa(pool.pop(0))\n",
    "M2.queueTarefa(pool.pop(-1))\n",
    "# 4\n",
    "M3.queueTarefa(pool.pop(0))\n",
    "M3.queueTarefa(pool.pop(0))\n",
    "heuristica.horario.plot()"
   ]
  },
  {
   "cell_type": "code",
   "execution_count": null,
   "id": "cb31874c",
   "metadata": {},
   "outputs": [
    {
     "data": {
      "text/html": [
       "<div>\n",
       "<style scoped>\n",
       "    .dataframe tbody tr th:only-of-type {\n",
       "        vertical-align: middle;\n",
       "    }\n",
       "\n",
       "    .dataframe tbody tr th {\n",
       "        vertical-align: top;\n",
       "    }\n",
       "\n",
       "    .dataframe thead th {\n",
       "        text-align: right;\n",
       "    }\n",
       "</style>\n",
       "<table border=\"1\" class=\"dataframe\">\n",
       "  <thead>\n",
       "    <tr style=\"text-align: right;\">\n",
       "      <th></th>\n",
       "      <th>M1</th>\n",
       "      <th>M2</th>\n",
       "      <th>M3</th>\n",
       "      <th>tempo_total</th>\n",
       "      <th>respeita_restricao</th>\n",
       "      <th>respeita_unique</th>\n",
       "    </tr>\n",
       "  </thead>\n",
       "  <tbody>\n",
       "    <tr>\n",
       "      <th>0</th>\n",
       "      <td>[T4(20), T6(29), T2(33), T9(34)]</td>\n",
       "      <td>[T3(36), T1(38), T7(46)]</td>\n",
       "      <td>[T5(32), T8(38), T10(40)]</td>\n",
       "      <td>120</td>\n",
       "      <td>True</td>\n",
       "      <td>True</td>\n",
       "    </tr>\n",
       "  </tbody>\n",
       "</table>\n",
       "</div>"
      ],
      "text/plain": [
       "                                 M1                        M2  \\\n",
       "0  [T4(20), T6(29), T2(33), T9(34)]  [T3(36), T1(38), T7(46)]   \n",
       "\n",
       "                          M3  tempo_total  respeita_restricao  respeita_unique  \n",
       "0  [T5(32), T8(38), T10(40)]          120                True             True  "
      ]
     },
     "execution_count": 9,
     "metadata": {},
     "output_type": "execute_result"
    }
   ],
   "source": [
    "create_df(heuristica)"
   ]
  },
  {
   "attachments": {},
   "cell_type": "markdown",
   "id": "cf458f34-c25e-4156-aa19-b81de06f2907",
   "metadata": {},
   "source": [
    "É possível visualizar que a restrição foi respeitada"
   ]
  },
  {
   "attachments": {},
   "cell_type": "markdown",
   "id": "8573025b-e0e4-4ede-8828-8bb7a4fc9f80",
   "metadata": {},
   "source": [
    "## Pergunta c)"
   ]
  },
  {
   "cell_type": "code",
   "execution_count": null,
   "id": "2fa8593b-5922-4465-a708-14f14d7140e0",
   "metadata": {},
   "outputs": [
    {
     "data": {
      "text/plain": [
       "[4, 6, 2, 9, 3, 1, 7, 5, 8, 10]"
      ]
     },
     "execution_count": 10,
     "metadata": {},
     "output_type": "execute_result"
    }
   ],
   "source": [
    "heuristica.as_cromo()"
   ]
  },
  {
   "attachments": {},
   "cell_type": "markdown",
   "id": "53f4d373-47be-49c5-af99-aac385b3f3e6",
   "metadata": {},
   "source": [
    "Nota:\n",
    "- As 4 primeiras tarefas correspondem à máquina 1\n",
    "- Da 5 à 7 tarefas correspondem à máquina 2\n",
    "- As restantes tarefas correspondem à máquina 3\n",
    "\n",
    "O cromossoma está representado por permutação"
   ]
  },
  {
   "cell_type": "code",
   "execution_count": null,
   "id": "17ba1e28",
   "metadata": {},
   "outputs": [],
   "source": [
    "def fromCromo(cromo: list[int]) -> Permutation:\n",
    "  return Permutation([\n",
    "    Maquina(1, cromo[:4]),\n",
    "    Maquina(2, cromo[4:7]),\n",
    "    Maquina(3, cromo[7:])\n",
    "  ])"
   ]
  },
  {
   "attachments": {},
   "cell_type": "markdown",
   "id": "fc0be1fd-8b46-45cd-b252-c7338e1382a3",
   "metadata": {},
   "source": [
    "## Pergunta d)"
   ]
  },
  {
   "attachments": {},
   "cell_type": "markdown",
   "id": "f8b4cd90-687d-441b-a3fe-33661f1e7b98",
   "metadata": {},
   "source": [
    "**Operador de crossover**"
   ]
  },
  {
   "cell_type": "code",
   "execution_count": 35,
   "id": "7d7a3b9c",
   "metadata": {},
   "outputs": [
    {
     "name": "stdout",
     "output_type": "stream",
     "text": [
      "[4]\n",
      "[4, 5]\n",
      "[4, 5, 8]\n",
      "[4, 5, 8, 9]\n",
      "[4, 5, 8, 9, 3]\n",
      "[4, 5, 8, 9, 3, 1]\n",
      "[4, 5, 8, 9, 3, 1, 2]\n",
      "9 3 [4, 5, 8, 9, 3, 1, 2]\n"
     ]
    },
    {
     "ename": "Exception",
     "evalue": "Alguma coisa correu mal",
     "output_type": "error",
     "traceback": [
      "\u001b[1;31m---------------------------------------------------------------------------\u001b[0m",
      "\u001b[1;31mException\u001b[0m                                 Traceback (most recent call last)",
      "Cell \u001b[1;32mIn[35], line 29\u001b[0m\n\u001b[0;32m     27\u001b[0m   \u001b[39mreturn\u001b[39;00m filho\n\u001b[0;32m     28\u001b[0m \u001b[39m# exemplo\u001b[39;00m\n\u001b[1;32m---> 29\u001b[0m filho \u001b[39m=\u001b[39m crossover(heuristica\u001b[39m.\u001b[39;49mas_cromo(), primeiro\u001b[39m.\u001b[39;49mas_cromo())\n\u001b[0;32m     30\u001b[0m filho\n",
      "Cell \u001b[1;32mIn[35], line 21\u001b[0m, in \u001b[0;36mcrossover\u001b[1;34m(pai, mae)\u001b[0m\n\u001b[0;32m     19\u001b[0m \u001b[39mif\u001b[39;00m is_escolhido_pai_in_filho \u001b[39mand\u001b[39;00m is_escolhido_mae_in_filho:\n\u001b[0;32m     20\u001b[0m   \u001b[39mprint\u001b[39m(ligacao_pai, ligacao_mae, filho)\n\u001b[1;32m---> 21\u001b[0m   \u001b[39mraise\u001b[39;00m \u001b[39mException\u001b[39;00m(\u001b[39m\"\u001b[39m\u001b[39mAlguma coisa correu mal\u001b[39m\u001b[39m\"\u001b[39m) \u001b[39m# se os dois estiverem no filho ent n sei\u001b[39;00m\n\u001b[0;32m     22\u001b[0m \u001b[39melif\u001b[39;00m is_escolhido_pai_in_filho: filho\u001b[39m.\u001b[39mappend(ligacao_mae)\n\u001b[0;32m     23\u001b[0m \u001b[39melif\u001b[39;00m is_escolhido_mae_in_filho: filho\u001b[39m.\u001b[39mappend(ligacao_pai)\n",
      "\u001b[1;31mException\u001b[0m: Alguma coisa correu mal"
     ]
    }
   ],
   "source": [
    "def crossover(pai: list[int], mae:list[int]):\n",
    "  # selecionar aleatoriamente uma ligacao entre 2 genes, entre os pais, e adicionar a um novo filho\n",
    "  filho = []\n",
    "  # 1º escolher um ponto de partida aleatorio\n",
    "  ponto_partida = current = random.choice([pai[0], mae[0]])\n",
    "  filho.append(ponto_partida)\n",
    "  while len(filho) < len(pai):\n",
    "    print(filho)\n",
    "    # 2º ver das ligacoes\n",
    "    ligacao_pai_ind = pai.index(current) + 1\n",
    "    if ligacao_pai_ind == len(pai): ligacao_pai_ind = 0 # if last element, then go to first\n",
    "    ligacao_mae_ind = mae.index(current) + 1\n",
    "    if ligacao_mae_ind == len(mae): ligacao_mae_ind = 0\n",
    "    ligacao_pai = pai[ligacao_pai_ind]\n",
    "    ligacao_mae = mae[ligacao_mae_ind]\n",
    "    # 3º escolher aleatoriamente entre as ligações se não estiverem já no filho\n",
    "    is_escolhido_pai_in_filho = ligacao_pai in filho\n",
    "    is_escolhido_mae_in_filho = ligacao_mae in filho\n",
    "    if is_escolhido_pai_in_filho and is_escolhido_mae_in_filho:\n",
    "      print(ligacao_pai, ligacao_mae, filho)\n",
    "      raise Exception(\"Alguma coisa correu mal\") # se os dois estiverem no filho ent n sei\n",
    "    elif is_escolhido_pai_in_filho: filho.append(ligacao_mae)\n",
    "    elif is_escolhido_mae_in_filho: filho.append(ligacao_pai)\n",
    "    else: filho.append(random.choice([ligacao_pai, ligacao_mae]))\n",
    "    current = filho[-1]\n",
    "    # 4º repetir até ter todos os \n",
    "  return filho\n",
    "# exemplo\n",
    "filho = crossover(heuristica.as_cromo(), primeiro.as_cromo())\n",
    "filho"
   ]
  },
  {
   "cell_type": "code",
   "execution_count": 39,
   "id": "9fd1ab98",
   "metadata": {},
   "outputs": [
    {
     "data": {
      "text/plain": [
       "[4, 6, 2, 9, 3, 1, 7, 5, 8, 10]"
      ]
     },
     "execution_count": 39,
     "metadata": {},
     "output_type": "execute_result"
    }
   ],
   "source": [
    "heuristica.as_cromo()"
   ]
  },
  {
   "cell_type": "code",
   "execution_count": 38,
   "id": "4d2c9551",
   "metadata": {},
   "outputs": [
    {
     "data": {
      "text/plain": [
       "[1, 2, 3, 4, 5, 6, 7, 8, 9, 10]"
      ]
     },
     "execution_count": 38,
     "metadata": {},
     "output_type": "execute_result"
    }
   ],
   "source": [
    "primeiro.as_cromo()"
   ]
  },
  {
   "cell_type": "code",
   "execution_count": null,
   "id": "73e7fd8d",
   "metadata": {},
   "outputs": [],
   "source": [
    "filho"
   ]
  },
  {
   "attachments": {},
   "cell_type": "markdown",
   "id": "b8ad1732-2399-465b-953f-751613f14f1d",
   "metadata": {},
   "source": [
    "## Pergunta e)"
   ]
  },
  {
   "attachments": {},
   "cell_type": "markdown",
   "id": "9ce5c147-5f49-47e0-89f4-bfa141efc34d",
   "metadata": {},
   "source": [
    "**Operador de Mutação**"
   ]
  },
  {
   "attachments": {},
   "cell_type": "markdown",
   "id": "4674be76-200c-4e01-8168-b534bc02d748",
   "metadata": {},
   "source": [
    "### Mutação por troca"
   ]
  },
  {
   "cell_type": "code",
   "execution_count": 52,
   "id": "70e1fda4-98a9-4d2b-aaad-2a096e9f7af0",
   "metadata": {},
   "outputs": [],
   "source": [
    "def mutacao_troca(cromossomo, probabilidade=.1):\n",
    "    cromossomo_mutado = copy.deepcopy(cromossomo)\n",
    "    \n",
    "    # Verificar se a mutação será aplicada com base na probabilidade\n",
    "    if random.random() < probabilidade:\n",
    "        # Selecionar aleatoriamente duas posições diferentes no cromossomo\n",
    "        posicao1 = random.randint(0, len(cromossomo)-1)\n",
    "        posicao2 = random.randint(0, len(cromossomo)-1)\n",
    "        \n",
    "        # Realizar a troca entre as duas posições\n",
    "        cromossomo_mutado[posicao1], cromossomo_mutado[posicao2] = cromossomo_mutado[posicao2], cromossomo_mutado[posicao1]\n",
    "    \n",
    "    return cromossomo_mutado"
   ]
  },
  {
   "cell_type": "code",
   "execution_count": 53,
   "id": "2f78d7c3-ff0f-4912-91d4-9b2bbb094176",
   "metadata": {},
   "outputs": [],
   "source": [
    "filho1, filho2 = CrossUniforme(heuristica)"
   ]
  },
  {
   "cell_type": "code",
   "execution_count": 54,
   "id": "4c56abfc-15a2-437f-840d-d5338a51eef0",
   "metadata": {},
   "outputs": [
    {
     "name": "stdout",
     "output_type": "stream",
     "text": [
      "['T3', 'T3', 'T4', 'T2', 'T4', 'T10', 'T1', 'T8', 'T8', 'T5'] \n",
      " ['T7', 'T6', 'T2', 'T9', 'T1', 'T7', 'T9', 'T5', 'T6', 'T10']\n"
     ]
    }
   ],
   "source": [
    "print(filho1, \"\\n\",filho2)"
   ]
  },
  {
   "cell_type": "code",
   "execution_count": 55,
   "id": "019d582b-c08e-4ab3-b145-7a8b2ecac6fe",
   "metadata": {},
   "outputs": [],
   "source": [
    "filho1 = mutacao_troca(filho1)\n",
    "filho2 = mutacao_troca(filho2)"
   ]
  },
  {
   "cell_type": "code",
   "execution_count": 57,
   "id": "babe1239-e31d-40e3-ab84-361bc754b88c",
   "metadata": {},
   "outputs": [
    {
     "name": "stdout",
     "output_type": "stream",
     "text": [
      "['T3', 'T3', 'T4', 'T2', 'T4', 'T10', 'T1', 'T8', 'T8', 'T5'] \n",
      " ['T7', 'T6', 'T2', 'T9', 'T1', 'T7', 'T9', 'T5', 'T6', 'T10']\n"
     ]
    }
   ],
   "source": [
    "print(filho1, \"\\n\", filho2)"
   ]
  },
  {
   "attachments": {},
   "cell_type": "markdown",
   "id": "93493e7c-c428-48f9-8b4e-c61c7ed968b2",
   "metadata": {},
   "source": [
    "## Pergunta f)"
   ]
  },
  {
   "attachments": {},
   "cell_type": "markdown",
   "id": "57361259-db9c-4ebf-a962-85de8fe22dc1",
   "metadata": {},
   "source": [
    "**Tipos de inadmissibilidades que não permitem obter soluções admissiveis**"
   ]
  },
  {
   "attachments": {},
   "cell_type": "markdown",
   "id": "ceb4fd09-9984-491c-8d35-532d591906dc",
   "metadata": {},
   "source": [
    "### Cromossomas inadmissiveis"
   ]
  },
  {
   "attachments": {},
   "cell_type": "markdown",
   "id": "ca2c1c1a-4f0a-420e-b420-e44a78eb34e1",
   "metadata": {},
   "source": [
    "    No contexto deste problema, um cromossoma inadmissivel é um cromossoma que não possui todas as tarefas.\n",
    "    Em baixo iremos aplicar o crossover de um ponto que, maior parte das vezes, devolve uma solução inadmissivel, podendo então usar como exemplo"
   ]
  },
  {
   "cell_type": "code",
   "execution_count": 80,
   "id": "24d05da7-8641-447f-b335-4024c1d12aba",
   "metadata": {},
   "outputs": [
    {
     "name": "stdout",
     "output_type": "stream",
     "text": [
      "K=5\n"
     ]
    },
    {
     "data": {
      "text/plain": [
       "(['T3', 'T6', 'T2', 'T9', 'T4', 'T6', 'T5', 'T8', 'T7', 'T4'],\n",
       " ['T9', 'T3', 'T2', 'T10', 'T1', 'T7', 'T1', 'T5', 'T8', 'T10'])"
      ]
     },
     "execution_count": 80,
     "metadata": {},
     "output_type": "execute_result"
    }
   ],
   "source": [
    "filho1, filho2 = crossover_um_ponto(pai1, pai2)\n",
    "filho1, filho2"
   ]
  },
  {
   "attachments": {},
   "cell_type": "markdown",
   "id": "fc68589b-b994-4f24-a21d-1e9fb4a6645d",
   "metadata": {},
   "source": [
    "Analisando com atenção, podemos verificar que estes cromossomas filho não admissíveis, sendo necessário tratá-los. \\\n",
    "Em baixo, podemos visualizar um exemplo de como corrigir estes cromossomas"
   ]
  },
  {
   "attachments": {},
   "cell_type": "markdown",
   "id": "829e70ae-1360-447e-b364-3bf19037307b",
   "metadata": {},
   "source": [
    "    i. Identificar a tarefa que não está a ser realizada;\n",
    "    ii. Identificar a tarefa que está a ser realizada por dois trabalhadores;\n",
    "    iii. No primeiro gene com o valor da tarefa que é realizada por dois trabalhadores, altera-se o valor para a tarefa que não estava a ser realizada."
   ]
  },
  {
   "cell_type": "code",
   "execution_count": 81,
   "id": "d8ee05bf-bf84-43fe-9df6-cde2b37ec414",
   "metadata": {},
   "outputs": [],
   "source": [
    "def corrigirCromossoma(lista_tarefas):\n",
    "    All = ['T1', 'T2', 'T3', 'T4', 'T5', 'T6', 'T7', 'T8', 'T9', 'T10']\n",
    "    repetido = []\n",
    "    falta = []\n",
    "    new_list = []\n",
    "    for i in All:\n",
    "        if i not in lista_tarefas:\n",
    "            falta.append(i)\n",
    "    if len(falta) == 0:\n",
    "        return lista_tarefas\n",
    "    for i in lista_tarefas:\n",
    "        if i not in repetido:\n",
    "            new_list.append(i)\n",
    "            repetido.append(i)\n",
    "        else:\n",
    "            new_list.append(falta[0])\n",
    "            falta.pop(0)\n",
    "    return new_list"
   ]
  },
  {
   "cell_type": "code",
   "execution_count": 82,
   "id": "25ad40e5-6f50-4eca-aa85-55b1a70dca36",
   "metadata": {},
   "outputs": [
    {
     "data": {
      "text/plain": [
       "['T3', 'T6', 'T2', 'T9', 'T4', 'T1', 'T5', 'T8', 'T7', 'T10']"
      ]
     },
     "execution_count": 82,
     "metadata": {},
     "output_type": "execute_result"
    }
   ],
   "source": [
    "corrigirCromossoma(filho1)"
   ]
  },
  {
   "attachments": {},
   "cell_type": "markdown",
   "id": "a00d8a55-0450-45c1-8126-626fb1b9b2c6",
   "metadata": {},
   "source": [
    "**Nota: \\\n",
    "Também podemos referir várias Mutações/Restrições que não respeitam as restrições das 96 horas, sendo possível visualizar vários exemplos disso ao longo do código. \\\n",
    "Uma forma de resolver seria rejeitar estes filhos.**"
   ]
  },
  {
   "attachments": {},
   "cell_type": "markdown",
   "id": "ff3bfaad-fb06-44c9-aa4c-312c57715db2",
   "metadata": {},
   "source": [
    "## Pergunta g)"
   ]
  },
  {
   "attachments": {},
   "cell_type": "markdown",
   "id": "e1b78aab-f9ab-4637-8401-a8716f73579e",
   "metadata": {},
   "source": [
    "- - -"
   ]
  }
 ],
 "metadata": {
  "kernelspec": {
   "display_name": "OH GRUPO",
   "language": "python",
   "name": "ipy3.11_oh"
  },
  "language_info": {
   "codemirror_mode": {
    "name": "ipython",
    "version": 3
   },
   "file_extension": ".py",
   "mimetype": "text/x-python",
   "name": "python",
   "nbconvert_exporter": "python",
   "pygments_lexer": "ipython3",
   "version": "3.11.3"
  }
 },
 "nbformat": 4,
 "nbformat_minor": 5
}

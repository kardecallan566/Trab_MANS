{
 "cells": [
  {
   "cell_type": "code",
   "execution_count": null,
   "metadata": {},
   "outputs": [],
   "source": [
    "from dataclasses import dataclass as dc\n"
   ]
  },
  {
   "cell_type": "code",
   "execution_count": null,
   "metadata": {},
   "outputs": [],
   "source": [
    "@dc\n",
    "class Tarefa:\n",
    "  numero: int\n",
    "  tempo_q_demora: int\n",
    "  acabar_antes: int = None\n",
    "\n",
    "  @property\n",
    "  def comecar_antes(self):\n",
    "    return self.acabar_antes - self.tempo_q_demora\n",
    "  @comecar_antes.setter\n",
    "  def comecar_antes(self, value):\n",
    "    self.acabar_antes = value + self.tempo_q_demora"
   ]
  },
  {
   "cell_type": "code",
   "execution_count": null,
   "metadata": {},
   "outputs": [],
   "source": [
    "@dc\n",
    "class Maquina:\n",
    "  numero: int\n",
    "  n_tarefas_maximo: int\n",
    "\n",
    "  def __post_init__(self):\n",
    "    self.tarefas = []\n",
    "  def queue(self, tarefa):\n",
    "    self.tarefas.append(tarefa)\n",
    "  def reset(self):\n",
    "    self.tarefas = []\n",
    "  @property\n",
    "  def horario(self):\n",
    "    horario = [] # o horario representa quando muda de tarefa para a proxima\n",
    "    tempo = 0\n",
    "    for tarefa in self.tarefas:\n",
    "      horario.append(tempo)\n",
    "      tempo += tarefa.tempo_q_demora\n",
    "    return horario\n",
    "  def get_tarefa_at(self, hora):\n",
    "    tempo = 0\n",
    "    for tarefa in self.tarefas:\n",
    "      tempo += tarefa.tempo_q_demora\n",
    "      if tempo > hora:\n",
    "        return tarefa\n",
    "    return None"
   ]
  },
  {
   "cell_type": "code",
   "execution_count": null,
   "metadata": {},
   "outputs": [],
   "source": [
    "M1 = Maquina(1, 4)\n",
    "M2 = Maquina(2, 3)\n",
    "M3 = Maquina(3, 3)\n",
    "Maquinas = [M1, M2, M3]"
   ]
  },
  {
   "cell_type": "code",
   "execution_count": null,
   "metadata": {},
   "outputs": [],
   "source": [
    "Tarefas = [\n",
    "  Tarefa(\n",
    "    numero=i+1,\n",
    "    tempo_q_demora=t\n",
    "  )\n",
    "  for i, t in enumerate([38,33,36,20,32,29,46,38,34,40])\n",
    "]\n",
    "def getTarefa(i):\n",
    "  return Tarefas[i-1]\n",
    "  \n",
    "# 1 junho (8h) até 5 junho (8h)\n",
    "[getTarefa(i).acabar_antes = 24*(5-1) for i in [3,4,5]]"
   ]
  }
 ],
 "metadata": {
  "kernelspec": {
   "display_name": "Python 3 (ipykernel)",
   "language": "python",
   "name": "python3"
  },
  "language_info": {
   "codemirror_mode": {
    "name": "ipython",
    "version": 3
   },
   "file_extension": ".py",
   "mimetype": "text/x-python",
   "name": "python",
   "nbconvert_exporter": "python",
   "pygments_lexer": "ipython3",
   "version": "3.9.13"
  }
 },
 "nbformat": 4,
 "nbformat_minor": 4
}

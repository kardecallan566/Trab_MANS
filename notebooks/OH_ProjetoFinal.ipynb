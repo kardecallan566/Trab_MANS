{
 "cells": [
  {
   "cell_type": "markdown",
   "id": "d9fe5c75-8b76-4f33-b8d3-793a97de116c",
   "metadata": {},
   "source": [
    "# Trabalho Final"
   ]
  },
  {
   "cell_type": "markdown",
   "id": "e850f84f-4624-4e83-ba23-90b504b3f0d7",
   "metadata": {},
   "source": [
    "## Imports"
   ]
  },
  {
   "cell_type": "code",
   "execution_count": 87,
   "id": "54a33a00-c7a7-4b65-a781-7171c344ba80",
   "metadata": {},
   "outputs": [],
   "source": [
    "import itertools\n",
    "import pandas as pd\n",
    "import numpy as np\n",
    "import IPython\n",
    "import random\n",
    "\n",
    "pd.set_option('display.max_colwidth', None)"
   ]
  },
  {
   "cell_type": "markdown",
   "id": "b1bcc401-d965-403c-8332-cf7f973f431f",
   "metadata": {},
   "source": [
    "## Functions"
   ]
  },
  {
   "cell_type": "code",
   "execution_count": 14,
   "id": "a8b88821-69de-4016-ad27-129381f6e130",
   "metadata": {},
   "outputs": [],
   "source": [
    "# Respetivo tempo de cada Tarefa\n",
    "Inicio = {'T1':38, 'T2':33, 'T3':36, 'T4':20, 'T5':32, 'T6':29, 'T7':46, 'T8':38, 'T9':34, 'T10':40}\n",
    "\n",
    "# Coluna (Respetiva máquina e qual ordem da tarefa)\n",
    "colunas = [\"M1_T1\", \"M1_T2\", \"M1_T3\", \"M1_T4\", \"M2_T1\", \"M2_T2\", \"M2_T3\", \"M3_T1\", \"M3_T2\", \"M3_T3\"]"
   ]
  },
  {
   "cell_type": "code",
   "execution_count": 3,
   "id": "eecbf74b-6615-46fc-b7de-ef118222d5fb",
   "metadata": {},
   "outputs": [],
   "source": [
    "def DemoraMaquina(df_permutations):\n",
    "    df_permutations[\"Maq1\"] = df_permutations[[\"M1_T1\", \"M1_T2\", \"M1_T3\", \"M1_T4\"]].apply(lambda row: sum(Inicio.get(valor) for valor in row), axis=1)\n",
    "    df_permutations[\"Maq2\"] = df_permutations[[\"M2_T1\", \"M2_T2\", \"M2_T3\"]].apply(lambda row: sum(Inicio.get(valor) for valor in row), axis=1)\n",
    "    df_permutations[\"Maq3\"] = df_permutations[[\"M3_T1\", \"M3_T2\", \"M3_T3\"]].apply(lambda row: sum(Inicio.get(valor) for valor in row), axis=1)\n",
    "    df_permutations[\"MaquinaDemora\"] = df_permutations[[\"Maq1\", \"Maq2\", \"Maq3\"]].max(axis=1)\n",
    "    df_permutations.drop([\"Maq1\", \"Maq2\", \"Maq3\"], axis=1, inplace=True)"
   ]
  },
  {
   "cell_type": "code",
   "execution_count": 4,
   "id": "c357385f-ce73-402e-8668-5b4e3e66ea37",
   "metadata": {},
   "outputs": [],
   "source": [
    "def RespeitaRestricao(df_permutations):    \n",
    "    df_permutations[\"Soma_M1\"] = 0\n",
    "    df_permutations[\"Soma_M2\"] = 0\n",
    "    df_permutations[\"Soma_M3\"] = 0\n",
    "\n",
    "    for index, row in df_permutations.iterrows():\n",
    "        soma_m1 = 0\n",
    "        m1_critico = 0\n",
    "        m1_iterado = 0\n",
    "        soma_m2 = 0\n",
    "        m2_critico = 0\n",
    "        m2_iterado = 0\n",
    "        soma_m3 = 0\n",
    "        m3_critico = 0\n",
    "        m3_iterado = 0\n",
    "\n",
    "        for i in range(1, 5):\n",
    "            tarefa_m1 = row[f\"M1_T{i}\"]\n",
    "            if tarefa_m1 in [\"T3\", \"T4\", \"T5\"]:\n",
    "                m1_critico += 1\n",
    "                soma_m1 += m1_iterado\n",
    "                soma_m1 += Inicio.get(tarefa_m1)\n",
    "                m1_iterado = 0\n",
    "            else:\n",
    "                m1_iterado += Inicio.get(tarefa_m1, 0)\n",
    "        if m1_critico == 0:\n",
    "            soma_m1 = 0\n",
    "\n",
    "        for i in range(1, 4):\n",
    "            tarefa_m2 = row[f\"M2_T{i}\"]\n",
    "            if tarefa_m2 in [\"T3\", \"T4\", \"T5\"]:\n",
    "                m2_critico += 1\n",
    "                soma_m2 *= m2_iterado\n",
    "                soma_m2 += Inicio.get(tarefa_m2)\n",
    "                m2_iterado = 0\n",
    "            else:\n",
    "                m2_iterado += Inicio.get(tarefa_m1, 0)\n",
    "        if m2_critico == 0:\n",
    "            soma_m2 = 0\n",
    "\n",
    "        for i in range(1, 4):\n",
    "            tarefa_m3 = row[f\"M3_T{i}\"]\n",
    "            if tarefa_m3 in [\"T3\", \"T4\", \"T5\"]:\n",
    "                m3_critico += 1\n",
    "                soma_m3 += m3_iterado\n",
    "                soma_m3 += Inicio.get(tarefa_m3)\n",
    "                m3_iterado = 0\n",
    "            else:\n",
    "                m3_iterado += Inicio.get(tarefa_m1, 0)\n",
    "        if m3_critico == 0:\n",
    "            soma_m3 = 0\n",
    "\n",
    "        df_permutations.at[index, \"Soma_M1\"] = soma_m1\n",
    "        df_permutations.at[index, \"Soma_M2\"] = soma_m2\n",
    "        df_permutations.at[index, \"Soma_M3\"] = soma_m3\n",
    "    df_permutations[\"Maior_Soma\"] = df_permutations[[\"Soma_M1\", \"Soma_M2\", \"Soma_M3\"]].max(axis=1)\n",
    "    df_permutations[\"Restrição Respeitada?\"] = df_permutations[\"Maior_Soma\"] <= 96\n",
    "\n",
    "    df_permutations.drop([\"Soma_M1\", \"Soma_M2\", \"Soma_M3\", \"Maior_Soma\"], axis=1, inplace=True)"
   ]
  },
  {
   "cell_type": "markdown",
   "id": "cc0e49f9-acae-4df3-ad33-a2a1c18df086",
   "metadata": {},
   "source": [
    "## Pergunta a)"
   ]
  },
  {
   "cell_type": "markdown",
   "id": "63bc5c48-6b0e-489c-8637-196e5653fa98",
   "metadata": {},
   "source": [
    "**Neste pergunta será referida uma heurística possível para se aplicar neste problema**"
   ]
  },
  {
   "cell_type": "markdown",
   "id": "ec70ca5a-852c-4eba-a960-7a0fb9876cb4",
   "metadata": {},
   "source": [
    "1. Iremos atribuir as 3 tarefas críticas (T3, T4, T5), a cada uma das máquinas, a fim de se conseguir realizar o prazo o mais rápido possivel\n",
    "2. De seguida, será colocado a tarefa mais rápida na máquina com mais tarefas\n",
    "3. Por fim, serão atribuidos aleatoriamente as restantes tarefas"
   ]
  },
  {
   "cell_type": "markdown",
   "id": "428f7513-6890-4a74-80d7-91b2434a1cf9",
   "metadata": {},
   "source": [
    "## Pergunta b)"
   ]
  },
  {
   "cell_type": "code",
   "execution_count": 19,
   "id": "892b073f-58f4-4888-a946-5d27c525d81e",
   "metadata": {},
   "outputs": [],
   "source": [
    "Heuristica = [\"T3\", \"T6\", \"T2\", \"T9\", \"T4\", \"T7\", \"T1\", \"T5\", \"T8\", \"T10\"]"
   ]
  },
  {
   "cell_type": "code",
   "execution_count": 20,
   "id": "86849ed7-97fb-46be-99f2-a45a3f888d6c",
   "metadata": {},
   "outputs": [
    {
     "data": {
      "text/html": [
       "<div>\n",
       "<style scoped>\n",
       "    .dataframe tbody tr th:only-of-type {\n",
       "        vertical-align: middle;\n",
       "    }\n",
       "\n",
       "    .dataframe tbody tr th {\n",
       "        vertical-align: top;\n",
       "    }\n",
       "\n",
       "    .dataframe thead th {\n",
       "        text-align: right;\n",
       "    }\n",
       "</style>\n",
       "<table border=\"1\" class=\"dataframe\">\n",
       "  <thead>\n",
       "    <tr style=\"text-align: right;\">\n",
       "      <th></th>\n",
       "      <th>M1_T1</th>\n",
       "      <th>M1_T2</th>\n",
       "      <th>M1_T3</th>\n",
       "      <th>M1_T4</th>\n",
       "      <th>M2_T1</th>\n",
       "      <th>M2_T2</th>\n",
       "      <th>M2_T3</th>\n",
       "      <th>M3_T1</th>\n",
       "      <th>M3_T2</th>\n",
       "      <th>M3_T3</th>\n",
       "    </tr>\n",
       "  </thead>\n",
       "  <tbody>\n",
       "    <tr>\n",
       "      <th>0</th>\n",
       "      <td>T3</td>\n",
       "      <td>T6</td>\n",
       "      <td>T2</td>\n",
       "      <td>T9</td>\n",
       "      <td>T4</td>\n",
       "      <td>T7</td>\n",
       "      <td>T1</td>\n",
       "      <td>T5</td>\n",
       "      <td>T8</td>\n",
       "      <td>T10</td>\n",
       "    </tr>\n",
       "  </tbody>\n",
       "</table>\n",
       "</div>"
      ],
      "text/plain": [
       "  M1_T1 M1_T2 M1_T3 M1_T4 M2_T1 M2_T2 M2_T3 M3_T1 M3_T2 M3_T3\n",
       "0    T3    T6    T2    T9    T4    T7    T1    T5    T8   T10"
      ]
     },
     "execution_count": 20,
     "metadata": {},
     "output_type": "execute_result"
    }
   ],
   "source": [
    "df_heuristica = pd.DataFrame([Heuristica], columns=colunas)\n",
    "df_heuristica"
   ]
  },
  {
   "cell_type": "code",
   "execution_count": 21,
   "id": "51d92aa0-f3ee-481b-8a11-499e229359de",
   "metadata": {},
   "outputs": [
    {
     "data": {
      "text/html": [
       "<div>\n",
       "<style scoped>\n",
       "    .dataframe tbody tr th:only-of-type {\n",
       "        vertical-align: middle;\n",
       "    }\n",
       "\n",
       "    .dataframe tbody tr th {\n",
       "        vertical-align: top;\n",
       "    }\n",
       "\n",
       "    .dataframe thead th {\n",
       "        text-align: right;\n",
       "    }\n",
       "</style>\n",
       "<table border=\"1\" class=\"dataframe\">\n",
       "  <thead>\n",
       "    <tr style=\"text-align: right;\">\n",
       "      <th></th>\n",
       "      <th>M1_T1</th>\n",
       "      <th>M1_T2</th>\n",
       "      <th>M1_T3</th>\n",
       "      <th>M1_T4</th>\n",
       "      <th>M2_T1</th>\n",
       "      <th>M2_T2</th>\n",
       "      <th>M2_T3</th>\n",
       "      <th>M3_T1</th>\n",
       "      <th>M3_T2</th>\n",
       "      <th>M3_T3</th>\n",
       "      <th>MaquinaDemora</th>\n",
       "      <th>Restrição Respeitada?</th>\n",
       "    </tr>\n",
       "  </thead>\n",
       "  <tbody>\n",
       "    <tr>\n",
       "      <th>0</th>\n",
       "      <td>T3</td>\n",
       "      <td>T6</td>\n",
       "      <td>T2</td>\n",
       "      <td>T9</td>\n",
       "      <td>T4</td>\n",
       "      <td>T7</td>\n",
       "      <td>T1</td>\n",
       "      <td>T5</td>\n",
       "      <td>T8</td>\n",
       "      <td>T10</td>\n",
       "      <td>132</td>\n",
       "      <td>True</td>\n",
       "    </tr>\n",
       "  </tbody>\n",
       "</table>\n",
       "</div>"
      ],
      "text/plain": [
       "  M1_T1 M1_T2 M1_T3 M1_T4 M2_T1 M2_T2 M2_T3 M3_T1 M3_T2 M3_T3  MaquinaDemora  \\\n",
       "0    T3    T6    T2    T9    T4    T7    T1    T5    T8   T10            132   \n",
       "\n",
       "   Restrição Respeitada?  \n",
       "0                   True  "
      ]
     },
     "execution_count": 21,
     "metadata": {},
     "output_type": "execute_result"
    }
   ],
   "source": [
    "DemoraMaquina(df_heuristica)\n",
    "RespeitaRestricao(df_heuristica)\n",
    "df_heuristica"
   ]
  },
  {
   "cell_type": "code",
   "execution_count": 46,
   "id": "f4724e30-df87-49eb-9a6f-e70b2945d9e8",
   "metadata": {},
   "outputs": [
    {
     "name": "stdout",
     "output_type": "stream",
     "text": [
      "=================================================================\n",
      " ⚫ A \u001b[1mmáquina 1\u001b[0m possui a \u001b[1mtarefaT3\u001b[0m, que possui uma \u001b[1mduração de 36\u001b[0m\n",
      " ⚫ A \u001b[1mmáquina 1\u001b[0m possui a \u001b[1mtarefaT6\u001b[0m, que possui uma \u001b[1mduração de 29\u001b[0m\n",
      " ⚫ A \u001b[1mmáquina 1\u001b[0m possui a \u001b[1mtarefaT2\u001b[0m, que possui uma \u001b[1mduração de 33\u001b[0m\n",
      " ⚫ A \u001b[1mmáquina 1\u001b[0m possui a \u001b[1mtarefaT9\u001b[0m, que possui uma \u001b[1mduração de 34\u001b[0m\n",
      " ⚫ A \u001b[1mmáquina 2\u001b[0m possui a \u001b[1mtarefaT4\u001b[0m, que possui uma \u001b[1mduração de 20\u001b[0m\n",
      " ⚫ A \u001b[1mmáquina 2\u001b[0m possui a \u001b[1mtarefaT7\u001b[0m, que possui uma \u001b[1mduração de 46\u001b[0m\n",
      " ⚫ A \u001b[1mmáquina 2\u001b[0m possui a \u001b[1mtarefaT1\u001b[0m, que possui uma \u001b[1mduração de 38\u001b[0m\n",
      " ⚫ A \u001b[1mmáquina 3\u001b[0m possui a \u001b[1mtarefaT5\u001b[0m, que possui uma \u001b[1mduração de 32\u001b[0m\n",
      " ⚫ A \u001b[1mmáquina 3\u001b[0m possui a \u001b[1mtarefaT8\u001b[0m, que possui uma \u001b[1mduração de 38\u001b[0m\n",
      " ⚫ A \u001b[1mmáquina 3\u001b[0m possui a \u001b[1mtarefaT10\u001b[0m, que possui uma \u001b[1mduração de 40\u001b[0m\n",
      "=================================================================\n"
     ]
    }
   ],
   "source": [
    "print(\"=================================================================\")\n",
    "for coluna in df_permutations.columns[:4]:\n",
    "    primeira_linha = df_permutations[coluna].iloc[0]\n",
    "    print(f\" ⚫ A \\033[1mmáquina 1\\033[0m possui a \\033[1mtarefa{primeira_linha}\\033[0m, que possui uma \\033[1mduração de {Inicio.get(primeira_linha)}\\033[0m\")\n",
    "for coluna in df_permutations.columns[4:7]:\n",
    "    primeira_linha = df_permutations[coluna].iloc[0]\n",
    "    print(f\" ⚫ A \\033[1mmáquina 2\\033[0m possui a \\033[1mtarefa{primeira_linha}\\033[0m, que possui uma \\033[1mduração de {Inicio.get(primeira_linha)}\\033[0m\")\n",
    "for coluna in df_permutations.columns[7:]:\n",
    "    primeira_linha = df_permutations[coluna].iloc[0]\n",
    "    print(f\" ⚫ A \\033[1mmáquina 3\\033[0m possui a \\033[1mtarefa{primeira_linha}\\033[0m, que possui uma \\033[1mduração de {Inicio.get(primeira_linha)}\\033[0m\")\n",
    "print(\"=================================================================\")"
   ]
  },
  {
   "cell_type": "markdown",
   "id": "cf458f34-c25e-4156-aa19-b81de06f2907",
   "metadata": {},
   "source": [
    "É possível visualizar que a restrição foi respeitada"
   ]
  },
  {
   "cell_type": "markdown",
   "id": "8573025b-e0e4-4ede-8828-8bb7a4fc9f80",
   "metadata": {},
   "source": [
    "## Pergunta c)"
   ]
  },
  {
   "cell_type": "code",
   "execution_count": 43,
   "id": "2fa8593b-5922-4465-a708-14f14d7140e0",
   "metadata": {},
   "outputs": [
    {
     "name": "stdout",
     "output_type": "stream",
     "text": [
      "['T3', 'T6', 'T2', 'T9', 'T4', 'T7', 'T1', 'T5', 'T8', 'T10']\n"
     ]
    }
   ],
   "source": [
    "Cromossoma = '[' + ', '.join([f\"'{valor}'\" for valor in Heuristica]) + ']'\n",
    "print(Cromossoma)"
   ]
  },
  {
   "cell_type": "markdown",
   "id": "53f4d373-47be-49c5-af99-aac385b3f3e6",
   "metadata": {},
   "source": [
    "Nota:\n",
    "- As 4 primeiras tarefas correspondem à máquina 1\n",
    "- Da 5 à 7 tarefas correspondem à máquina 2\n",
    "- As restantes tarefas correspondem à máquina 3"
   ]
  },
  {
   "cell_type": "markdown",
   "id": "fc0be1fd-8b46-45cd-b252-c7338e1382a3",
   "metadata": {},
   "source": [
    "## Pergunta d)"
   ]
  },
  {
   "cell_type": "markdown",
   "id": "f8b4cd90-687d-441b-a3fe-33661f1e7b98",
   "metadata": {},
   "source": [
    "**Experiência com vários cromossomas**"
   ]
  },
  {
   "cell_type": "markdown",
   "id": "fab28937-0b56-4e96-a93b-6bf8ef9fdfd9",
   "metadata": {},
   "source": [
    "### Crossover Uniforme"
   ]
  },
  {
   "cell_type": "code",
   "execution_count": 145,
   "id": "0c9dd1d8-6775-4dcd-9f78-188fe73913e6",
   "metadata": {},
   "outputs": [
    {
     "name": "stdout",
     "output_type": "stream",
     "text": [
      "Filho 1: ['T3', 'T5', 'T2', 'T4', 'T4', 'T2', 'T10', 'T5', 'T8', 'T9']\n",
      "Filho 2: ['T1', 'T6', 'T7', 'T9', 'T8', 'T7', 'T1', 'T6', 'T3', 'T10']\n"
     ]
    }
   ],
   "source": [
    "import random\n",
    "import copy\n",
    "\n",
    "heuristica = [\"T3\", \"T6\", \"T2\", \"T9\", \"T4\", \"T7\", \"T1\", \"T5\", \"T8\", \"T10\"]\n",
    "\n",
    "pai1 = copy.deepcopy(heuristica)\n",
    "pai2 = copy.deepcopy(heuristica)\n",
    "random.shuffle(pai2)\n",
    "\n",
    "filho1 = []\n",
    "filho2 = []\n",
    "\n",
    "for i in range(len(heuristica)):\n",
    "    if random.random() < 0.5:  # Seleciona aleatoriamente entre os pais\n",
    "        filho1.append(pai1[i])\n",
    "        filho2.append(pai2[i])\n",
    "    else:\n",
    "        filho1.append(pai2[i])\n",
    "        filho2.append(pai1[i])\n",
    "\n",
    "print(\"Filho 1:\", filho1)\n",
    "print(\"Filho 2:\", filho2)"
   ]
  },
  {
   "cell_type": "code",
   "execution_count": 146,
   "id": "d258c13a-9308-4bbc-a8f7-1706426b0932",
   "metadata": {},
   "outputs": [
    {
     "data": {
      "text/html": [
       "<div>\n",
       "<style scoped>\n",
       "    .dataframe tbody tr th:only-of-type {\n",
       "        vertical-align: middle;\n",
       "    }\n",
       "\n",
       "    .dataframe tbody tr th {\n",
       "        vertical-align: top;\n",
       "    }\n",
       "\n",
       "    .dataframe thead th {\n",
       "        text-align: right;\n",
       "    }\n",
       "</style>\n",
       "<table border=\"1\" class=\"dataframe\">\n",
       "  <thead>\n",
       "    <tr style=\"text-align: right;\">\n",
       "      <th></th>\n",
       "      <th>M1_T1</th>\n",
       "      <th>M1_T2</th>\n",
       "      <th>M1_T3</th>\n",
       "      <th>M1_T4</th>\n",
       "      <th>M2_T1</th>\n",
       "      <th>M2_T2</th>\n",
       "      <th>M2_T3</th>\n",
       "      <th>M3_T1</th>\n",
       "      <th>M3_T2</th>\n",
       "      <th>M3_T3</th>\n",
       "      <th>MaquinaDemora</th>\n",
       "      <th>Restrição Respeitada?</th>\n",
       "    </tr>\n",
       "  </thead>\n",
       "  <tbody>\n",
       "    <tr>\n",
       "      <th>0</th>\n",
       "      <td>T3</td>\n",
       "      <td>T5</td>\n",
       "      <td>T2</td>\n",
       "      <td>T4</td>\n",
       "      <td>T4</td>\n",
       "      <td>T2</td>\n",
       "      <td>T10</td>\n",
       "      <td>T5</td>\n",
       "      <td>T8</td>\n",
       "      <td>T9</td>\n",
       "      <td>121</td>\n",
       "      <td>False</td>\n",
       "    </tr>\n",
       "    <tr>\n",
       "      <th>1</th>\n",
       "      <td>T1</td>\n",
       "      <td>T6</td>\n",
       "      <td>T7</td>\n",
       "      <td>T9</td>\n",
       "      <td>T8</td>\n",
       "      <td>T7</td>\n",
       "      <td>T1</td>\n",
       "      <td>T6</td>\n",
       "      <td>T3</td>\n",
       "      <td>T10</td>\n",
       "      <td>147</td>\n",
       "      <td>True</td>\n",
       "    </tr>\n",
       "  </tbody>\n",
       "</table>\n",
       "</div>"
      ],
      "text/plain": [
       "  M1_T1 M1_T2 M1_T3 M1_T4 M2_T1 M2_T2 M2_T3 M3_T1 M3_T2 M3_T3  MaquinaDemora  \\\n",
       "0    T3    T5    T2    T4    T4    T2   T10    T5    T8    T9            121   \n",
       "1    T1    T6    T7    T9    T8    T7    T1    T6    T3   T10            147   \n",
       "\n",
       "   Restrição Respeitada?  \n",
       "0                  False  \n",
       "1                   True  "
      ]
     },
     "execution_count": 146,
     "metadata": {},
     "output_type": "execute_result"
    }
   ],
   "source": [
    "df_filhos = pd.DataFrame()\n",
    "\n",
    "for i, coluna in enumerate(df_permutations.columns):\n",
    "    df_filhos[coluna] = [filho1[i], filho2[i]]\n",
    "DemoraMaquina(df_filhos)\n",
    "RespeitaRestricao(df_filhos)\n",
    "df_filhos"
   ]
  },
  {
   "cell_type": "markdown",
   "id": "49dbd2b5-3968-4522-aae2-c4c7e080f2f7",
   "metadata": {},
   "source": [
    "### Crossover a 1 Ponto"
   ]
  },
  {
   "cell_type": "code",
   "execution_count": 124,
   "id": "2da70750-5863-47d2-984f-ca511e2f4f97",
   "metadata": {},
   "outputs": [],
   "source": [
    "Heuristica = [\"T3\", \"T6\", \"T2\", \"T9\", \"T4\", \"T7\", \"T1\", \"T5\", \"T8\", \"T10\"]"
   ]
  },
  {
   "cell_type": "code",
   "execution_count": 143,
   "id": "9d7de314-dcd6-4f15-952e-75fbecf902dd",
   "metadata": {},
   "outputs": [
    {
     "name": "stdout",
     "output_type": "stream",
     "text": [
      "K=2\n",
      "Filho 1: ['T3', 'T6', 'T10', 'T2', 'T3', 'T7', 'T8', 'T4', 'T6', 'T5']\n",
      "Filho 2: ['T1', 'T9', 'T2', 'T9', 'T4', 'T7', 'T1', 'T5', 'T8', 'T10']\n"
     ]
    }
   ],
   "source": [
    "def crossover_um_ponto(pai1, pai2):\n",
    "    ponto_corte = random.randint(1, len(pai1) - 1)\n",
    "    filho1 = pai1[:ponto_corte] + pai2[ponto_corte:]\n",
    "    filho2 = pai2[:ponto_corte] + pai1[ponto_corte:]\n",
    "    print(f\"K={ponto_corte}\")\n",
    "    return filho1, filho2\n",
    "\n",
    "pai1 = copy.deepcopy(heuristica)\n",
    "pai2 = copy.deepcopy(heuristica)\n",
    "random.shuffle(pai2)\n",
    "\n",
    "filho1, filho2 = crossover_um_ponto(pai1, pai2)\n",
    "print(\"Filho 1:\", filho1)\n",
    "print(\"Filho 2:\", filho2)"
   ]
  },
  {
   "cell_type": "code",
   "execution_count": 144,
   "id": "09519ceb-cc82-4156-aff6-5056c4dcd102",
   "metadata": {},
   "outputs": [
    {
     "data": {
      "text/html": [
       "<div>\n",
       "<style scoped>\n",
       "    .dataframe tbody tr th:only-of-type {\n",
       "        vertical-align: middle;\n",
       "    }\n",
       "\n",
       "    .dataframe tbody tr th {\n",
       "        vertical-align: top;\n",
       "    }\n",
       "\n",
       "    .dataframe thead th {\n",
       "        text-align: right;\n",
       "    }\n",
       "</style>\n",
       "<table border=\"1\" class=\"dataframe\">\n",
       "  <thead>\n",
       "    <tr style=\"text-align: right;\">\n",
       "      <th></th>\n",
       "      <th>M1_T1</th>\n",
       "      <th>M1_T2</th>\n",
       "      <th>M1_T3</th>\n",
       "      <th>M1_T4</th>\n",
       "      <th>M2_T1</th>\n",
       "      <th>M2_T2</th>\n",
       "      <th>M2_T3</th>\n",
       "      <th>M3_T1</th>\n",
       "      <th>M3_T2</th>\n",
       "      <th>M3_T3</th>\n",
       "      <th>MaquinaDemora</th>\n",
       "      <th>Restrição Respeitada?</th>\n",
       "    </tr>\n",
       "  </thead>\n",
       "  <tbody>\n",
       "    <tr>\n",
       "      <th>0</th>\n",
       "      <td>T3</td>\n",
       "      <td>T6</td>\n",
       "      <td>T10</td>\n",
       "      <td>T2</td>\n",
       "      <td>T3</td>\n",
       "      <td>T7</td>\n",
       "      <td>T8</td>\n",
       "      <td>T4</td>\n",
       "      <td>T6</td>\n",
       "      <td>T5</td>\n",
       "      <td>138</td>\n",
       "      <td>True</td>\n",
       "    </tr>\n",
       "    <tr>\n",
       "      <th>1</th>\n",
       "      <td>T1</td>\n",
       "      <td>T9</td>\n",
       "      <td>T2</td>\n",
       "      <td>T9</td>\n",
       "      <td>T4</td>\n",
       "      <td>T7</td>\n",
       "      <td>T1</td>\n",
       "      <td>T5</td>\n",
       "      <td>T8</td>\n",
       "      <td>T10</td>\n",
       "      <td>139</td>\n",
       "      <td>True</td>\n",
       "    </tr>\n",
       "  </tbody>\n",
       "</table>\n",
       "</div>"
      ],
      "text/plain": [
       "  M1_T1 M1_T2 M1_T3 M1_T4 M2_T1 M2_T2 M2_T3 M3_T1 M3_T2 M3_T3  MaquinaDemora  \\\n",
       "0    T3    T6   T10    T2    T3    T7    T8    T4    T6    T5            138   \n",
       "1    T1    T9    T2    T9    T4    T7    T1    T5    T8   T10            139   \n",
       "\n",
       "   Restrição Respeitada?  \n",
       "0                   True  \n",
       "1                   True  "
      ]
     },
     "execution_count": 144,
     "metadata": {},
     "output_type": "execute_result"
    }
   ],
   "source": [
    "df_filhos = pd.DataFrame()\n",
    "\n",
    "for i, coluna in enumerate(df_permutations.columns):\n",
    "    df_filhos[coluna] = [filho1[i], filho2[i]]\n",
    "DemoraMaquina(df_filhos)\n",
    "RespeitaRestricao(df_filhos)\n",
    "df_filhos"
   ]
  },
  {
   "cell_type": "markdown",
   "id": "8222ba77-2383-472e-bd75-c59d21b60cf0",
   "metadata": {},
   "source": [
    "## Programação Auxiliar"
   ]
  },
  {
   "cell_type": "markdown",
   "id": "1d8997fd-e8c3-4412-8c65-b1a11f8b7507",
   "metadata": {},
   "source": [
    "**Aqui encontra-se apenas código usado para teste**"
   ]
  },
  {
   "cell_type": "code",
   "execution_count": null,
   "id": "fac84c6f-f288-4fbf-8c61-6bd214c24767",
   "metadata": {},
   "outputs": [],
   "source": [
    "Coluna = [\"M1_T1\", \"M1_T2\", \"M1_T3\", \"M1_T4\", \"M2_T1\", \"M2_T2\", \"M2_T3\", \"M3_T1\", \"M3_T2\", \"M3_T3\"]"
   ]
  },
  {
   "cell_type": "code",
   "execution_count": null,
   "id": "823cf13a-81c9-4c8c-b801-54b8a3df4144",
   "metadata": {},
   "outputs": [],
   "source": [
    "Trabalhos = []\n",
    "for i in range(10):\n",
    "    Trabalhos.append(f\"T{i+1}\")\n",
    "Trabalhos"
   ]
  },
  {
   "cell_type": "code",
   "execution_count": null,
   "id": "eccc8ccb-466d-421b-9eed-7b9d9d6cd002",
   "metadata": {},
   "outputs": [],
   "source": [
    "Inicio = {'T1':38, 'T2':33, 'T3':36, 'T4':20, 'T5':32, 'T6':29, 'T7':46, 'T8':38, 'T9':34, 'T10':40}\n",
    "permutation_list = list(itertools.permutations(Trabalhos))"
   ]
  },
  {
   "cell_type": "code",
   "execution_count": null,
   "id": "bd993d4a-0008-4dc1-bddc-592f310580d8",
   "metadata": {},
   "outputs": [],
   "source": [
    "x1 = 38+29+36+20\n",
    "x2 = 38+33+46\n",
    "x3 = 32+34+40\n",
    "\n",
    "max(x1, x2, x3)"
   ]
  },
  {
   "cell_type": "code",
   "execution_count": null,
   "id": "170e44fc-c98d-404b-a6cb-53749722cc47",
   "metadata": {},
   "outputs": [],
   "source": [
    "Inicio.get(\"T1\")"
   ]
  },
  {
   "cell_type": "code",
   "execution_count": null,
   "id": "a7f4008c-bb63-48a3-a6c4-1a4e729e9838",
   "metadata": {},
   "outputs": [],
   "source": [
    "df_permutations = pd.DataFrame(permutation_list, columns=Coluna)"
   ]
  },
  {
   "cell_type": "code",
   "execution_count": null,
   "id": "37b4f504-8726-4bdb-8ba2-5952439d88fb",
   "metadata": {},
   "outputs": [],
   "source": [
    "df_permutations"
   ]
  },
  {
   "cell_type": "code",
   "execution_count": null,
   "id": "ad3caaec-c193-4017-908f-cd7c2d50ee65",
   "metadata": {},
   "outputs": [],
   "source": [
    "df_permutations[\"Maq1\"] = df_permutations[[\"M1_T1\", \"M1_T2\", \"M1_T3\", \"M1_T4\"]].apply(lambda row: sum(Inicio.get(valor) for valor in row), axis=1)\n",
    "df_permutations[\"Maq2\"] = df_permutations[[\"M2_T1\", \"M2_T2\", \"M2_T3\"]].apply(lambda row: sum(Inicio.get(valor) for valor in row), axis=1)\n",
    "df_permutations[\"Maq3\"] = df_permutations[[\"M3_T1\", \"M3_T2\", \"M3_T3\"]].apply(lambda row: sum(Inicio.get(valor) for valor in row), axis=1)"
   ]
  },
  {
   "cell_type": "code",
   "execution_count": null,
   "id": "f6b23d01-d03f-40bf-93ae-12cedb8ffab2",
   "metadata": {},
   "outputs": [],
   "source": [
    "df_permutations[\"MaquinaDemora\"] = df_permutations[[\"Maq1\", \"Maq2\", \"Maq3\"]].max(axis=1)\n",
    "df_permutations.drop([\"Maq1\", \"Maq2\", \"Maq3\"], axis=1, inplace=True)"
   ]
  },
  {
   "cell_type": "code",
   "execution_count": null,
   "id": "8edf850f-1978-4d8b-a8f7-b61980d6ff18",
   "metadata": {},
   "outputs": [],
   "source": [
    "df_permutations.head(10)"
   ]
  },
  {
   "cell_type": "code",
   "execution_count": null,
   "id": "458f040a-f582-4aa3-80d0-448a74c0fcb1",
   "metadata": {},
   "outputs": [],
   "source": [
    "df_permutations = df_permutations.head(10)"
   ]
  },
  {
   "cell_type": "code",
   "execution_count": null,
   "id": "f2b79e60-51be-4165-8946-fbd8ef4c4cfc",
   "metadata": {},
   "outputs": [],
   "source": [
    "RespeitaRestricao(df_permutations)"
   ]
  },
  {
   "cell_type": "code",
   "execution_count": null,
   "id": "bdaee34d-6b62-4fc8-b5c5-4d11fe6f70df",
   "metadata": {},
   "outputs": [],
   "source": [
    "df_permutations"
   ]
  },
  {
   "cell_type": "markdown",
   "id": "e1b78aab-f9ab-4637-8401-a8716f73579e",
   "metadata": {},
   "source": [
    "- - -"
   ]
  }
 ],
 "metadata": {
  "kernelspec": {
   "display_name": "Python 3 (ipykernel)",
   "language": "python",
   "name": "python3"
  },
  "language_info": {
   "codemirror_mode": {
    "name": "ipython",
    "version": 3
   },
   "file_extension": ".py",
   "mimetype": "text/x-python",
   "name": "python",
   "nbconvert_exporter": "python",
   "pygments_lexer": "ipython3",
   "version": "3.9.13"
  }
 },
 "nbformat": 4,
 "nbformat_minor": 5
}

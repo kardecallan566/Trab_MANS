{
 "cells": [
  {
   "attachments": {},
   "cell_type": "markdown",
   "id": "4c7cbe1c",
   "metadata": {
    "collapsed": false
   },
   "source": [
    "# Imports"
   ]
  },
  {
   "cell_type": "code",
   "execution_count": 1,
   "id": "66f7a06c",
   "metadata": {},
   "outputs": [],
   "source": [
    "import itertools\n",
    "import pandas as pd\n",
    "import random\n",
    "import plotnine.options\n",
    "from plotnine import *\n",
    "from pprint import pprint as pp\n",
    "plotnine.options.figure_size = (7, 5)"
   ]
  },
  {
   "attachments": {},
   "cell_type": "markdown",
   "id": "5dacfc95",
   "metadata": {},
   "source": [
    "# Preâmbulo"
   ]
  },
  {
   "attachments": {},
   "cell_type": "markdown",
   "id": "fa3fb27d",
   "metadata": {},
   "source": [
    "## Tipos"
   ]
  },
  {
   "cell_type": "code",
   "execution_count": 2,
   "id": "426cec94",
   "metadata": {
    "ExecuteTime": {
     "end_time": "2023-06-06T21:59:07.250996600Z",
     "start_time": "2023-06-06T21:59:07.249997300Z"
    },
    "collapsed": false
   },
   "outputs": [],
   "source": [
    "horas = int\n",
    "tarefa = int\n",
    "periodo = (horas, horas)\n",
    "cromossoma = list[tarefa]\n",
    "populacaoT = list[cromossoma]\n",
    "\n",
    "class Maquina:\n",
    "  def __init__(self, numero: int, n_tarefas: int):\n",
    "    self.numero = numero\n",
    "    self.n_tarefas = n_tarefas\n",
    "\n",
    "  def __repr__(self):\n",
    "    return f'M{self.numero}'\n",
    "\n",
    "  def __hash__(self):\n",
    "    return self.numero"
   ]
  },
  {
   "attachments": {},
   "cell_type": "markdown",
   "id": "17141676",
   "metadata": {},
   "source": [
    "## Valores"
   ]
  },
  {
   "cell_type": "code",
   "execution_count": 3,
   "id": "894662e8",
   "metadata": {},
   "outputs": [
    {
     "data": {
      "text/plain": [
       "{1: 38, 2: 33, 3: 36, 4: 20, 5: 32, 6: 29, 7: 46, 8: 38, 9: 34, 10: 40}"
      ]
     },
     "execution_count": 3,
     "metadata": {},
     "output_type": "execute_result"
    }
   ],
   "source": [
    "Tarefas: dict[tarefa, horas] = {\n",
    "  t + 1: h for t, h in enumerate([38, 33, 36, 20, 32, 29, 46, 38, 34, 40])\n",
    "}\n",
    "restricao_val = acabarAntes = 24 * (5 - 1)\n",
    "restricao: dict[tarefa, horas] = {  # tempo minimo para a compleção das tarefa\n",
    "  3: restricao_val,\n",
    "  4: restricao_val,\n",
    "  5: restricao_val,\n",
    "}\n",
    "maquinas = [Maquina(1, 4), Maquina(2, 3), Maquina(3, 3)]\n",
    "Tarefas"
   ]
  },
  {
   "attachments": {},
   "cell_type": "markdown",
   "id": "6c6424f5",
   "metadata": {},
   "source": [
    "## Funções"
   ]
  },
  {
   "cell_type": "code",
   "execution_count": 4,
   "id": "bd2a772f",
   "metadata": {},
   "outputs": [],
   "source": [
    "def first(iterable, func, default=None):\n",
    "  # get first element that satisfies func\n",
    "  return next(filter(func, iterable), default)\n",
    "\n",
    "\n",
    "def first_ind(iterable, func, default=None):\n",
    "  # get index of first element that satisfies func\n",
    "  return next((i for i, x in enumerate(iterable) if func(x)), default)\n",
    "\n",
    "\n",
    "set_seed = random.seed\n",
    "\n",
    "def get_time_of_tarefa(t: tarefa) -> horas:\n",
    "  return Tarefas[t]\n",
    "\n",
    "def cromo_to_maqs(cromo: cromossoma) -> dict[Maquina, list[tarefa]]:\n",
    "  # convert chromosome to machine dictionary\n",
    "  ret = {m: [] for m in maquinas}\n",
    "  cut = 0\n",
    "  for maq, l in ret.items():\n",
    "    l.extend(cromo[cut:cut + maq.n_tarefas])\n",
    "    cut += maq.n_tarefas\n",
    "  return ret\n",
    "\n",
    "def maqs_to_horario(maqs: dict[Maquina, list[tarefa]]) -> dict[Maquina, list[periodo]]:\n",
    "  # horario sao as horas acomuladas\n",
    "  ret = {m: [] for m in maquinas}\n",
    "  for maq, l in maqs.items():\n",
    "    ret[maq].append((0, get_time_of_tarefa(l[0])))\n",
    "    for t in l[1:]:\n",
    "      ret[maq].append((ret[maq][-1][1], ret[maq][-1][1] + get_time_of_tarefa(t)))\n",
    "  return ret\n",
    "\n",
    "def cromo_to_horario(crom: cromossoma) -> dict[tarefa, periodo]:\n",
    "  maqs: dict[Maquina, list[tarefa]] = cromo_to_maqs(crom)\n",
    "  horario: dict[Maquina, list[periodo]] = maqs_to_horario(maqs)\n",
    "  ret = {}\n",
    "  for m, l in horario.items():\n",
    "    tarefa_periodo: tuple[tarefa, periodo] = zip(maqs[m], l)\n",
    "    for t, p in tarefa_periodo:\n",
    "      ret[t] = p\n",
    "  return ret\n",
    "\n",
    "def cromo_respeita_restricao(cromo: cromossoma) -> bool:\n",
    "  horario: dict[tarefa, periodo] = cromo_to_horario(cromo)\n",
    "  for t, p in horario.items():\n",
    "    if t in restricao and p[1] > restricao[t]:\n",
    "      return False\n",
    "  return True\n",
    "\n",
    "def get_tempo_total(cromo: cromossoma) -> horas:\n",
    "  # tempo máximo de todas as máquinas\n",
    "  return max([p[1] for t, p in cromo_to_horario(cromo).items()])\n",
    "\n",
    "def cromos_to_df(*cromos: cromossoma) -> pd.DataFrame:\n",
    "  # hardcoded, supposed to be:\n",
    "  # M1: tarefas do M1,\n",
    "  # M2: tarefas do M2,\n",
    "  # M3: tarefas do M3,\n",
    "  # tempo total: tempo máximo de todas as máquinas\n",
    "  # respeita restricao?: se o horario das tarefas com restricoes acaba antes do valor da restricao\n",
    "  # respeita unique?: se o cromo nao tem tarefas repetidas\n",
    "  return pd.DataFrame({\n",
    "    \"M1\": [\" -> \".join([f\"T{i}\" for i in c[:4]]) for c in cromos],\n",
    "    \"M2\": [\" -> \".join([f\"T{i}\" for i in c[4:7]]) for c in cromos],\n",
    "    \"M3\": [\" -> \".join([f\"T{i}\" for i in c[7:]]) for c in cromos],\n",
    "    \"tempo total\": [get_tempo_total(c) for c in cromos],\n",
    "    \"respeita restricao?\": [cromo_respeita_restricao(c) for c in cromos],\n",
    "    \"respeita unique?\": [len(c) == len(set(c)) for c in cromos],\n",
    "  })\n",
    "\n",
    "def plot_cromo(cromo: cromossoma):\n",
    "  maqs = cromo_to_maqs(cromo)\n",
    "  horario = maqs_to_horario(maqs)\n",
    "  max_tempo = max([i[1] for m in horario for i in horario[m]])\n",
    "  df = pd.DataFrame({\n",
    "    'maquina': [i for m in maqs for i in [m.numero] * len(maqs[m])],\n",
    "    'tarefa': [t for m in maqs for t in maqs[m]],\n",
    "    \"tarefaLabel\": [f\"T{t}\" for m in maqs for t in maqs[m]],\n",
    "    \"comeca\": [i[0] for m in horario for i in horario[m]],\n",
    "    \"acaba\": [i[1] for m in horario for i in horario[m]],\n",
    "  })\n",
    "  # noinspection PyTypeChecker,DuplicatedCode\n",
    "  return ggplot(df, aes(y=\"maquina\")) + geom_point(aes(x=\"comeca\", color=\"factor(comeca)\"), size=5) + \\\n",
    "    geom_path(aes(x=\"acaba\", group=\"maquina\", color=\"factor(acaba)\")) + \\\n",
    "    geom_path(aes(x=\"comeca\", group=\"maquina\", color=\"factor(comeca)\")) + \\\n",
    "    geom_vline(xintercept=max_tempo, linetype=\"dashed\") + \\\n",
    "    geom_text(aes(x=\"comeca\", label=\"tarefaLabel\"), size=10, nudge_x=0.1, nudge_y=0.1) + \\\n",
    " \\\n",
    "    scale_x_continuous(breaks=[0, 24, 48, 72, 96, max_tempo]) + \\\n",
    "    scale_y_continuous(breaks=[1, 2, 3]) + \\\n",
    "    scale_color_discrete(guide=False) + \\\n",
    "    coord_fixed(xlim=(-0.5, 144)) + \\\n",
    "    labs(x=\"horas\", y=\"maquina\") + \\\n",
    "    theme_classic() + \\\n",
    "    theme(aspect_ratio=0.7)"
   ]
  },
  {
   "cell_type": "code",
   "execution_count": 5,
   "id": "29f980e8",
   "metadata": {},
   "outputs": [
    {
     "data": {
      "text/html": [
       "<div>\n",
       "<style scoped>\n",
       "    .dataframe tbody tr th:only-of-type {\n",
       "        vertical-align: middle;\n",
       "    }\n",
       "\n",
       "    .dataframe tbody tr th {\n",
       "        vertical-align: top;\n",
       "    }\n",
       "\n",
       "    .dataframe thead th {\n",
       "        text-align: right;\n",
       "    }\n",
       "</style>\n",
       "<table border=\"1\" class=\"dataframe\">\n",
       "  <thead>\n",
       "    <tr style=\"text-align: right;\">\n",
       "      <th></th>\n",
       "      <th>M1</th>\n",
       "      <th>M2</th>\n",
       "      <th>M3</th>\n",
       "      <th>tempo total</th>\n",
       "      <th>respeita restricao?</th>\n",
       "      <th>respeita unique?</th>\n",
       "    </tr>\n",
       "  </thead>\n",
       "  <tbody>\n",
       "    <tr>\n",
       "      <th>0</th>\n",
       "      <td>T1 -&gt; T2 -&gt; T3 -&gt; T4</td>\n",
       "      <td>T5 -&gt; T6 -&gt; T7</td>\n",
       "      <td>T8 -&gt; T9 -&gt; T10</td>\n",
       "      <td>127</td>\n",
       "      <td>False</td>\n",
       "      <td>True</td>\n",
       "    </tr>\n",
       "  </tbody>\n",
       "</table>\n",
       "</div>"
      ],
      "text/plain": [
       "                     M1              M2               M3  tempo total  \\\n",
       "0  T1 -> T2 -> T3 -> T4  T5 -> T6 -> T7  T8 -> T9 -> T10          127   \n",
       "\n",
       "   respeita restricao?  respeita unique?  \n",
       "0                False              True  "
      ]
     },
     "execution_count": 5,
     "metadata": {},
     "output_type": "execute_result"
    }
   ],
   "source": [
    "# exemplo\n",
    "primeiro = [1,2,3,4,5,6,7,8,9,10]\n",
    "cromos_to_df(primeiro)"
   ]
  },
  {
   "cell_type": "code",
   "execution_count": 6,
   "id": "aec6ac34",
   "metadata": {},
   "outputs": [
    {
     "data": {
      "image/png": "[encoded data removed]",
      "text/plain": [
       "<Figure size 700x500 with 1 Axes>"
      ]
     },
     "metadata": {
      "image/png": {
       "height": 500,
       "width": 700
      }
     },
     "output_type": "display_data"
    },
    {
     "data": {
      "text/plain": [
       "<Figure Size: (700 x 500)>"
      ]
     },
     "execution_count": 6,
     "metadata": {},
     "output_type": "execute_result"
    }
   ],
   "source": [
    "plot_cromo(primeiro)"
   ]
  },
  {
   "attachments": {},
   "cell_type": "markdown",
   "id": "cc0e49f9-acae-4df3-ad33-a2a1c18df086",
   "metadata": {},
   "source": [
    "## Pergunta a)"
   ]
  },
  {
   "attachments": {},
   "cell_type": "markdown",
   "id": "06ea6e9c",
   "metadata": {},
   "source": [
    "TODO palavras"
   ]
  },
  {
   "cell_type": "code",
   "execution_count": 7,
   "id": "41fe3832",
   "metadata": {
    "ExecuteTime": {
     "end_time": "2023-06-06T21:59:09.711374100Z",
     "start_time": "2023-06-06T21:59:09.425467600Z"
    }
   },
   "outputs": [
    {
     "data": {
      "image/png": "[encoded data removed]",
      "text/plain": [
       "<Figure size 700x500 with 1 Axes>"
      ]
     },
     "metadata": {
      "image/png": {
       "height": 500,
       "width": 700
      }
     },
     "output_type": "display_data"
    },
    {
     "data": {
      "text/plain": [
       "<Figure Size: (700 x 500)>"
      ]
     },
     "execution_count": 7,
     "metadata": {},
     "output_type": "execute_result"
    }
   ],
   "source": [
    "def plot_tarefas():\n",
    "  # bar plot com as tarefas e o tempo delas\n",
    "  df = pd.DataFrame({\n",
    "    \"tarefa\": [t for t in Tarefas],\n",
    "    \"tempo\": [get_time_of_tarefa(t) for t in Tarefas],\n",
    "    \"prioridade\": [t in restricao for t in Tarefas]\n",
    "  })\n",
    "  # noinspection PyTypeChecker,DuplicatedCode\n",
    "  return ggplot(df, aes(x=\"factor(tarefa)\", y=\"tempo\")) + \\\n",
    "    geom_bar(aes(fill=\"factor(prioridade)\"), stat=\"identity\") + \\\n",
    "    geom_text(aes(label=\"tempo\"), nudge_y=1) + \\\n",
    "    scale_fill_discrete(name=\"Com restrição?\") + \\\n",
    "    labs(x=\"tarefa\", y=\"tempo\") + \\\n",
    "    theme_classic()\n",
    "\n",
    "plot_tarefas()"
   ]
  },
  {
   "attachments": {},
   "cell_type": "markdown",
   "id": "428f7513-6890-4a74-80d7-91b2434a1cf9",
   "metadata": {},
   "source": [
    "## Pergunta b)"
   ]
  },
  {
   "attachments": {},
   "cell_type": "markdown",
   "id": "ec70ca5a-852c-4eba-a960-7a0fb9876cb4",
   "metadata": {},
   "source": [
    "1.Iremos atribuir as 3 tarefas críticas (T3, T4, T5), a cada uma das máquinas, a fim de se conseguir realizar o prazo o mais rápido possivel\n",
    "\n",
    "  1.1 Vamos dar a mais rápida destas à máquina com mais tarefas (M1), pois esta precisa de fazer 4 tarefas\n",
    "\n",
    "2.De seguida, será colocado a tarefa mais rápida na máquina com mais tarefas (M1), pois esta precisa de fazer 4 tarefas\n",
    "\n",
    "3.Por fim, as tarefas restantes serão distribuidas de forma a dar um equilibrio entre elas\n",
    "\n",
    "  3.1 Para isso, iremos dar as duas mais pequenas seguintes à M1\n",
    "\n",
    "  3.2 E por a mais pequena e maior das restantes na M2\n",
    "\n",
    "  3.3 Por fim, as 2 tarefas restantes irão para a M3"
   ]
  },
  {
   "cell_type": "code",
   "execution_count": 8,
   "id": "892b073f-58f4-4888-a946-5d27c525d81e",
   "metadata": {
    "ExecuteTime": {
     "end_time": "2023-06-06T21:59:09.926709900Z",
     "start_time": "2023-06-06T21:59:09.710375500Z"
    }
   },
   "outputs": [
    {
     "data": {
      "text/html": [
       "<div>\n",
       "<style scoped>\n",
       "    .dataframe tbody tr th:only-of-type {\n",
       "        vertical-align: middle;\n",
       "    }\n",
       "\n",
       "    .dataframe tbody tr th {\n",
       "        vertical-align: top;\n",
       "    }\n",
       "\n",
       "    .dataframe thead th {\n",
       "        text-align: right;\n",
       "    }\n",
       "</style>\n",
       "<table border=\"1\" class=\"dataframe\">\n",
       "  <thead>\n",
       "    <tr style=\"text-align: right;\">\n",
       "      <th></th>\n",
       "      <th>M1</th>\n",
       "      <th>M2</th>\n",
       "      <th>M3</th>\n",
       "      <th>tempo total</th>\n",
       "      <th>respeita restricao?</th>\n",
       "      <th>respeita unique?</th>\n",
       "    </tr>\n",
       "  </thead>\n",
       "  <tbody>\n",
       "    <tr>\n",
       "      <th>0</th>\n",
       "      <td>T4 -&gt; T6 -&gt; T2 -&gt; T9</td>\n",
       "      <td>T5 -&gt; T1 -&gt; T7</td>\n",
       "      <td>T3 -&gt; T8 -&gt; T10</td>\n",
       "      <td>116</td>\n",
       "      <td>True</td>\n",
       "      <td>True</td>\n",
       "    </tr>\n",
       "  </tbody>\n",
       "</table>\n",
       "</div>"
      ],
      "text/plain": [
       "                     M1              M2               M3  tempo total  \\\n",
       "0  T4 -> T6 -> T2 -> T9  T5 -> T1 -> T7  T3 -> T8 -> T10          116   \n",
       "\n",
       "   respeita restricao?  respeita unique?  \n",
       "0                 True              True  "
      ]
     },
     "execution_count": 8,
     "metadata": {},
     "output_type": "execute_result"
    }
   ],
   "source": [
    "def tarefas_as_list() -> list[int]:\n",
    "  return list(Tarefas.keys())\n",
    "\n",
    "def get_maquina(index: int) -> Maquina:\n",
    "  return maquinas[index - 1]\n",
    "\n",
    "def heuristica() -> cromossoma:\n",
    "  ret = [0] * len(Tarefas)\n",
    "  tarefas = tarefas_as_list()\n",
    "  M1 = get_maquina(1)\n",
    "  M2 = get_maquina(2)\n",
    "  M3 = get_maquina(3)\n",
    "  M1_ind = 0\n",
    "  M2_ind = M1_ind + M1.n_tarefas\n",
    "  M3_ind = M2_ind + M2.n_tarefas\n",
    "  # 1 - atribuir as 3 tarefas criticas às 3 máquinas, M1 recebendo a mais pequena sendo que tem 4\n",
    "  criticas = list(restricao.keys())\n",
    "  criticas.sort(key=lambda t: get_time_of_tarefa(t), reverse=False)\n",
    "  ret[M1_ind], ret[M2_ind], ret[M3_ind] = criticas\n",
    "  [tarefas.remove(c) for c in criticas]\n",
    "  # 2 - como a M1 tem 4 tarefas, atribuir as 3 tarefas mais pequenas à M1\n",
    "  tarefas.sort(key=lambda t: get_time_of_tarefa(t), reverse=False)\n",
    "  ret[M1_ind + 1:M1_ind + 4] = tarefas[:3]\n",
    "  # 3 - dividir as restantes tarefas pelas máquinas de forma equilibrada\n",
    "  # ou seja, M2 vai ter as tarefas mais pequena e maior (das restantes) e M3 vai ter as tarefas do meio\n",
    "  ret[M2_ind + 1], ret[M3_ind + 1], ret[M3_ind + 2], ret[M2_ind + 2] = tarefas[3:]\n",
    "  return ret\n",
    "heur_resultado = heuristica()\n",
    "cromos_to_df(heur_resultado)"
   ]
  },
  {
   "cell_type": "code",
   "execution_count": 9,
   "id": "e641a456",
   "metadata": {},
   "outputs": [
    {
     "data": {
      "image/png": "[encoded data removed]",
      "text/plain": [
       "<Figure size 700x500 with 1 Axes>"
      ]
     },
     "metadata": {
      "image/png": {
       "height": 500,
       "width": 700
      }
     },
     "output_type": "display_data"
    },
    {
     "data": {
      "text/plain": [
       "<Figure Size: (700 x 500)>"
      ]
     },
     "execution_count": 9,
     "metadata": {},
     "output_type": "execute_result"
    }
   ],
   "source": [
    "plot_cromo(heur_resultado)"
   ]
  },
  {
   "attachments": {},
   "cell_type": "markdown",
   "id": "cf458f34-c25e-4156-aa19-b81de06f2907",
   "metadata": {},
   "source": [
    "É possível visualizar que a restrição foi respeitada"
   ]
  },
  {
   "attachments": {},
   "cell_type": "markdown",
   "id": "8573025b-e0e4-4ede-8828-8bb7a4fc9f80",
   "metadata": {},
   "source": [
    "## Pergunta c)"
   ]
  },
  {
   "cell_type": "code",
   "execution_count": 10,
   "id": "2fa8593b-5922-4465-a708-14f14d7140e0",
   "metadata": {},
   "outputs": [
    {
     "data": {
      "text/plain": [
       "[4, 6, 2, 9, 5, 1, 7, 3, 8, 10]"
      ]
     },
     "execution_count": 10,
     "metadata": {},
     "output_type": "execute_result"
    }
   ],
   "source": [
    "heur_resultado"
   ]
  },
  {
   "attachments": {},
   "cell_type": "markdown",
   "id": "53f4d373-47be-49c5-af99-aac385b3f3e6",
   "metadata": {},
   "source": [
    "Nota:\n",
    "- As 4 primeiras tarefas correspondem à máquina 1\n",
    "- Da 5 à 7 tarefas correspondem à máquina 2\n",
    "- As restantes tarefas correspondem à máquina 3\n",
    "\n",
    "O cromossoma está representado por permutação"
   ]
  },
  {
   "attachments": {},
   "cell_type": "markdown",
   "id": "fc0be1fd-8b46-45cd-b252-c7338e1382a3",
   "metadata": {},
   "source": [
    "## Pergunta d)"
   ]
  },
  {
   "attachments": {},
   "cell_type": "markdown",
   "id": "f8b4cd90-687d-441b-a3fe-33661f1e7b98",
   "metadata": {},
   "source": [
    "**Operador de crossover**"
   ]
  },
  {
   "cell_type": "code",
   "execution_count": 11,
   "id": "7d7a3b9c",
   "metadata": {},
   "outputs": [
    {
     "name": "stdout",
     "output_type": "stream",
     "text": [
      "Adjacencias:\n",
      "{1: {10, 2, 5, 7},\n",
      " 2: {9, 3, 6, 1},\n",
      " 3: {8, 2, 4, 7},\n",
      " 4: {10, 3, 5, 6},\n",
      " 5: {9, 4, 1, 6},\n",
      " 6: {2, 4, 5, 7},\n",
      " 7: {8, 1, 3, 6},\n",
      " 8: {9, 10, 3, 7},\n",
      " 9: {8, 2, 10, 5},\n",
      " 10: {8, 9, 4, 1}}\n",
      "Não escolhidos: {1, 2, 3, 4, 5, 6, 7, 8, 9, 10}\n",
      "Filho: []\n",
      "Current: 4\n",
      "Não escolhidos: {1, 2, 3, 5, 6, 7, 8, 9, 10}\n",
      "Filho: [4]\n",
      "Current: 10\n",
      "Não escolhidos: {1, 2, 3, 5, 6, 7, 8, 9}\n",
      "Filho: [4, 10]\n",
      "Current: 9\n",
      "Não escolhidos: {1, 2, 3, 5, 6, 7, 8}\n",
      "Filho: [4, 10, 9]\n",
      "Current: 8\n",
      "Não escolhidos: {1, 2, 3, 5, 6, 7}\n",
      "Filho: [4, 10, 9, 8]\n",
      "Current: 7\n",
      "Não escolhidos: {1, 2, 3, 5, 6}\n",
      "Filho: [4, 10, 9, 8, 7]\n",
      "Current: 3\n",
      "Não escolhidos: {1, 2, 5, 6}\n",
      "Filho: [4, 10, 9, 8, 7, 3]\n",
      "Current: 2\n",
      "Não escolhidos: {1, 5, 6}\n",
      "Filho: [4, 10, 9, 8, 7, 3, 2]\n",
      "Current: 6\n",
      "Não escolhidos: {1, 5}\n",
      "Filho: [4, 10, 9, 8, 7, 3, 2, 6]\n",
      "Current: 5\n"
     ]
    },
    {
     "data": {
      "text/plain": [
       "[4, 10, 9, 8, 7, 3, 2, 6, 5, 1]"
      ]
     },
     "execution_count": 11,
     "metadata": {},
     "output_type": "execute_result"
    }
   ],
   "source": [
    "# ERO\n",
    "def crossover(pai: list[int], mae: list[int], log=False, seed=None) -> list[int]:\n",
    "  if seed is not None: set_seed(seed)\n",
    "  # selecionar aleatoriamente uma ligacao entre 2 genes, entre os pais, e adicionar a um novo filho\n",
    "  filho = []\n",
    "  nao_escolhidos = set(pai)\n",
    "\n",
    "  # 1º escolher um ponto de partida aleatorio\n",
    "  ponto_partida = current = random.choice([pai[0], mae[0]])\n",
    "  # 2º fazer as matrizes de adjacencia (incluindo os ultimos)\n",
    "  pai_adj = {pai[i]: {pai[i - 1], pai[(i + 1) % len(pai)]} for i in range(len(pai))}\n",
    "  mae_adj = {mae[i]: {mae[i - 1], mae[(i + 1) % len(mae)]} for i in range(len(mae))}\n",
    "  # 3º fazer uniao das matrizes de adjacencia\n",
    "  adj = {i: pai_adj[i] | mae_adj[i] for i in pai_adj}\n",
    "  if log: \n",
    "    print(\"Adjacencias:\")\n",
    "    pp(adj)\n",
    "  # 4º fazer o filho\n",
    "  while len(nao_escolhidos) > 1:\n",
    "    if log: print(\"Não escolhidos:\", nao_escolhidos)\n",
    "    if log: print(\"Filho:\", filho)\n",
    "    if log: print(\"Current:\", current)\n",
    "    # adicionar o current ao filho\n",
    "    filho.append(current)\n",
    "    nao_escolhidos.remove(current)\n",
    "\n",
    "    # conseguir as escolhas possiveis\n",
    "    escolhas = adj[current] & nao_escolhidos\n",
    "    if len(escolhas) == 0:\n",
    "      # se nao houver escolhas, escolher um aleatorio entre os nao escolhidos\n",
    "      current = random.choice(list(nao_escolhidos))\n",
    "    else:\n",
    "      current = random.choice(list(escolhas))\n",
    "  # adicionar o filho que falta\n",
    "  filho.append(nao_escolhidos.pop())\n",
    "  return filho\n",
    "\n",
    "cruzamento = crossover\n",
    "# exemplo\n",
    "filho1 = cruzamento(heur_resultado, primeiro, log=True, seed=1)\n",
    "filho1"
   ]
  },
  {
   "cell_type": "code",
   "execution_count": 12,
   "id": "29b11745",
   "metadata": {},
   "outputs": [
    {
     "data": {
      "text/html": [
       "<div>\n",
       "<style scoped>\n",
       "    .dataframe tbody tr th:only-of-type {\n",
       "        vertical-align: middle;\n",
       "    }\n",
       "\n",
       "    .dataframe tbody tr th {\n",
       "        vertical-align: top;\n",
       "    }\n",
       "\n",
       "    .dataframe thead th {\n",
       "        text-align: right;\n",
       "    }\n",
       "</style>\n",
       "<table border=\"1\" class=\"dataframe\">\n",
       "  <thead>\n",
       "    <tr style=\"text-align: right;\">\n",
       "      <th></th>\n",
       "      <th>M1</th>\n",
       "      <th>M2</th>\n",
       "      <th>M3</th>\n",
       "      <th>tempo total</th>\n",
       "      <th>respeita restricao?</th>\n",
       "      <th>respeita unique?</th>\n",
       "    </tr>\n",
       "  </thead>\n",
       "  <tbody>\n",
       "    <tr>\n",
       "      <th>0</th>\n",
       "      <td>T1 -&gt; T2 -&gt; T3 -&gt; T4</td>\n",
       "      <td>T5 -&gt; T6 -&gt; T7</td>\n",
       "      <td>T8 -&gt; T9 -&gt; T10</td>\n",
       "      <td>127</td>\n",
       "      <td>False</td>\n",
       "      <td>True</td>\n",
       "    </tr>\n",
       "    <tr>\n",
       "      <th>1</th>\n",
       "      <td>T4 -&gt; T6 -&gt; T2 -&gt; T9</td>\n",
       "      <td>T5 -&gt; T1 -&gt; T7</td>\n",
       "      <td>T3 -&gt; T8 -&gt; T10</td>\n",
       "      <td>116</td>\n",
       "      <td>True</td>\n",
       "      <td>True</td>\n",
       "    </tr>\n",
       "    <tr>\n",
       "      <th>2</th>\n",
       "      <td>T4 -&gt; T10 -&gt; T9 -&gt; T8</td>\n",
       "      <td>T7 -&gt; T3 -&gt; T2</td>\n",
       "      <td>T6 -&gt; T5 -&gt; T1</td>\n",
       "      <td>132</td>\n",
       "      <td>True</td>\n",
       "      <td>True</td>\n",
       "    </tr>\n",
       "  </tbody>\n",
       "</table>\n",
       "</div>"
      ],
      "text/plain": [
       "                      M1              M2               M3  tempo total  \\\n",
       "0   T1 -> T2 -> T3 -> T4  T5 -> T6 -> T7  T8 -> T9 -> T10          127   \n",
       "1   T4 -> T6 -> T2 -> T9  T5 -> T1 -> T7  T3 -> T8 -> T10          116   \n",
       "2  T4 -> T10 -> T9 -> T8  T7 -> T3 -> T2   T6 -> T5 -> T1          132   \n",
       "\n",
       "   respeita restricao?  respeita unique?  \n",
       "0                False              True  \n",
       "1                 True              True  \n",
       "2                 True              True  "
      ]
     },
     "execution_count": 12,
     "metadata": {},
     "output_type": "execute_result"
    }
   ],
   "source": [
    "cromos_to_df(primeiro, heur_resultado, filho1)"
   ]
  },
  {
   "attachments": {},
   "cell_type": "markdown",
   "id": "b8ad1732-2399-465b-953f-751613f14f1d",
   "metadata": {},
   "source": [
    "## Pergunta e)"
   ]
  },
  {
   "attachments": {},
   "cell_type": "markdown",
   "id": "9ce5c147-5f49-47e0-89f4-bfa141efc34d",
   "metadata": {},
   "source": [
    "**Operador de Mutação**"
   ]
  },
  {
   "attachments": {},
   "cell_type": "markdown",
   "id": "4674be76-200c-4e01-8168-b534bc02d748",
   "metadata": {},
   "source": [
    "### Mutação por troca"
   ]
  },
  {
   "cell_type": "code",
   "execution_count": 13,
   "id": "70e1fda4-98a9-4d2b-aaad-2a096e9f7af0",
   "metadata": {},
   "outputs": [
    {
     "data": {
      "text/plain": [
       "[4, 7, 9, 8, 10, 3, 2, 6, 5, 1]"
      ]
     },
     "execution_count": 13,
     "metadata": {},
     "output_type": "execute_result"
    }
   ],
   "source": [
    "def mutacao(crom: cromossoma, prob=.1, seed=None):\n",
    "  if seed is not None: set_seed(seed)\n",
    "  crom = crom.copy()\n",
    "  # Verificar se a mutação será aplicada com base na probabilidade\n",
    "  if random.random() < prob:\n",
    "    # Selecionar aleatoriamente duas posições diferentes no cromossomo\n",
    "    ind1 = random.randint(0, len(crom) - 1)\n",
    "    ind2 = random.randint(0, len(crom) - 1)\n",
    "\n",
    "    # Realizar a troca entre as duas posições\n",
    "    crom[ind1], crom[ind2] = crom[ind2], crom[ind1]\n",
    "  return crom\n",
    "filho_mut = mutacao(filho1, prob=1, seed=1)\n",
    "filho_mut"
   ]
  },
  {
   "cell_type": "code",
   "execution_count": 14,
   "id": "babe1239-e31d-40e3-ab84-361bc754b88c",
   "metadata": {},
   "outputs": [
    {
     "data": {
      "text/html": [
       "<div>\n",
       "<style scoped>\n",
       "    .dataframe tbody tr th:only-of-type {\n",
       "        vertical-align: middle;\n",
       "    }\n",
       "\n",
       "    .dataframe tbody tr th {\n",
       "        vertical-align: top;\n",
       "    }\n",
       "\n",
       "    .dataframe thead th {\n",
       "        text-align: right;\n",
       "    }\n",
       "</style>\n",
       "<table border=\"1\" class=\"dataframe\">\n",
       "  <thead>\n",
       "    <tr style=\"text-align: right;\">\n",
       "      <th></th>\n",
       "      <th>M1</th>\n",
       "      <th>M2</th>\n",
       "      <th>M3</th>\n",
       "      <th>tempo total</th>\n",
       "      <th>respeita restricao?</th>\n",
       "      <th>respeita unique?</th>\n",
       "    </tr>\n",
       "  </thead>\n",
       "  <tbody>\n",
       "    <tr>\n",
       "      <th>0</th>\n",
       "      <td>T4 -&gt; T10 -&gt; T9 -&gt; T8</td>\n",
       "      <td>T7 -&gt; T3 -&gt; T2</td>\n",
       "      <td>T6 -&gt; T5 -&gt; T1</td>\n",
       "      <td>132</td>\n",
       "      <td>True</td>\n",
       "      <td>True</td>\n",
       "    </tr>\n",
       "    <tr>\n",
       "      <th>1</th>\n",
       "      <td>T4 -&gt; T7 -&gt; T9 -&gt; T8</td>\n",
       "      <td>T10 -&gt; T3 -&gt; T2</td>\n",
       "      <td>T6 -&gt; T5 -&gt; T1</td>\n",
       "      <td>138</td>\n",
       "      <td>True</td>\n",
       "      <td>True</td>\n",
       "    </tr>\n",
       "  </tbody>\n",
       "</table>\n",
       "</div>"
      ],
      "text/plain": [
       "                      M1               M2              M3  tempo total  \\\n",
       "0  T4 -> T10 -> T9 -> T8   T7 -> T3 -> T2  T6 -> T5 -> T1          132   \n",
       "1   T4 -> T7 -> T9 -> T8  T10 -> T3 -> T2  T6 -> T5 -> T1          138   \n",
       "\n",
       "   respeita restricao?  respeita unique?  \n",
       "0                 True              True  \n",
       "1                 True              True  "
      ]
     },
     "execution_count": 14,
     "metadata": {},
     "output_type": "execute_result"
    }
   ],
   "source": [
    "cromos_to_df(filho1, filho_mut)"
   ]
  },
  {
   "attachments": {},
   "cell_type": "markdown",
   "id": "93493e7c-c428-48f9-8b4e-c61c7ed968b2",
   "metadata": {},
   "source": [
    "## Pergunta f)"
   ]
  },
  {
   "attachments": {},
   "cell_type": "markdown",
   "id": "7ac11a04",
   "metadata": {},
   "source": [
    "TODO com texto melhor mas não pq o um cromo não é admissível se não tiver as tais 90 horas naquelas 3 tarefas especias (mas ele garante que tem tarefas unicas (as tarefas não são feitas duas vezes) e que têm todas tamanho 10 (como são unicas significa que todas as tarefas são feitas))\n",
    "\n",
    "Pra resolver vamos por uma penalizacao na funcao de avaliação (q é o tempo_total)"
   ]
  },
  {
   "cell_type": "code",
   "execution_count": 15,
   "id": "84b95dc0",
   "metadata": {},
   "outputs": [
    {
     "data": {
      "text/html": [
       "<div>\n",
       "<style scoped>\n",
       "    .dataframe tbody tr th:only-of-type {\n",
       "        vertical-align: middle;\n",
       "    }\n",
       "\n",
       "    .dataframe tbody tr th {\n",
       "        vertical-align: top;\n",
       "    }\n",
       "\n",
       "    .dataframe thead th {\n",
       "        text-align: right;\n",
       "    }\n",
       "</style>\n",
       "<table border=\"1\" class=\"dataframe\">\n",
       "  <thead>\n",
       "    <tr style=\"text-align: right;\">\n",
       "      <th></th>\n",
       "      <th>M1</th>\n",
       "      <th>M2</th>\n",
       "      <th>M3</th>\n",
       "      <th>tempo total</th>\n",
       "      <th>respeita restricao?</th>\n",
       "      <th>aptidao</th>\n",
       "    </tr>\n",
       "  </thead>\n",
       "  <tbody>\n",
       "    <tr>\n",
       "      <th>0</th>\n",
       "      <td>T1 -&gt; T2 -&gt; T3 -&gt; T4</td>\n",
       "      <td>T5 -&gt; T6 -&gt; T7</td>\n",
       "      <td>T8 -&gt; T9 -&gt; T10</td>\n",
       "      <td>127</td>\n",
       "      <td>False</td>\n",
       "      <td>147</td>\n",
       "    </tr>\n",
       "    <tr>\n",
       "      <th>1</th>\n",
       "      <td>T4 -&gt; T6 -&gt; T2 -&gt; T9</td>\n",
       "      <td>T5 -&gt; T1 -&gt; T7</td>\n",
       "      <td>T3 -&gt; T8 -&gt; T10</td>\n",
       "      <td>116</td>\n",
       "      <td>True</td>\n",
       "      <td>116</td>\n",
       "    </tr>\n",
       "    <tr>\n",
       "      <th>2</th>\n",
       "      <td>T4 -&gt; T10 -&gt; T9 -&gt; T8</td>\n",
       "      <td>T7 -&gt; T3 -&gt; T2</td>\n",
       "      <td>T6 -&gt; T5 -&gt; T1</td>\n",
       "      <td>132</td>\n",
       "      <td>True</td>\n",
       "      <td>132</td>\n",
       "    </tr>\n",
       "    <tr>\n",
       "      <th>3</th>\n",
       "      <td>T4 -&gt; T7 -&gt; T9 -&gt; T8</td>\n",
       "      <td>T10 -&gt; T3 -&gt; T2</td>\n",
       "      <td>T6 -&gt; T5 -&gt; T1</td>\n",
       "      <td>138</td>\n",
       "      <td>True</td>\n",
       "      <td>138</td>\n",
       "    </tr>\n",
       "  </tbody>\n",
       "</table>\n",
       "</div>"
      ],
      "text/plain": [
       "                      M1               M2               M3  tempo total  \\\n",
       "0   T1 -> T2 -> T3 -> T4   T5 -> T6 -> T7  T8 -> T9 -> T10          127   \n",
       "1   T4 -> T6 -> T2 -> T9   T5 -> T1 -> T7  T3 -> T8 -> T10          116   \n",
       "2  T4 -> T10 -> T9 -> T8   T7 -> T3 -> T2   T6 -> T5 -> T1          132   \n",
       "3   T4 -> T7 -> T9 -> T8  T10 -> T3 -> T2   T6 -> T5 -> T1          138   \n",
       "\n",
       "   respeita restricao?  aptidao  \n",
       "0                False      147  \n",
       "1                 True      116  \n",
       "2                 True      132  \n",
       "3                 True      138  "
      ]
     },
     "execution_count": 15,
     "metadata": {},
     "output_type": "execute_result"
    }
   ],
   "source": [
    "def aptidao(crom: cromossoma, penalizao=20) -> int:\n",
    "  # A aptidao equivale ao tempo total de execução do cromossomo, mais penalizacao\n",
    "  rest = cromo_respeita_restricao(crom)\n",
    "  return get_tempo_total(crom) + (0 if rest else penalizao)\n",
    "\n",
    "def cromos_to_df_updated(*cromos: cromossoma) -> pd.DataFrame:\n",
    "  # same as the one above but sem respeita unique (q é garantido) e com apitdao\n",
    "  return pd.DataFrame({\n",
    "    \"M1\": [\" -> \".join([f\"T{i}\" for i in c[:4]]) for c in cromos],\n",
    "    \"M2\": [\" -> \".join([f\"T{i}\" for i in c[4:7]]) for c in cromos],\n",
    "    \"M3\": [\" -> \".join([f\"T{i}\" for i in c[7:]]) for c in cromos],\n",
    "    \"tempo total\": [get_tempo_total(c) for c in cromos],\n",
    "    \"respeita restricao?\": [cromo_respeita_restricao(c) for c in cromos],\n",
    "    \"aptidao\": [aptidao(c) for c in cromos]\n",
    "  })\n",
    "\n",
    "cromos_to_df_updated(primeiro, heur_resultado, filho1, filho_mut)"
   ]
  },
  {
   "attachments": {},
   "cell_type": "markdown",
   "id": "1b93e8af",
   "metadata": {},
   "source": [
    "# g)"
   ]
  },
  {
   "cell_type": "code",
   "execution_count": 16,
   "id": "c05fd997",
   "metadata": {},
   "outputs": [
    {
     "name": "stdout",
     "output_type": "stream",
     "text": [
      "Cromo 1: [3, 2, 5, 1, 4, 6, 8, 10, 9, 7]\n",
      "Cromo 2: [2, 8, 1, 7, 4, 6, 9, 3, 10, 5]\n",
      "Cromo 3: [4, 2, 6, 1, 7, 8, 5, 9, 10, 3]\n",
      "Cromo 4: [1, 9, 4, 7, 8, 6, 2, 5, 10, 3]\n",
      "Cromo 5: [8, 5, 1, 4, 9, 10, 2, 3, 7, 6]\n",
      "Cromo 6: [6, 9, 7, 5, 10, 2, 3, 8, 4, 1]\n",
      "Cromo 7: [10, 1, 8, 2, 6, 4, 5, 3, 9, 7]\n",
      "Cromo 8: [9, 6, 2, 4, 10, 5, 1, 7, 8, 3]\n",
      "Cromo 9: [8, 1, 10, 9, 3, 5, 4, 6, 7, 2]\n",
      "Cromo 10: [9, 4, 1, 7, 2, 5, 6, 10, 3, 8]\n"
     ]
    }
   ],
   "source": [
    "def populacaoInicial(tamanho: int, tamanho_cromo=10, log=False, seed = None) -> populacaoT:\n",
    "  if seed is not None: set_seed(seed)\n",
    "  populacao = []\n",
    "  for i in range(tamanho):\n",
    "    cromo = random.sample(range(1, tamanho_cromo + 1), tamanho_cromo)\n",
    "    if log: print(f\"Cromo {i + 1}: {cromo}\")\n",
    "    populacao.append(cromo)\n",
    "  return populacao\n",
    "inicial = populacaoInicial(10, log=True, seed=1)"
   ]
  },
  {
   "cell_type": "code",
   "execution_count": 17,
   "id": "8ed676fd",
   "metadata": {},
   "outputs": [],
   "source": [
    "class CriteriosDeParagem:\n",
    "  def __init__(self, iter_max=None, no_improv_max=None, aptid_min=None):\n",
    "    self.iter_max: int = iter_max\n",
    "    self.no_improv_max: int = no_improv_max\n",
    "    self.aptid_min: int = aptid_min\n",
    "\n",
    "    self.curr_iter = 0\n",
    "    self.no_improv_iter = 0\n",
    "    self.aptid_max = 0\n",
    "\n",
    "  def shouldStop(self) -> bool:\n",
    "    return (\n",
    "        (self.iter_max is not None and self.curr_iter >= self.iter_max) or\n",
    "        (self.no_improv_max is not None and self.no_improv_iter >= self.no_improv_max) or\n",
    "        (self.aptid_min is not None and self.aptid_max >= self.aptid_min)\n",
    "    )\n",
    "\n",
    "  def update(self, max_aptid_found: int):\n",
    "    self.curr_iter += 1\n",
    "    self.no_improv_iter += 1 if max_aptid_found > self.aptid_max else 0\n",
    "    self.aptid_max = max(self.aptid_max, max_aptid_found)"
   ]
  },
  {
   "cell_type": "code",
   "execution_count": 18,
   "id": "0b3c3df3",
   "metadata": {},
   "outputs": [],
   "source": [
    "# selecao proporcional à aptidao\n",
    "def selecao(populacao: populacaoT) -> tuple[cromossoma, cromossoma]:\n",
    "  # calcular a aptidao comulativa\n",
    "  sumcum = list(itertools.accumulate([aptidao(c) for c in populacao]))\n",
    "  # escolher um numero aleatorio entre 0 e a soma da aptidao\n",
    "  r = random.randint(0, sumcum[-1])\n",
    "  # encontrar o indice do primeiro elemento maior que o numero aleatorio\n",
    "  ind1 = first_ind(sumcum, lambda x: x > r)\n",
    "  # 2 vezes\n",
    "  r = random.randint(0, sumcum[-1])\n",
    "  ind2 = first_ind(sumcum, lambda x: x > r)\n",
    "\n",
    "  return populacao[ind1], populacao[ind2]\n",
    "  "
   ]
  },
  {
   "cell_type": "code",
   "execution_count": 19,
   "id": "b6d45416",
   "metadata": {},
   "outputs": [],
   "source": [
    "def algoritmo_genetico(\n",
    "    tamanho_populacao: int,\n",
    "    criterios_de_paragem: CriteriosDeParagem = CriteriosDeParagem(),\n",
    "    elitismo_tamanho: int = 1,\n",
    "    log=False\n",
    ") -> tuple[cromossoma, list[list[cromossoma]]]:\n",
    "  ret = []\n",
    "  # 1. Gerar a população inicial\n",
    "  populacao = sorted(populacaoInicial(tamanho_populacao, log=log), key = lambda c: aptidao(c))\n",
    "  elites: list[cromossoma] = [populacao[i] for i in range(elitismo_tamanho)]\n",
    "  # 2. popular uma nova população\n",
    "  while not criterios_de_paragem.shouldStop():\n",
    "    if log: print(f\"iteracao {criterios_de_paragem.curr_iter}\")\n",
    "    new_populacao = []\n",
    "    for _ in range(tamanho_populacao):  # modelo geracional\n",
    "      # 2.1 seleção dos pais\n",
    "      pai, mae = selecao(populacao)\n",
    "      # 2.2 cruzamento\n",
    "      filho = cruzamento(pai, mae)\n",
    "      # 2.3 mutação\n",
    "      filho = mutacao(filho)\n",
    "      # 2.4 adicionar o filho à nova população\n",
    "      new_populacao.append(filho)\n",
    "    # 3. elitismo\n",
    "    # 3.1 obter o(s) menos abto(s)\n",
    "    new_populacao = sorted(new_populacao, key= lambda c: aptidao(c), reverse=False)\n",
    "    # 3.2 substituir o(s) menos apto(s) pelo(s) mais apto(s) da população anterior\n",
    "    for i in range(elitismo_tamanho):\n",
    "      new_populacao[i] = elites[i]\n",
    "    # 3.3 atualizar os elites se necessário\n",
    "    [elites.append(new_populacao[i]) for i in range(elitismo_tamanho)]\n",
    "    elites = sorted(elites, key=lambda c: aptidao(c), reverse=False)[:elitismo_tamanho]\n",
    "    # 4. atualizar a população\n",
    "    ret.append(populacao := new_populacao)\n",
    "    # 5. critérios de paragem\n",
    "    criterios_de_paragem.update(aptidao(elites[0]))\n",
    "  return elites[0], ret"
   ]
  },
  {
   "cell_type": "code",
   "execution_count": 20,
   "id": "822d31d4",
   "metadata": {},
   "outputs": [
    {
     "name": "stdout",
     "output_type": "stream",
     "text": [
      "Cromo 1: [3, 2, 5, 1, 4, 6, 8, 10, 9, 7]\n",
      "Cromo 2: [2, 8, 1, 7, 4, 6, 9, 3, 10, 5]\n",
      "Cromo 3: [4, 2, 6, 1, 7, 8, 5, 9, 10, 3]\n",
      "Cromo 4: [1, 9, 4, 7, 8, 6, 2, 5, 10, 3]\n",
      "Cromo 5: [8, 5, 1, 4, 9, 10, 2, 3, 7, 6]\n",
      "Cromo 6: [6, 9, 7, 5, 10, 2, 3, 8, 4, 1]\n",
      "Cromo 7: [10, 1, 8, 2, 6, 4, 5, 3, 9, 7]\n",
      "Cromo 8: [9, 6, 2, 4, 10, 5, 1, 7, 8, 3]\n",
      "Cromo 9: [8, 1, 10, 9, 3, 5, 4, 6, 7, 2]\n",
      "Cromo 10: [9, 4, 1, 7, 2, 5, 6, 10, 3, 8]\n",
      "iteracao 0\n",
      "iteracao 1\n",
      "iteracao 2\n",
      "iteracao 3\n",
      "iteracao 4\n",
      "iteracao 5\n",
      "iteracao 6\n",
      "iteracao 7\n",
      "iteracao 8\n",
      "iteracao 9\n"
     ]
    },
    {
     "data": {
      "image/png": "[encoded data removed]",
      "text/plain": [
       "<Figure size 700x500 with 1 Axes>"
      ]
     },
     "metadata": {
      "image/png": {
       "height": 500,
       "width": 700
      }
     },
     "output_type": "display_data"
    },
    {
     "data": {
      "text/plain": [
       "<Figure Size: (700 x 500)>"
      ]
     },
     "execution_count": 20,
     "metadata": {},
     "output_type": "execute_result"
    }
   ],
   "source": [
    "# exemplo\n",
    "set_seed(1)\n",
    "resultado = algoritmo_genetico(\n",
    "  tamanho_populacao=10,\n",
    "  criterios_de_paragem=CriteriosDeParagem(iter_max=10),\n",
    "  elitismo_tamanho=1,\n",
    "  log=True\n",
    ")\n",
    "plot_cromo(resultado[0])"
   ]
  },
  {
   "cell_type": "code",
   "execution_count": 22,
   "id": "8d957496",
   "metadata": {},
   "outputs": [
    {
     "data": {
      "text/html": [
       "<div>\n",
       "<style scoped>\n",
       "    .dataframe tbody tr th:only-of-type {\n",
       "        vertical-align: middle;\n",
       "    }\n",
       "\n",
       "    .dataframe tbody tr th {\n",
       "        vertical-align: top;\n",
       "    }\n",
       "\n",
       "    .dataframe thead th {\n",
       "        text-align: right;\n",
       "    }\n",
       "</style>\n",
       "<table border=\"1\" class=\"dataframe\">\n",
       "  <thead>\n",
       "    <tr style=\"text-align: right;\">\n",
       "      <th></th>\n",
       "      <th>M1</th>\n",
       "      <th>M2</th>\n",
       "      <th>M3</th>\n",
       "      <th>tempo total</th>\n",
       "      <th>respeita restricao?</th>\n",
       "      <th>aptidao</th>\n",
       "    </tr>\n",
       "  </thead>\n",
       "  <tbody>\n",
       "    <tr>\n",
       "      <th>0</th>\n",
       "      <td>T9 -&gt; T4 -&gt; T1 -&gt; T7</td>\n",
       "      <td>T2 -&gt; T5 -&gt; T6</td>\n",
       "      <td>T10 -&gt; T3 -&gt; T8</td>\n",
       "      <td>138</td>\n",
       "      <td>True</td>\n",
       "      <td>138</td>\n",
       "    </tr>\n",
       "  </tbody>\n",
       "</table>\n",
       "</div>"
      ],
      "text/plain": [
       "                     M1              M2               M3  tempo total  \\\n",
       "0  T9 -> T4 -> T1 -> T7  T2 -> T5 -> T6  T10 -> T3 -> T8          138   \n",
       "\n",
       "   respeita restricao?  aptidao  \n",
       "0                 True      138  "
      ]
     },
     "execution_count": 22,
     "metadata": {},
     "output_type": "execute_result"
    }
   ],
   "source": [
    "cromos_to_df_updated(resultado[0])"
   ]
  }
 ],
 "metadata": {
  "kernelspec": {
   "display_name": "OH GRUPO",
   "language": "python",
   "name": "ipy3.11_oh"
  },
  "language_info": {
   "codemirror_mode": {
    "name": "ipython",
    "version": 3
   },
   "file_extension": ".py",
   "mimetype": "text/x-python",
   "name": "python",
   "nbconvert_exporter": "python",
   "pygments_lexer": "ipython3",
   "version": "3.11.3"
  }
 },
 "nbformat": 4,
 "nbformat_minor": 5
}

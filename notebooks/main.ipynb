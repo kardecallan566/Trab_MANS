{
 "cells": [
  {
   "cell_type": "markdown",
   "id": "d9fe5c75-8b76-4f33-b8d3-793a97de116c",
   "metadata": {},
   "source": [
    "# Trabalho Final"
   ]
  },
  {
   "cell_type": "markdown",
   "id": "e850f84f-4624-4e83-ba23-90b504b3f0d7",
   "metadata": {},
   "source": [
    "## Imports"
   ]
  },
  {
   "cell_type": "code",
   "execution_count": 3,
   "id": "54a33a00-c7a7-4b65-a781-7171c344ba80",
   "metadata": {
    "ExecuteTime": {
     "end_time": "2023-06-06T21:59:07.227087400Z",
     "start_time": "2023-06-06T21:59:06.581329800Z"
    }
   },
   "outputs": [],
   "source": [
    "import itertools\n",
    "import pandas as pd\n",
    "import numpy as np\n",
    "import random\n",
    "from dataclasses import dataclass as dc\n",
    "from typing import Iterable\n",
    "from collections import namedtuple\n",
    "from plotnine import *\n",
    "from copy import deepcopy\n",
    "pd.set_option('display.max_colwidth', None)"
   ]
  },
  {
   "cell_type": "markdown",
   "id": "b1bcc401-d965-403c-8332-cf7f973f431f",
   "metadata": {},
   "source": [
    "## Functions"
   ]
  },
  {
   "cell_type": "code",
   "execution_count": 48,
   "id": "a8b88821-69de-4016-ad27-129381f6e130",
   "metadata": {
    "ExecuteTime": {
     "end_time": "2023-06-06T21:59:07.249997300Z",
     "start_time": "2023-06-06T21:59:07.226087400Z"
    }
   },
   "outputs": [
    {
     "data": {
      "text/plain": [
       "(M1([], 0), M2([], 0), M3([], 0))"
      ]
     },
     "execution_count": 48,
     "metadata": {},
     "output_type": "execute_result"
    }
   ],
   "source": [
    "Numero = int # Indice da tarefa\n",
    "intervalo = namedtuple(\"intervalo\", [\"inicio\", \"fim\"])\n",
    "def first(iterable, func, default=None):\n",
    "  return next(filter(func, iterable), default)\n",
    "def first_ind(iterable, func, default=None):\n",
    "  return next((i for i, x in enumerate(iterable) if func(x)), default)\n",
    "seed = random.seed\n",
    "@dc\n",
    "class Tarefa:\n",
    "  numero: int\n",
    "  tempo: int\n",
    "  def __repr__(self):\n",
    "    return f\"T{self.numero}({self.tempo})\"\n",
    "  def __hash__(self):\n",
    "    return repr(self).__hash__()\n",
    "class Tarefas:\n",
    "  def __init__(self, tempos: list[int]):\n",
    "    self.tarefas = [Tarefa(i+1, tempos[i]) for i in range(len(tempos))]\n",
    "  \n",
    "  def __getitem__(self, i: Numero | Iterable[Numero]):\n",
    "    if isinstance(i, Iterable):\n",
    "      return [self.tarefas[i-1] for i in i]\n",
    "    return self.tarefas[i-1]\n",
    "  def __iter__(self):\n",
    "    return iter(self.tarefas)\n",
    "  def smallest_to_highest(self):\n",
    "    return sorted(self.tarefas, key=lambda t: t.tempo)\n",
    "\n",
    "@dc \n",
    "class Maquina:\n",
    "  numero: int\n",
    "  n_tarefas: int\n",
    "  tarefas: list[Tarefa] = None\n",
    "\n",
    "  def __post_init__(self):\n",
    "    assert self.tarefas is None or len(self.tarefas) <= self.n_tarefas\n",
    "    if self.tarefas is None: self.tarefas = []\n",
    "  def assignTarefas(self, tarefas: list[Tarefa]):\n",
    "    assert len(tarefas) <= self.n_tarefas\n",
    "    self.tarefas = tarefas\n",
    "    return self\n",
    "  def queueTarefa(self, tarefa: Tarefa):\n",
    "    assert len(self.tarefas) < self.n_tarefas # se for igual ent n pode adicionar\n",
    "    self.tarefas.append(tarefa)\n",
    "    return self\n",
    "  def reset(self):\n",
    "    self.tarefas = []\n",
    "    return self\n",
    "  \n",
    "  def quantoTempo(self):\n",
    "    return sum(t.tempo for t in self.tarefas)\n",
    "  def __repr__(self):\n",
    "    return f\"M{self.numero}({repr(self.tarefas)}, {self.quantoTempo()})\"\n",
    "  def __str__(self):\n",
    "    return f\"M{self.numero}\"\n",
    "  def isTarefaIn(self, tarefa: Tarefa | Numero):\n",
    "    if isinstance(tarefa, Tarefa):\n",
    "      return tarefa in self.tarefas\n",
    "    return tarefa in [t.numero for t in self.tarefas]\n",
    "  def quandoComeca(self, tarefa: Tarefa | Numero):\n",
    "    if isinstance(tarefa, Numero):\n",
    "      tarefa = first(self.tarefas, lambda t: t.numero == tarefa)\n",
    "    # index of tarefa in self.tarefas\n",
    "    ind = self.tarefas.index(tarefa)\n",
    "    return sum(t.tempo for t in self.tarefas[:ind])\n",
    "  def quandoAcaba(self, tarefa: Tarefa | Numero):\n",
    "    if isinstance(tarefa, Numero):\n",
    "      tarefa = first(self.tarefas, lambda t: t.numero == tarefa)\n",
    "    return self.quandoComeca(tarefa) + tarefa.tempo\n",
    "\n",
    "class Horario:\n",
    "  # representa as maquians e as horas que as tarefas começam\n",
    "  # horario comeca completo, vindo da Permutation.getHorario()\n",
    "  # Horario.timeOf(\"M1\") -> quando acaba a maquina 1\n",
    "  # Horario[\"T1\"] -> quando começa e acaba a tarefa 1\n",
    "  # Horario.whereIs(\"T1\") -> Em que máquina está a tarefa 1\n",
    "  # nota: isto pode estar dentro do permutation, mas acho melhor assim para dividir funções\n",
    "  #'factor(tarefa)'\n",
    "  #\"factor(tarefa+1)\"\n",
    "  #color=\"factor(tarefa)\"\n",
    "  def __init__(self, maquinas: list[Maquina]):\n",
    "    self.maquinas = maquinas\n",
    "  def __getitem__(self, tarefa: str | Tarefa) -> intervalo:\n",
    "    maq = self.whereIs(tarefa)\n",
    "    if maq is None: raise KeyError(f\"Tarefa {tarefa} não está no horário\")\n",
    "    return intervalo(maq.quandoComeca(tarefa), maq.quandoAcaba(tarefa))\n",
    "  def timeOf(self, maquina: str | Maquina):\n",
    "    if isinstance(maquina, str):\n",
    "      maquina = self.getMaquina(maquina)\n",
    "    return maquina.quantoTempo()\n",
    "  def getMaquina(self, maquina: str | Numero):\n",
    "    if isinstance(maquina, str): \n",
    "      return first(self.maquinas, lambda m: str(m) == maquina)\n",
    "    return first(self.maquinas, lambda m: m.numero == maquina)\n",
    "  def whereIs(self, tarefa: str | Tarefa):\n",
    "    if isinstance(tarefa, str):\n",
    "      tarefa = int(tarefa[1:])\n",
    "    return first(self.maquinas, lambda m: m.isTarefaIn(tarefa))\n",
    "  def getTempoTotal(self):\n",
    "    return max(m.quantoTempo() for m in self.maquinas)\n",
    "  @property\n",
    "  def tempoTotal(self):\n",
    "    return self.getTempoTotal()\n",
    "  def plot(self):\n",
    "    df = pd.DataFrame({\n",
    "      \"maquina\": [m.numero for m in self.maquinas for t in m.tarefas ],\n",
    "      \"tarefa\": [t.numero for m in self.maquinas  for t in m.tarefas ],\n",
    "      \"tarefaL\": [f\"T{t.numero}\" for m in self.maquinas  for t in m.tarefas ],\n",
    "      \"comeca\": [m.quandoComeca(t)  for m in self.maquinas for t in m.tarefas],\n",
    "      \"acaba\": [m.quandoAcaba(t) for m in self.maquinas for t in m.tarefas]\n",
    "    })\n",
    "    return ggplot(df, aes(y = \"maquina\")) + \\\n",
    "      geom_point(aes(x = \"comeca\", color=\"factor(comeca)\"), size = 5) + \\\n",
    "      geom_path(aes(x = \"acaba\", group = \"maquina\", color=\"factor(acaba)\")) + \\\n",
    "      geom_path(aes(x = \"comeca\", group = \"maquina\", color=\"factor(comeca)\")) + \\\n",
    "      geom_vline(xintercept=self.tempoTotal, linetype=\"dashed\") + \\\n",
    "      geom_text(aes(x = \"comeca\", label=\"tarefaL\"), size=10, nudge_x=0.1, nudge_y=0.1) + \\\n",
    "      \\\n",
    "      scale_x_continuous(breaks=[0, 24, 48, 72, 96, 120, self.tempoTotal]) + \\\n",
    "      scale_y_continuous(breaks=[1, 2, 3]) + \\\n",
    "      scale_color_discrete(guide=False) + \\\n",
    "      coord_fixed(xlim = (-0.5, 144)) + \\\n",
    "      labs(x=\"horas\", y=\"maquina\") + \\\n",
    "      theme_classic() + \\\n",
    "      theme(aspect_ratio=0.7)\n",
    "class Permutation:\n",
    "  # Representação por permutação\n",
    "  def __init__(self, maquinas: list[Maquina]):\n",
    "    self.maquinas = maquinas\n",
    "    self.n_maquinas = len(maquinas)\n",
    "  def reset(self):\n",
    "    self = deepcopy(self)\n",
    "    for m in self.maquinas:\n",
    "      m.reset()\n",
    "    return self\n",
    "  def machineYielder(self):\n",
    "    for m in self.maquinas:\n",
    "      for i in range(len(m.tarefas)):\n",
    "        yield m\n",
    "  def assignTarefas(self, tarefas: list[Tarefa]):\n",
    "    self.reset()\n",
    "    for m in self.machineYielder():\n",
    "      m.queueTarefa(tarefas.pop(0))\n",
    "    return self.as_list()\n",
    "  def as_list(self) -> list[Tarefa]:\n",
    "    return [t for m in self.maquinas for t in m.tarefas]\n",
    "  def as_cromo(self) -> list[int]:\n",
    "    return [t.numero for t in self.as_list()]\n",
    "  def as_lists(self) -> list[list[Tarefa]]:\n",
    "    return [m.tarefas for m in self.maquinas]\n",
    "  def __repr__(self):\n",
    "    return repr(self.as_lists())\n",
    "  def getHorario(self) -> Horario:\n",
    "    return Horario(self.maquinas)\n",
    "  @property\n",
    "  def horario(self) -> Horario:\n",
    "    return self.getHorario()\n",
    "  def __getitem__(self, index_or_maquina: int | str) -> Tarefa | Maquina:\n",
    "    if isinstance(index_or_maquina, str): # Maquina\n",
    "      return first(self.maquinas, lambda m: str(m) == index_or_maquina)\n",
    "    return self.as_list()[index_or_maquina]\n",
    "M1 = Maquina(\n",
    "  numero = 1,\n",
    "  n_tarefas = 4,\n",
    ")\n",
    "M2 = Maquina(\n",
    "  numero = 2,\n",
    "  n_tarefas = 3,\n",
    ")\n",
    "M3 = Maquina(\n",
    "  numero = 3,\n",
    "  n_tarefas = 3,\n",
    ")\n",
    "M1, M2, M3"
   ]
  },
  {
   "cell_type": "code",
   "execution_count": 5,
   "id": "c0a57dbf",
   "metadata": {
    "ExecuteTime": {
     "end_time": "2023-06-06T21:59:07.250996600Z",
     "start_time": "2023-06-06T21:59:07.249997300Z"
    }
   },
   "outputs": [],
   "source": [
    "tarefas = Tarefas([38, 33, 36, 20, 32, 29, 46, 38, 34, 40])\n",
    "tarefas[1,2,4]\n",
    "def getTarefas(l: list[Numero]):\n",
    "  return tarefas[l]"
   ]
  },
  {
   "cell_type": "code",
   "execution_count": 49,
   "id": "2a8ab7dc",
   "metadata": {
    "ExecuteTime": {
     "end_time": "2023-06-06T21:59:09.408141800Z",
     "start_time": "2023-06-06T21:59:07.251995800Z"
    }
   },
   "outputs": [
    {
     "name": "stdout",
     "output_type": "stream",
     "text": [
      "[[T1(38), T2(33), T3(36), T4(20)], [T5(32), T6(29), T7(46)], [T8(38), T9(34), T10(40)]]\n"
     ]
    },
    {
     "data": {
      "image/png": "[encoded data removed]",
      "text/plain": [
       "<Figure size 640x480 with 1 Axes>"
      ]
     },
     "metadata": {
      "image/png": {
       "height": 480,
       "width": 640
      }
     },
     "output_type": "display_data"
    },
    {
     "data": {
      "text/plain": [
       "<Figure Size: (640 x 480)>"
      ]
     },
     "execution_count": 49,
     "metadata": {},
     "output_type": "execute_result"
    }
   ],
   "source": [
    "# exemplo\n",
    "M1.assignTarefas(tarefas[1,2,3,4])\n",
    "M2.assignTarefas(tarefas[5,6,7])\n",
    "M3.assignTarefas(tarefas[8,9,10])\n",
    "primeiro = primeira = Permutation([M1, M2, M3])\n",
    "print(primeiro)\n",
    "primeiro.horario.plot()"
   ]
  },
  {
   "cell_type": "code",
   "execution_count": 497,
   "id": "c357385f-ce73-402e-8668-5b4e3e66ea37",
   "metadata": {
    "ExecuteTime": {
     "end_time": "2023-06-06T21:59:09.411141900Z",
     "start_time": "2023-06-06T21:59:09.408141800Z"
    }
   },
   "outputs": [
    {
     "data": {
      "text/plain": [
       "False"
      ]
     },
     "execution_count": 497,
     "metadata": {},
     "output_type": "execute_result"
    }
   ],
   "source": [
    "def respeitaRestricao(horario, maximos: dict[Tarefa, int]):\n",
    "  for tarefa, maximo in maximos.items():\n",
    "    if horario[tarefa].fim > maximo:\n",
    "      return False\n",
    "  return True\n",
    "acabarAntes = 24*(5-1) # 1 junho (8h) até 5 junho (8h),\n",
    "restricao = {\n",
    "  tarefas[3]: acabarAntes,\n",
    "  tarefas[4]: acabarAntes,\n",
    "  tarefas[5]: acabarAntes\n",
    "}\n",
    "respeitaRestricao(primeiro.horario, restricao)"
   ]
  },
  {
   "cell_type": "code",
   "execution_count": 498,
   "id": "57771e35",
   "metadata": {
    "ExecuteTime": {
     "end_time": "2023-06-06T21:59:09.424467700Z",
     "start_time": "2023-06-06T21:59:09.411141900Z"
    }
   },
   "outputs": [
    {
     "data": {
      "text/html": [
       "<div>\n",
       "<style scoped>\n",
       "    .dataframe tbody tr th:only-of-type {\n",
       "        vertical-align: middle;\n",
       "    }\n",
       "\n",
       "    .dataframe tbody tr th {\n",
       "        vertical-align: top;\n",
       "    }\n",
       "\n",
       "    .dataframe thead th {\n",
       "        text-align: right;\n",
       "    }\n",
       "</style>\n",
       "<table border=\"1\" class=\"dataframe\">\n",
       "  <thead>\n",
       "    <tr style=\"text-align: right;\">\n",
       "      <th></th>\n",
       "      <th>M1</th>\n",
       "      <th>M2</th>\n",
       "      <th>M3</th>\n",
       "      <th>tempo_total</th>\n",
       "      <th>respeita_restricao</th>\n",
       "      <th>respeita_unique</th>\n",
       "    </tr>\n",
       "  </thead>\n",
       "  <tbody>\n",
       "    <tr>\n",
       "      <th>0</th>\n",
       "      <td>[T1(38), T2(33), T3(36), T4(20)]</td>\n",
       "      <td>[T5(32), T6(29), T7(46)]</td>\n",
       "      <td>[T8(38), T9(34), T10(40)]</td>\n",
       "      <td>127</td>\n",
       "      <td>False</td>\n",
       "      <td>True</td>\n",
       "    </tr>\n",
       "  </tbody>\n",
       "</table>\n",
       "</div>"
      ],
      "text/plain": [
       "                                 M1                        M2  \\\n",
       "0  [T1(38), T2(33), T3(36), T4(20)]  [T5(32), T6(29), T7(46)]   \n",
       "\n",
       "                          M3  tempo_total  respeita_restricao  respeita_unique  \n",
       "0  [T8(38), T9(34), T10(40)]          127               False             True  "
      ]
     },
     "execution_count": 498,
     "metadata": {},
     "output_type": "execute_result"
    }
   ],
   "source": [
    "def create_df(permutations: list[Permutation] | Permutation, *args):\n",
    "  if isinstance(permutations, Permutation): return create_df([permutations, *args])\n",
    "  return pd.DataFrame({\n",
    "    \"M1\": [p.maquinas[0].tarefas for p in permutations],\n",
    "    \"M2\": [p.maquinas[1].tarefas for p in permutations],\n",
    "    \"M3\": [p.maquinas[2].tarefas for p in permutations],\n",
    "    \"tempo_total\": [p.horario.tempoTotal for p in permutations],\n",
    "    \"respeita_restricao\": [respeitaRestricao(p.horario, restricao) for p in permutations],\n",
    "    \"respeita_unique\": [len(set(p.as_cromo())) == len(p.as_cromo()) for p in permutations]\n",
    "  })\n",
    "# use example\n",
    "create_df(primeiro)"
   ]
  },
  {
   "cell_type": "markdown",
   "id": "cc0e49f9-acae-4df3-ad33-a2a1c18df086",
   "metadata": {},
   "source": [
    "## Pergunta a)"
   ]
  },
  {
   "cell_type": "markdown",
   "id": "06ea6e9c",
   "metadata": {},
   "source": [
    "TODO palavras"
   ]
  },
  {
   "cell_type": "code",
   "execution_count": 499,
   "id": "41fe3832",
   "metadata": {
    "ExecuteTime": {
     "end_time": "2023-06-06T21:59:09.711374100Z",
     "start_time": "2023-06-06T21:59:09.425467600Z"
    }
   },
   "outputs": [
    {
     "data": {
      "image/png": "[encoded data removed]",
      "text/plain": [
       "<Figure size 640x480 with 1 Axes>"
      ]
     },
     "metadata": {
      "image/png": {
       "height": 480,
       "width": 640
      }
     },
     "output_type": "display_data"
    },
    {
     "data": {
      "text/plain": [
       "<Figure Size: (640 x 480)>"
      ]
     },
     "execution_count": 499,
     "metadata": {},
     "output_type": "execute_result"
    }
   ],
   "source": [
    "# bar plot with tarefas e o tempo delas (color the priority ones) \n",
    "ggplot(pd.DataFrame({\n",
    "  \"tarefa\": [t.numero for t in tarefas],\n",
    "  \"tempo\": [t.tempo for t in tarefas],\n",
    "  \"prioridade\": [t in restricao for t in tarefas]\n",
    "}), aes(x = \"factor(tarefa)\", y = \"tempo\")) + \\\n",
    "  geom_bar(aes(fill = \"factor(prioridade)\"), stat = \"identity\", position = \"dodge\") + \\\n",
    "  scale_fill_discrete(name = \"Com restrição?\") + \\\n",
    "  geom_text(aes(label=\"tempo\"), nudge_y=1) + \\\n",
    "  labs(x=\"tarefa\", y=\"tempo\") + \\\n",
    "  theme_classic() "
   ]
  },
  {
   "cell_type": "markdown",
   "id": "428f7513-6890-4a74-80d7-91b2434a1cf9",
   "metadata": {},
   "source": [
    "## Pergunta b)"
   ]
  },
  {
   "cell_type": "markdown",
   "id": "ec70ca5a-852c-4eba-a960-7a0fb9876cb4",
   "metadata": {},
   "source": [
    "1.Iremos atribuir as 3 tarefas críticas (T3, T4, T5), a cada uma das máquinas, a fim de se conseguir realizar o prazo o mais rápido possivel\n",
    "\n",
    "  1.1 Vamos dar a mais rápida destas à máquina com mais tarefas (M1), pois esta precisa de fazer 4 tarefas\n",
    "\n",
    "2.De seguida, será colocado a tarefa mais rápida na máquina com mais tarefas (M1), pois esta precisa de fazer 4 tarefas\n",
    "\n",
    "3.Por fim, as tarefas restantes serão distribuidas de forma a dar um equilibrio entre elas\n",
    "\n",
    "  3.1 Para isso, iremos dar as duas mais pequenas seguintes à M1\n",
    "\n",
    "  3.2 E por a mais pequena e maior das restantes na M2\n",
    "\n",
    "  3.3 Por fim, as 2 tarefas restantes irão para a M3"
   ]
  },
  {
   "cell_type": "code",
   "execution_count": 500,
   "id": "892b073f-58f4-4888-a946-5d27c525d81e",
   "metadata": {
    "ExecuteTime": {
     "end_time": "2023-06-06T21:59:09.926709900Z",
     "start_time": "2023-06-06T21:59:09.710375500Z"
    }
   },
   "outputs": [
    {
     "data": {
      "image/png": "[encoded data removed]",
      "text/plain": [
       "<Figure size 640x480 with 1 Axes>"
      ]
     },
     "metadata": {
      "image/png": {
       "height": 480,
       "width": 640
      }
     },
     "output_type": "display_data"
    },
    {
     "data": {
      "text/plain": [
       "<Figure Size: (640 x 480)>"
      ]
     },
     "execution_count": 500,
     "metadata": {},
     "output_type": "execute_result"
    }
   ],
   "source": [
    "heuristica = primeiro.reset()\n",
    "M1, M2, M3 = heuristica.maquinas\n",
    "pool = tarefas.smallest_to_highest()\n",
    "criticas = tarefas[3,4,5]\n",
    "# 1.1\n",
    "M1.queueTarefa(smallest_critical := min(criticas, key=lambda t: t.tempo))\n",
    "pool.remove(smallest_critical)\n",
    "criticas.remove(smallest_critical)\n",
    "# 1.2\n",
    "M2.queueTarefa(criticas[0])\n",
    "M3.queueTarefa(criticas[1])\n",
    "[pool.remove(t) for t in criticas]\n",
    "# 2\n",
    "M1.queueTarefa(pool.pop(0)) # pool esta ordenada\n",
    "# 3.1\n",
    "M1.queueTarefa(pool.pop(0))\n",
    "M1.queueTarefa(pool.pop(0))\n",
    "# 3.2\n",
    "M2.queueTarefa(pool.pop(0))\n",
    "M2.queueTarefa(pool.pop(-1))\n",
    "# 4\n",
    "M3.queueTarefa(pool.pop(0))\n",
    "M3.queueTarefa(pool.pop(0))\n",
    "heuristica.horario.plot()"
   ]
  },
  {
   "cell_type": "code",
   "execution_count": 501,
   "id": "cb31874c",
   "metadata": {},
   "outputs": [
    {
     "data": {
      "text/html": [
       "<div>\n",
       "<style scoped>\n",
       "    .dataframe tbody tr th:only-of-type {\n",
       "        vertical-align: middle;\n",
       "    }\n",
       "\n",
       "    .dataframe tbody tr th {\n",
       "        vertical-align: top;\n",
       "    }\n",
       "\n",
       "    .dataframe thead th {\n",
       "        text-align: right;\n",
       "    }\n",
       "</style>\n",
       "<table border=\"1\" class=\"dataframe\">\n",
       "  <thead>\n",
       "    <tr style=\"text-align: right;\">\n",
       "      <th></th>\n",
       "      <th>M1</th>\n",
       "      <th>M2</th>\n",
       "      <th>M3</th>\n",
       "      <th>tempo_total</th>\n",
       "      <th>respeita_restricao</th>\n",
       "      <th>respeita_unique</th>\n",
       "    </tr>\n",
       "  </thead>\n",
       "  <tbody>\n",
       "    <tr>\n",
       "      <th>0</th>\n",
       "      <td>[T4(20), T6(29), T2(33), T9(34)]</td>\n",
       "      <td>[T3(36), T1(38), T7(46)]</td>\n",
       "      <td>[T5(32), T8(38), T10(40)]</td>\n",
       "      <td>120</td>\n",
       "      <td>True</td>\n",
       "      <td>True</td>\n",
       "    </tr>\n",
       "  </tbody>\n",
       "</table>\n",
       "</div>"
      ],
      "text/plain": [
       "                                 M1                        M2  \\\n",
       "0  [T4(20), T6(29), T2(33), T9(34)]  [T3(36), T1(38), T7(46)]   \n",
       "\n",
       "                          M3  tempo_total  respeita_restricao  respeita_unique  \n",
       "0  [T5(32), T8(38), T10(40)]          120                True             True  "
      ]
     },
     "execution_count": 501,
     "metadata": {},
     "output_type": "execute_result"
    }
   ],
   "source": [
    "create_df(heuristica)"
   ]
  },
  {
   "cell_type": "markdown",
   "id": "cf458f34-c25e-4156-aa19-b81de06f2907",
   "metadata": {},
   "source": [
    "É possível visualizar que a restrição foi respeitada"
   ]
  },
  {
   "cell_type": "markdown",
   "id": "8573025b-e0e4-4ede-8828-8bb7a4fc9f80",
   "metadata": {},
   "source": [
    "## Pergunta c)"
   ]
  },
  {
   "cell_type": "code",
   "execution_count": 502,
   "id": "2fa8593b-5922-4465-a708-14f14d7140e0",
   "metadata": {},
   "outputs": [
    {
     "data": {
      "text/plain": [
       "[4, 6, 2, 9, 3, 1, 7, 5, 8, 10]"
      ]
     },
     "execution_count": 502,
     "metadata": {},
     "output_type": "execute_result"
    }
   ],
   "source": [
    "heuristica.as_cromo()"
   ]
  },
  {
   "cell_type": "markdown",
   "id": "53f4d373-47be-49c5-af99-aac385b3f3e6",
   "metadata": {},
   "source": [
    "Nota:\n",
    "- As 4 primeiras tarefas correspondem à máquina 1\n",
    "- Da 5 à 7 tarefas correspondem à máquina 2\n",
    "- As restantes tarefas correspondem à máquina 3\n",
    "\n",
    "O cromossoma está representado por permutação"
   ]
  },
  {
   "cell_type": "code",
   "execution_count": 503,
   "id": "17ba1e28",
   "metadata": {},
   "outputs": [],
   "source": [
    "def fromCromo(cromo: list[int]) -> Permutation:\n",
    "  M1, M2, M3 = Maquina(1, 4), Maquina(2, 3), Maquina(3, 3)\n",
    "  return deepcopy(Permutation([\n",
    "    M1.assignTarefas(tarefas[cromo[:4]]),\n",
    "    M2.assignTarefas(tarefas[cromo[4:7]]),\n",
    "    M3.assignTarefas(tarefas[cromo[7:]])\n",
    "  ]))"
   ]
  },
  {
   "cell_type": "markdown",
   "id": "fc0be1fd-8b46-45cd-b252-c7338e1382a3",
   "metadata": {},
   "source": [
    "## Pergunta d)"
   ]
  },
  {
   "cell_type": "markdown",
   "id": "f8b4cd90-687d-441b-a3fe-33661f1e7b98",
   "metadata": {},
   "source": [
    "**Operador de crossover**"
   ]
  },
  {
   "cell_type": "code",
   "execution_count": 504,
   "id": "7d7a3b9c",
   "metadata": {},
   "outputs": [
    {
     "name": "stdout",
     "output_type": "stream",
     "text": [
      "Não escolhidos: {1, 2, 3, 4, 5, 6, 7, 8, 9, 10}\n",
      "Filho: []\n",
      "Current: 4\n",
      "Não escolhidos: {1, 2, 3, 5, 6, 7, 8, 9, 10}\n",
      "Filho: [4]\n",
      "Current: 10\n",
      "Não escolhidos: {1, 2, 3, 5, 6, 7, 8, 9}\n",
      "Filho: [4, 10]\n",
      "Current: 9\n",
      "Não escolhidos: {1, 2, 3, 5, 6, 7, 8}\n",
      "Filho: [4, 10, 9]\n",
      "Current: 8\n",
      "Não escolhidos: {1, 2, 3, 5, 6, 7}\n",
      "Filho: [4, 10, 9, 8]\n",
      "Current: 7\n",
      "Não escolhidos: {1, 2, 3, 5, 6}\n",
      "Filho: [4, 10, 9, 8, 7]\n",
      "Current: 5\n",
      "Não escolhidos: {1, 2, 3, 6}\n",
      "Filho: [4, 10, 9, 8, 7, 5]\n",
      "Current: 6\n",
      "Não escolhidos: {1, 2, 3}\n",
      "Filho: [4, 10, 9, 8, 7, 5, 6]\n",
      "Current: 2\n",
      "Não escolhidos: {1, 3}\n",
      "Filho: [4, 10, 9, 8, 7, 5, 6, 2]\n",
      "Current: 1\n"
     ]
    },
    {
     "data": {
      "text/plain": [
       "[4, 10, 9, 8, 7, 5, 6, 2, 1, 3]"
      ]
     },
     "execution_count": 504,
     "metadata": {},
     "output_type": "execute_result"
    }
   ],
   "source": [
    "# ERO\n",
    "def crossover(pai: list[int], mae:list[int], log = False) -> list[int]:\n",
    "  # selecionar aleatoriamente uma ligacao entre 2 genes, entre os pais, e adicionar a um novo filho\n",
    "  filho = []\n",
    "  nao_escolhidos = set(pai)\n",
    "\n",
    "  # 1º escolher um ponto de partida aleatorio\n",
    "  ponto_partida = current = random.choice([pai[0], mae[0]])\n",
    "  # 2º fazer as matrizes de adjacencia (incluindo os ultimos)\n",
    "  pai_adj = {pai[i]: {pai[i-1], pai[(i+1)%len(pai)]} for i in range(len(pai))}\n",
    "  mae_adj = {mae[i]: {mae[i-1], mae[(i+1)%len(mae)]} for i in range(len(mae))}\n",
    "  # 3º fazer uniao das matrizes de adjacencia\n",
    "  adj = {i: pai_adj[i] | mae_adj[i] for i in pai_adj}\n",
    "  # 4º fazer o filho\n",
    "  while len(nao_escolhidos) > 1:\n",
    "    if log: print(\"Não escolhidos:\", nao_escolhidos)\n",
    "    if log: print(\"Filho:\", filho)\n",
    "    if log: print(\"Current:\", current)\n",
    "    # adicionar o current ao filho\n",
    "    filho.append(current)\n",
    "    nao_escolhidos.remove(current)\n",
    "\n",
    "    # conseguir as escolhas possiveis\n",
    "    escolhas = adj[current] & nao_escolhidos\n",
    "    if len(escolhas) == 0:\n",
    "      # se nao houver escolhas, escolher um aleatorio entre os nao escolhidos\n",
    "      current = random.choice(list(nao_escolhidos))\n",
    "    else:\n",
    "      current = random.choice(list(escolhas))\n",
    "  # adicionar o filho que falta\n",
    "  filho.append(nao_escolhidos.pop())\n",
    "  return filho\n",
    "cruzamento = crossover# exemplo\n",
    "\n",
    "seed(1)\n",
    "filho = crossover(heuristica.as_cromo(), primeiro.as_cromo(), log=True)\n",
    "filho"
   ]
  },
  {
   "cell_type": "code",
   "execution_count": 505,
   "id": "29b11745",
   "metadata": {},
   "outputs": [
    {
     "data": {
      "image/png": "[encoded data removed]",
      "text/plain": [
       "<Figure size 640x480 with 1 Axes>"
      ]
     },
     "metadata": {
      "image/png": {
       "height": 480,
       "width": 640
      }
     },
     "output_type": "display_data"
    },
    {
     "data": {
      "text/plain": [
       "<Figure Size: (640 x 480)>"
      ]
     },
     "execution_count": 505,
     "metadata": {},
     "output_type": "execute_result"
    }
   ],
   "source": [
    "fromCromo(filho).horario.plot()"
   ]
  },
  {
   "cell_type": "code",
   "execution_count": 506,
   "id": "117c87a1",
   "metadata": {},
   "outputs": [
    {
     "data": {
      "text/html": [
       "<div>\n",
       "<style scoped>\n",
       "    .dataframe tbody tr th:only-of-type {\n",
       "        vertical-align: middle;\n",
       "    }\n",
       "\n",
       "    .dataframe tbody tr th {\n",
       "        vertical-align: top;\n",
       "    }\n",
       "\n",
       "    .dataframe thead th {\n",
       "        text-align: right;\n",
       "    }\n",
       "</style>\n",
       "<table border=\"1\" class=\"dataframe\">\n",
       "  <thead>\n",
       "    <tr style=\"text-align: right;\">\n",
       "      <th></th>\n",
       "      <th>M1</th>\n",
       "      <th>M2</th>\n",
       "      <th>M3</th>\n",
       "      <th>tempo_total</th>\n",
       "      <th>respeita_restricao</th>\n",
       "      <th>respeita_unique</th>\n",
       "    </tr>\n",
       "  </thead>\n",
       "  <tbody>\n",
       "    <tr>\n",
       "      <th>0</th>\n",
       "      <td>[T4(20), T10(40), T9(34), T8(38)]</td>\n",
       "      <td>[T7(46), T5(32), T6(29)]</td>\n",
       "      <td>[T2(33), T1(38), T3(36)]</td>\n",
       "      <td>132</td>\n",
       "      <td>False</td>\n",
       "      <td>True</td>\n",
       "    </tr>\n",
       "  </tbody>\n",
       "</table>\n",
       "</div>"
      ],
      "text/plain": [
       "                                  M1                        M2  \\\n",
       "0  [T4(20), T10(40), T9(34), T8(38)]  [T7(46), T5(32), T6(29)]   \n",
       "\n",
       "                         M3  tempo_total  respeita_restricao  respeita_unique  \n",
       "0  [T2(33), T1(38), T3(36)]          132               False             True  "
      ]
     },
     "execution_count": 506,
     "metadata": {},
     "output_type": "execute_result"
    }
   ],
   "source": [
    "create_df(fromCromo(filho))"
   ]
  },
  {
   "cell_type": "markdown",
   "id": "b8ad1732-2399-465b-953f-751613f14f1d",
   "metadata": {},
   "source": [
    "## Pergunta e)"
   ]
  },
  {
   "cell_type": "markdown",
   "id": "9ce5c147-5f49-47e0-89f4-bfa141efc34d",
   "metadata": {},
   "source": [
    "**Operador de Mutação**"
   ]
  },
  {
   "cell_type": "markdown",
   "id": "4674be76-200c-4e01-8168-b534bc02d748",
   "metadata": {},
   "source": [
    "### Mutação por troca"
   ]
  },
  {
   "cell_type": "code",
   "execution_count": 507,
   "id": "70e1fda4-98a9-4d2b-aaad-2a096e9f7af0",
   "metadata": {},
   "outputs": [],
   "source": [
    "def mutacao(crom, prob=.1):\n",
    "    crom = crom.copy()\n",
    "    # Verificar se a mutação será aplicada com base na probabilidade\n",
    "    if random.random() < prob:\n",
    "        # Selecionar aleatoriamente duas posições diferentes no cromossomo\n",
    "        ind1 = random.randint(0, len(crom)-1)\n",
    "        ind2 = random.randint(0, len(crom)-1)\n",
    "        \n",
    "        # Realizar a troca entre as duas posições\n",
    "        crom[ind1], crom[ind2] = crom[ind2], crom[ind1]\n",
    "    return crom"
   ]
  },
  {
   "cell_type": "code",
   "execution_count": 508,
   "id": "babe1239-e31d-40e3-ab84-361bc754b88c",
   "metadata": {},
   "outputs": [
    {
     "name": "stdout",
     "output_type": "stream",
     "text": [
      "[4, 7, 9, 8, 10, 5, 6, 2, 1, 3]\n"
     ]
    },
    {
     "data": {
      "text/html": [
       "<div>\n",
       "<style scoped>\n",
       "    .dataframe tbody tr th:only-of-type {\n",
       "        vertical-align: middle;\n",
       "    }\n",
       "\n",
       "    .dataframe tbody tr th {\n",
       "        vertical-align: top;\n",
       "    }\n",
       "\n",
       "    .dataframe thead th {\n",
       "        text-align: right;\n",
       "    }\n",
       "</style>\n",
       "<table border=\"1\" class=\"dataframe\">\n",
       "  <thead>\n",
       "    <tr style=\"text-align: right;\">\n",
       "      <th></th>\n",
       "      <th>M1</th>\n",
       "      <th>M2</th>\n",
       "      <th>M3</th>\n",
       "      <th>tempo_total</th>\n",
       "      <th>respeita_restricao</th>\n",
       "      <th>respeita_unique</th>\n",
       "    </tr>\n",
       "  </thead>\n",
       "  <tbody>\n",
       "    <tr>\n",
       "      <th>0</th>\n",
       "      <td>[T4(20), T7(46), T9(34), T8(38)]</td>\n",
       "      <td>[T10(40), T5(32), T6(29)]</td>\n",
       "      <td>[T2(33), T1(38), T3(36)]</td>\n",
       "      <td>138</td>\n",
       "      <td>False</td>\n",
       "      <td>True</td>\n",
       "    </tr>\n",
       "  </tbody>\n",
       "</table>\n",
       "</div>"
      ],
      "text/plain": [
       "                                 M1                         M2  \\\n",
       "0  [T4(20), T7(46), T9(34), T8(38)]  [T10(40), T5(32), T6(29)]   \n",
       "\n",
       "                         M3  tempo_total  respeita_restricao  respeita_unique  \n",
       "0  [T2(33), T1(38), T3(36)]          138               False             True  "
      ]
     },
     "execution_count": 508,
     "metadata": {},
     "output_type": "execute_result"
    }
   ],
   "source": [
    "seed(1)\n",
    "print(mut := mutacao(filho, prob = 1))\n",
    "create_df(fromCromo(mut))"
   ]
  },
  {
   "cell_type": "markdown",
   "id": "93493e7c-c428-48f9-8b4e-c61c7ed968b2",
   "metadata": {},
   "source": [
    "## Pergunta f)"
   ]
  },
  {
   "cell_type": "markdown",
   "id": "7ac11a04",
   "metadata": {},
   "source": [
    "TODO com texto melhor mas não pq o um cromo não é admissível se não tiver as tais 90 horas naquelas 3 tarefas especias (mas ele garante que tem tarefas unicas (as tarefas não são feitas duas vezes) e que têm todas tamanho 10 (como são unicas significa que todas as tarefas são feitas))\n",
    "\n",
    "Pra resolver vamos por uma penalizacao na funcao de avaliação (q é o tempo_total)"
   ]
  },
  {
   "cell_type": "code",
   "execution_count": 509,
   "id": "84b95dc0",
   "metadata": {},
   "outputs": [
    {
     "data": {
      "text/html": [
       "<div>\n",
       "<style scoped>\n",
       "    .dataframe tbody tr th:only-of-type {\n",
       "        vertical-align: middle;\n",
       "    }\n",
       "\n",
       "    .dataframe tbody tr th {\n",
       "        vertical-align: top;\n",
       "    }\n",
       "\n",
       "    .dataframe thead th {\n",
       "        text-align: right;\n",
       "    }\n",
       "</style>\n",
       "<table border=\"1\" class=\"dataframe\">\n",
       "  <thead>\n",
       "    <tr style=\"text-align: right;\">\n",
       "      <th></th>\n",
       "      <th>M1</th>\n",
       "      <th>M2</th>\n",
       "      <th>M3</th>\n",
       "      <th>tempo_total</th>\n",
       "      <th>respeita_restricao</th>\n",
       "      <th>aptidao</th>\n",
       "    </tr>\n",
       "  </thead>\n",
       "  <tbody>\n",
       "    <tr>\n",
       "      <th>0</th>\n",
       "      <td>[T1(38), T2(33), T3(36), T4(20)]</td>\n",
       "      <td>[T5(32), T6(29), T7(46)]</td>\n",
       "      <td>[T8(38), T9(34), T10(40)]</td>\n",
       "      <td>127</td>\n",
       "      <td>False</td>\n",
       "      <td>147</td>\n",
       "    </tr>\n",
       "    <tr>\n",
       "      <th>1</th>\n",
       "      <td>[T4(20), T6(29), T2(33), T9(34)]</td>\n",
       "      <td>[T3(36), T1(38), T7(46)]</td>\n",
       "      <td>[T5(32), T8(38), T10(40)]</td>\n",
       "      <td>120</td>\n",
       "      <td>True</td>\n",
       "      <td>120</td>\n",
       "    </tr>\n",
       "    <tr>\n",
       "      <th>2</th>\n",
       "      <td>[T4(20), T10(40), T9(34), T8(38)]</td>\n",
       "      <td>[T7(46), T5(32), T6(29)]</td>\n",
       "      <td>[T2(33), T1(38), T3(36)]</td>\n",
       "      <td>132</td>\n",
       "      <td>False</td>\n",
       "      <td>152</td>\n",
       "    </tr>\n",
       "    <tr>\n",
       "      <th>3</th>\n",
       "      <td>[T4(20), T7(46), T9(34), T8(38)]</td>\n",
       "      <td>[T10(40), T5(32), T6(29)]</td>\n",
       "      <td>[T2(33), T1(38), T3(36)]</td>\n",
       "      <td>138</td>\n",
       "      <td>False</td>\n",
       "      <td>158</td>\n",
       "    </tr>\n",
       "  </tbody>\n",
       "</table>\n",
       "</div>"
      ],
      "text/plain": [
       "                                  M1                         M2  \\\n",
       "0   [T1(38), T2(33), T3(36), T4(20)]   [T5(32), T6(29), T7(46)]   \n",
       "1   [T4(20), T6(29), T2(33), T9(34)]   [T3(36), T1(38), T7(46)]   \n",
       "2  [T4(20), T10(40), T9(34), T8(38)]   [T7(46), T5(32), T6(29)]   \n",
       "3   [T4(20), T7(46), T9(34), T8(38)]  [T10(40), T5(32), T6(29)]   \n",
       "\n",
       "                          M3  tempo_total  respeita_restricao  aptidao  \n",
       "0  [T8(38), T9(34), T10(40)]          127               False      147  \n",
       "1  [T5(32), T8(38), T10(40)]          120                True      120  \n",
       "2   [T2(33), T1(38), T3(36)]          132               False      152  \n",
       "3   [T2(33), T1(38), T3(36)]          138               False      158  "
      ]
     },
     "execution_count": 509,
     "metadata": {},
     "output_type": "execute_result"
    }
   ],
   "source": [
    "def aptidaoFunc(perm: list[int] | Permutation, penalizacao = 20):\n",
    "  if not isinstance(perm, Permutation): perm = fromCromo(cromo)\n",
    "  will_be_penalized = not respeitaRestricao(perm.horario, restricao)\n",
    "  return perm.horario.tempoTotal + (penalizacao if will_be_penalized else 0)\n",
    "\n",
    "def create_df_updated(permutations: list[Permutation] | Permutation, *args):\n",
    "  if isinstance(permutations, Permutation): return create_df([permutations, *args])\n",
    "  return pd.DataFrame({\n",
    "    \"M1\": [p.maquinas[0].tarefas for p in permutations],\n",
    "    \"M2\": [p.maquinas[1].tarefas for p in permutations],\n",
    "    \"M3\": [p.maquinas[2].tarefas for p in permutations],\n",
    "    \"tempo_total\": [p.horario.tempoTotal for p in permutations],\n",
    "    \"respeita_restricao\": [respeitaRestricao(p.horario, restricao) for p in permutations],\n",
    "    \"aptidao\": [aptidaoFunc(p) for p in permutations]\n",
    "  })\n",
    "create_df = create_df_updated # dangerous, remove if its making problems\n",
    "# exemploo\n",
    "create_df([primeiro, heuristica, fromCromo(filho), fromCromo(mut)])"
   ]
  },
  {
   "cell_type": "markdown",
   "id": "1b93e8af",
   "metadata": {},
   "source": [
    "# g)"
   ]
  },
  {
   "cell_type": "code",
   "execution_count": 510,
   "id": "722ae4bf",
   "metadata": {},
   "outputs": [],
   "source": [
    "@dc\n",
    "class Cromossomo:\n",
    "  crom: list[int]\n",
    "  __aptidao: int = None\n",
    "  __aptidao_calculada: bool = False\n",
    "  def respeitaRestricao(self) -> bool:\n",
    "    return respeitaRestricao(fromCromo(self.crom).horario, restricao)\n",
    "  @property\n",
    "  def aptidao(self) -> int:\n",
    "    if not self.__aptidao_calculada:\n",
    "      self.__aptidao = aptidaoFunc(fromCromo(self.crom))\n",
    "      self.__aptidao_calculada = True\n",
    "    return self.__aptidao\n",
    "  def __getitem__(self, i):\n",
    "    return self.crom[i]\n",
    "  def __len__(self):\n",
    "    return len(self.crom)\n",
    "\n",
    "@dc\n",
    "class Populacao:\n",
    "  curr_iter: int\n",
    "  cromos: list[list[int]] | list[Cromossomo]\n",
    "  def __post_init__(self):\n",
    "    if len(self.cromos) == 0 or isinstance(self.cromos[0], Cromossomo): return\n",
    "    self.cromos = [Cromossomo(c) for c in self.cromos]\n",
    "  def __getitem__(self, i):\n",
    "    return self.cromos[i]\n",
    "  def sort(self, reverse = False):\n",
    "    self.cromos.sort(key=lambda c: c.aptidao, reverse=reverse)\n",
    "    return self\n",
    "  def append(self, crom: Cromossomo | list[Cromossomo] | list[int] | list[list[int]]):\n",
    "    if isinstance(crom, Cromossomo): self.cromos.append(crom)\n",
    "    elif isinstance(crom[0], Cromossomo): self.cromos.extend(crom)\n",
    "    elif isinstance(crom[0], int): self.cromos.append(Cromossomo(crom))\n",
    "    elif isinstance(crom[0], list): self.cromos.extend([Cromossomo(c) for c in crom])\n",
    "    else: raise TypeError\n",
    "    return self"
   ]
  },
  {
   "cell_type": "code",
   "execution_count": 511,
   "id": "c05fd997",
   "metadata": {},
   "outputs": [
    {
     "name": "stdout",
     "output_type": "stream",
     "text": [
      "Cromo 1: [3, 2, 5, 1, 4, 6, 8, 10, 9, 7]\n",
      "Cromo 2: [2, 8, 1, 7, 4, 6, 9, 3, 10, 5]\n",
      "Cromo 3: [4, 2, 6, 1, 7, 8, 5, 9, 10, 3]\n",
      "Cromo 4: [1, 9, 4, 7, 8, 6, 2, 5, 10, 3]\n",
      "Cromo 5: [8, 5, 1, 4, 9, 10, 2, 3, 7, 6]\n",
      "Cromo 6: [6, 9, 7, 5, 10, 2, 3, 8, 4, 1]\n",
      "Cromo 7: [10, 1, 8, 2, 6, 4, 5, 3, 9, 7]\n",
      "Cromo 8: [9, 6, 2, 4, 10, 5, 1, 7, 8, 3]\n",
      "Cromo 9: [8, 1, 10, 9, 3, 5, 4, 6, 7, 2]\n",
      "Cromo 10: [9, 4, 1, 7, 2, 5, 6, 10, 3, 8]\n"
     ]
    }
   ],
   "source": [
    "# gerar populacao inicial\n",
    "def populacaoInicial(tamanho: int, log = False, tamanho_cromo = 10) -> list[list[int]]:\n",
    "  populacao = []\n",
    "  for i in range(tamanho):\n",
    "    cromo = random.sample(range(1, tamanho_cromo+1), tamanho_cromo)\n",
    "    if log: print(f\"Cromo {i+1}: {cromo}\")\n",
    "    populacao.append(cromo)\n",
    "  return Populacao(0, populacao)\n",
    "seed(1)\n",
    "populacao = populacaoInicial(10, log=True)"
   ]
  },
  {
   "cell_type": "code",
   "execution_count": 512,
   "id": "8ed676fd",
   "metadata": {},
   "outputs": [],
   "source": [
    "@dc\n",
    "class CriteriosDeParagem:\n",
    "  iter_max: int = None\n",
    "  no_improv_max: int = None\n",
    "  aptid_min: int = None\n",
    "  def __post_init__(self):\n",
    "    self.curr_iter = 0\n",
    "    self.no_improv_iter = 0\n",
    "    self.aptid_max = 0\n",
    "  def shouldStop(self) -> bool:\n",
    "    return (\n",
    "      (self.iter_max is not None and self.curr_iter >= self.iter_max) or\n",
    "      (self.no_improv_max is not None and self.no_improv_iter >= self.no_improv_max) or\n",
    "      (self.aptid_min is not None and self.aptid_max >= self.aptid_min)\n",
    "    )\n",
    "  def update(self, max_aptid_found: int):\n",
    "    self.curr_iter += 1\n",
    "    self.no_improv_iter += 1 if max_aptid_found > self.aptid_max else 0\n",
    "    self.aptid_max = max(self.aptid_max, max_aptid_found)\n",
    "\n"
   ]
  },
  {
   "cell_type": "code",
   "execution_count": 513,
   "id": "0b3c3df3",
   "metadata": {},
   "outputs": [],
   "source": [
    "# selecao proporcional à aptidao\n",
    "def selecao(populacao: Populacao) -> tuple[Cromossomo, Cromossomo]:\n",
    "  # calcular a atpidao comulativa\n",
    "  sumcum = list(itertools.accumulate([c.aptidao for c in populacao]))\n",
    "  # escolher um numero aleatorio entre 0 e a soma da aptidao\n",
    "  r = random.uniform(0, sumcum[-1])\n",
    "  # encontrar o indice do primeiro elemento maior que o numero aleatorio\n",
    "  ind1 = first_ind(sumcum, lambda x: x >= r)\n",
    "  # 2 vezes\n",
    "  r = random.uniform(0, sumcum[-1])\n",
    "  ind2 = first_ind(sumcum, lambda x: x >= r)\n",
    "\n",
    "  return populacao[ind1], populacao[ind2]\n",
    "  "
   ]
  },
  {
   "cell_type": "code",
   "execution_count": 514,
   "id": "b6d45416",
   "metadata": {},
   "outputs": [],
   "source": [
    "# Algoritmo Genético\n",
    "def algoritmoGenetico(\n",
    "  tamanho_populacao: int,\n",
    "  criterios_de_paragem: CriteriosDeParagem = CriteriosDeParagem(),\n",
    "  elitismo_tamanho: int = 1,\n",
    "  log = False\n",
    ") -> tuple[Cromossomo, list[Populacao]]:\n",
    "  ret = []\n",
    "  # 1. Gerar a população inicial\n",
    "  populacao: Populacao = populacaoInicial(tamanho_populacao).sort(reverse=False)\n",
    "  elites: list[Cromossomo] = [populacao[i] for i in range(elitismo_tamanho)]\n",
    "  # 2. popular uma nova população\n",
    "  while not criterios_de_paragem.shouldStop():\n",
    "    if log: print(f\"iteração {criterios_de_paragem.curr_iter}\")\n",
    "    new_populacao = Populacao(criterios_de_paragem.curr_iter + 1, [])\n",
    "    for _ in range(tamanho_populacao): # modelo geracional\n",
    "      # 2.1 seleção dos pais\n",
    "      pai, mae = selecao(populacao)\n",
    "      # 2.2 cruzamento\n",
    "      filho_l = cruzamento(pai, mae)\n",
    "      # 2.3. mutação\n",
    "      filho_l = mutacao(filho_l)\n",
    "      # 2.4. adicionar o filho à nova população\n",
    "      new_populacao.append(filho := Cromossomo(filho_l))\n",
    "    # 3. elitismo\n",
    "    # 3.1 obter o(s) menos abto(s)\n",
    "    new_populacao = sorted(new_populacao, key=lambda c: c.aptidao, reverse=False)\n",
    "    # 3.2 substituir o menos apto pelo mais apto da nova populacao\n",
    "    for i in range(elitismo_tamanho):\n",
    "      new_populacao[i] = elites[i]\n",
    "    # 3.3 atualizar os elites se necessário\n",
    "    [elites.append(new_populacao[i]) for i in range(elitismo_tamanho)]\n",
    "    elites = sorted(elites, key=lambda c: c.aptidao, reverse=False)[:elitismo_tamanho]\n",
    "\n",
    "    ret.append(populacao := new_populacao)\n",
    "    # 4. critérios de paragem\n",
    "    criterios_de_paragem.update(elites[0].aptidao)\n",
    "  return fromCromo(elites[0]), ret"
   ]
  },
  {
   "cell_type": "code",
   "execution_count": 515,
   "id": "822d31d4",
   "metadata": {},
   "outputs": [
    {
     "name": "stdout",
     "output_type": "stream",
     "text": [
      "iteração 0\n",
      "iteração 1\n",
      "iteração 2\n",
      "iteração 3\n",
      "iteração 4\n",
      "iteração 5\n",
      "iteração 6\n",
      "iteração 7\n",
      "iteração 8\n",
      "iteração 9\n"
     ]
    },
    {
     "data": {
      "image/png": "[encoded data removed]",
      "text/plain": [
       "<Figure size 640x480 with 1 Axes>"
      ]
     },
     "metadata": {
      "image/png": {
       "height": 480,
       "width": 640
      }
     },
     "output_type": "display_data"
    },
    {
     "data": {
      "text/plain": [
       "<Figure Size: (640 x 480)>"
      ]
     },
     "execution_count": 515,
     "metadata": {},
     "output_type": "execute_result"
    }
   ],
   "source": [
    "# exemplo\n",
    "seed(1)\n",
    "resultado = algoritmoGenetico(\n",
    "  tamanho_populacao=10,\n",
    "  criterios_de_paragem=CriteriosDeParagem(iter_max=10),\n",
    "  elitismo_tamanho=1,\n",
    "  log=True\n",
    ")\n",
    "resultado[0].horario.plot()"
   ]
  },
  {
   "cell_type": "code",
   "execution_count": 516,
   "id": "8d957496",
   "metadata": {},
   "outputs": [
    {
     "data": {
      "text/html": [
       "<div>\n",
       "<style scoped>\n",
       "    .dataframe tbody tr th:only-of-type {\n",
       "        vertical-align: middle;\n",
       "    }\n",
       "\n",
       "    .dataframe tbody tr th {\n",
       "        vertical-align: top;\n",
       "    }\n",
       "\n",
       "    .dataframe thead th {\n",
       "        text-align: right;\n",
       "    }\n",
       "</style>\n",
       "<table border=\"1\" class=\"dataframe\">\n",
       "  <thead>\n",
       "    <tr style=\"text-align: right;\">\n",
       "      <th></th>\n",
       "      <th>M1</th>\n",
       "      <th>M2</th>\n",
       "      <th>M3</th>\n",
       "      <th>tempo_total</th>\n",
       "      <th>respeita_restricao</th>\n",
       "      <th>aptidao</th>\n",
       "    </tr>\n",
       "  </thead>\n",
       "  <tbody>\n",
       "    <tr>\n",
       "      <th>0</th>\n",
       "      <td>[T9(34), T4(20), T1(38), T7(46)]</td>\n",
       "      <td>[T2(33), T5(32), T6(29)]</td>\n",
       "      <td>[T10(40), T3(36), T8(38)]</td>\n",
       "      <td>138</td>\n",
       "      <td>True</td>\n",
       "      <td>138</td>\n",
       "    </tr>\n",
       "  </tbody>\n",
       "</table>\n",
       "</div>"
      ],
      "text/plain": [
       "                                 M1                        M2  \\\n",
       "0  [T9(34), T4(20), T1(38), T7(46)]  [T2(33), T5(32), T6(29)]   \n",
       "\n",
       "                          M3  tempo_total  respeita_restricao  aptidao  \n",
       "0  [T10(40), T3(36), T8(38)]          138                True      138  "
      ]
     },
     "execution_count": 516,
     "metadata": {},
     "output_type": "execute_result"
    }
   ],
   "source": [
    "create_df_updated(resultado[0])"
   ]
  }
 ],
 "metadata": {
  "kernelspec": {
   "display_name": "Python 3 (ipykernel)",
   "language": "python",
   "name": "python3"
  },
  "language_info": {
   "codemirror_mode": {
    "name": "ipython",
    "version": 3
   },
   "file_extension": ".py",
   "mimetype": "text/x-python",
   "name": "python",
   "nbconvert_exporter": "python",
   "pygments_lexer": "ipython3",
   "version": "3.10.9"
  }
 },
 "nbformat": 4,
 "nbformat_minor": 5
}
